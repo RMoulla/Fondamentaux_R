{
  "nbformat": 4,
  "nbformat_minor": 0,
  "metadata": {
    "colab": {
      "provenance": [],
      "authorship_tag": "ABX9TyONGVNgKTc6wh0qG1wMbJwS",
      "include_colab_link": true
    },
    "kernelspec": {
      "name": "ir",
      "display_name": "R"
    },
    "language_info": {
      "name": "R"
    }
  },
  "cells": [
    {
      "cell_type": "markdown",
      "metadata": {
        "id": "view-in-github",
        "colab_type": "text"
      },
      "source": [
        "<a href=\"https://colab.research.google.com/github/RMoulla/Fondamentaux_R/blob/main/Corrig%C3%A9_Fondamentaux_R.ipynb\" target=\"_parent\"><img src=\"https://colab.research.google.com/assets/colab-badge.svg\" alt=\"Open In Colab\"/></a>"
      ]
    },
    {
      "cell_type": "markdown",
      "source": [
        "# TP – Analyse d’un fichier d’employés avec R"
      ],
      "metadata": {
        "id": "71plqy01xHvz"
      }
    },
    {
      "cell_type": "markdown",
      "source": [
        "1. Créer quatre vecteurs contenant les données suivantes"
      ],
      "metadata": {
        "id": "i34lTEQIxNCm"
      }
    },
    {
      "cell_type": "code",
      "execution_count": 8,
      "metadata": {
        "id": "J6rbbd_uw8n_"
      },
      "outputs": [],
      "source": [
        "# Création des données de base\n",
        "noms <- c(\"Alice\", \"Bruno\", \"Chloé\", \"David\")\n",
        "ages <- c(34, 52, 41, 29)\n",
        "departements <- c(\"RH\", \"IT\", \"Comptabilité\", \"IT\")\n",
        "salaires <- c(2800, 3200, 2500, 3000)"
      ]
    },
    {
      "cell_type": "markdown",
      "source": [
        "2. Créer le data frame"
      ],
      "metadata": {
        "id": "MhTW4WZuxgMy"
      }
    },
    {
      "cell_type": "code",
      "source": [
        "# Création du tableau employés\n",
        "employes <- data.frame(\n",
        "  nom = noms,\n",
        "  age = ages,\n",
        "  departement = departements,\n",
        "  salaire = salaires\n",
        ")\n",
        "employes"
      ],
      "metadata": {
        "colab": {
          "base_uri": "https://localhost:8080/",
          "height": 223
        },
        "id": "7NNPP3O9xhKy",
        "outputId": "afb2a3a1-3e91-4477-9727-5ef54896c0fa"
      },
      "execution_count": 9,
      "outputs": [
        {
          "output_type": "display_data",
          "data": {
            "text/html": [
              "<table class=\"dataframe\">\n",
              "<caption>A data.frame: 4 × 4</caption>\n",
              "<thead>\n",
              "\t<tr><th scope=col>nom</th><th scope=col>age</th><th scope=col>departement</th><th scope=col>salaire</th></tr>\n",
              "\t<tr><th scope=col>&lt;chr&gt;</th><th scope=col>&lt;dbl&gt;</th><th scope=col>&lt;chr&gt;</th><th scope=col>&lt;dbl&gt;</th></tr>\n",
              "</thead>\n",
              "<tbody>\n",
              "\t<tr><td>Alice</td><td>34</td><td>RH          </td><td>2800</td></tr>\n",
              "\t<tr><td>Bruno</td><td>52</td><td>IT          </td><td>3200</td></tr>\n",
              "\t<tr><td>Chloé</td><td>41</td><td>Comptabilité</td><td>2500</td></tr>\n",
              "\t<tr><td>David</td><td>29</td><td>IT          </td><td>3000</td></tr>\n",
              "</tbody>\n",
              "</table>\n"
            ],
            "text/markdown": "\nA data.frame: 4 × 4\n\n| nom &lt;chr&gt; | age &lt;dbl&gt; | departement &lt;chr&gt; | salaire &lt;dbl&gt; |\n|---|---|---|---|\n| Alice | 34 | RH           | 2800 |\n| Bruno | 52 | IT           | 3200 |\n| Chloé | 41 | Comptabilité | 2500 |\n| David | 29 | IT           | 3000 |\n\n",
            "text/latex": "A data.frame: 4 × 4\n\\begin{tabular}{llll}\n nom & age & departement & salaire\\\\\n <chr> & <dbl> & <chr> & <dbl>\\\\\n\\hline\n\t Alice & 34 & RH           & 2800\\\\\n\t Bruno & 52 & IT           & 3200\\\\\n\t Chloé & 41 & Comptabilité & 2500\\\\\n\t David & 29 & IT           & 3000\\\\\n\\end{tabular}\n",
            "text/plain": [
              "  nom   age departement  salaire\n",
              "1 Alice 34  RH           2800   \n",
              "2 Bruno 52  IT           3200   \n",
              "3 Chloé 41  Comptabilité 2500   \n",
              "4 David 29  IT           3000   "
            ]
          },
          "metadata": {}
        }
      ]
    },
    {
      "cell_type": "markdown",
      "source": [
        "3. Boucle for pour commenter les salaires"
      ],
      "metadata": {
        "id": "CoU8opIFxuky"
      }
    },
    {
      "cell_type": "code",
      "source": [
        "# Message selon le niveau de salaire\n",
        "for (i in 1:nrow(employes)) {\n",
        "  nom <- employes$nom[i]\n",
        "  salaire <- employes$salaire[i]\n",
        "\n",
        "  if (salaire > 3000) {\n",
        "    message <- paste(nom, \"a un salaire élevé.\")\n",
        "  } else {\n",
        "    message <- paste(nom, \"a un salaire modéré.\")\n",
        "  }\n",
        "\n",
        "  print(message)\n",
        "}"
      ],
      "metadata": {
        "colab": {
          "base_uri": "https://localhost:8080/"
        },
        "id": "Ea_NLpKDxwuB",
        "outputId": "5cbcec2b-1bb3-4a52-dc5a-040747e981e3"
      },
      "execution_count": 4,
      "outputs": [
        {
          "output_type": "stream",
          "name": "stdout",
          "text": [
            "[1] \"Alice a un salaire modéré.\"\n",
            "[1] \"Bruno a un salaire élevé.\"\n",
            "[1] \"Chloé a un salaire modéré.\"\n",
            "[1] \"David a un salaire modéré.\"\n"
          ]
        }
      ]
    },
    {
      "cell_type": "markdown",
      "source": [
        "4. Boucle pour détecter les employés proches de la retraite"
      ],
      "metadata": {
        "id": "dJ_olKK3x12G"
      }
    },
    {
      "cell_type": "code",
      "source": [
        "# Message si l'âge est supérieur ou égal à 50\n",
        "for (i in 1:nrow(employes)) {\n",
        "  nom <- employes$nom[i]\n",
        "  age <- employes$age[i]\n",
        "\n",
        "  if (age >= 50) {\n",
        "    print(paste(nom, \"est proche de la retraite.\"))\n",
        "  }\n",
        "}"
      ],
      "metadata": {
        "colab": {
          "base_uri": "https://localhost:8080/"
        },
        "id": "gUlGNtBqx5oj",
        "outputId": "f50ec20f-bbca-455b-e8b1-d616e145a6e1"
      },
      "execution_count": 5,
      "outputs": [
        {
          "output_type": "stream",
          "name": "stdout",
          "text": [
            "[1] \"Bruno est proche de la retraite.\"\n"
          ]
        }
      ]
    },
    {
      "cell_type": "markdown",
      "source": [
        "5. Créer le vecteur `niveau`"
      ],
      "metadata": {
        "id": "Xm671qdCx8s6"
      }
    },
    {
      "cell_type": "code",
      "source": [
        "# Initialisation du vecteur niveau\n",
        "niveau <- c()\n",
        "\n",
        "# Remplissage selon le salaire\n",
        "for (i in 1:nrow(employes)) {\n",
        "  salaire <- employes$salaire[i]\n",
        "\n",
        "  if (salaire < 2700) {\n",
        "    niveau[i] <- \"Faible\"\n",
        "  } else if (salaire <= 3100) {\n",
        "    niveau[i] <- \"Moyen\"\n",
        "  } else {\n",
        "    niveau[i] <- \"Élevé\"\n",
        "  }\n",
        "}"
      ],
      "metadata": {
        "id": "nYkEZVqQyCg2"
      },
      "execution_count": 6,
      "outputs": []
    },
    {
      "cell_type": "markdown",
      "source": [
        "6. Ajouter la colonne au data frame"
      ],
      "metadata": {
        "id": "zdl1CYW5yF5P"
      }
    },
    {
      "cell_type": "code",
      "source": [
        "# Ajout de la colonne niveau\n",
        "employes$niveau <- niveau\n",
        "\n",
        "# Affichage final\n",
        "print(employes)"
      ],
      "metadata": {
        "colab": {
          "base_uri": "https://localhost:8080/"
        },
        "id": "EX1dKNbhyJAd",
        "outputId": "ccbfa926-ff02-467d-ff0c-08d89d186c1a"
      },
      "execution_count": 7,
      "outputs": [
        {
          "output_type": "stream",
          "name": "stdout",
          "text": [
            "    nom age  departement salaire niveau\n",
            "1 Alice  34           RH    2800  Moyen\n",
            "2 Bruno  52           IT    3200  Élevé\n",
            "3 Chloé  41 Comptabilité    2500 Faible\n",
            "4 David  29           IT    3000  Moyen\n"
          ]
        }
      ]
    }
  ]
}