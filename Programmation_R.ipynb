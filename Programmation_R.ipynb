{
  "nbformat": 4,
  "nbformat_minor": 0,
  "metadata": {
    "colab": {
      "provenance": [],
      "authorship_tag": "ABX9TyOI+Z47CaySAriZDDFBeMVJ",
      "include_colab_link": true
    },
    "kernelspec": {
      "name": "ir",
      "display_name": "R"
    },
    "language_info": {
      "name": "R"
    }
  },
  "cells": [
    {
      "cell_type": "markdown",
      "metadata": {
        "id": "view-in-github",
        "colab_type": "text"
      },
      "source": [
        "<a href=\"https://colab.research.google.com/github/RMoulla/Fondamentaux_R/blob/main/Programmation_R.ipynb\" target=\"_parent\"><img src=\"https://colab.research.google.com/assets/colab-badge.svg\" alt=\"Open In Colab\"/></a>"
      ]
    },
    {
      "cell_type": "markdown",
      "source": [
        "# **Fondamentaux de R**"
      ],
      "metadata": {
        "id": "q5fvMqTpr8wk"
      }
    },
    {
      "cell_type": "markdown",
      "source": [
        "## Scalaires"
      ],
      "metadata": {
        "id": "ZN_mSxhhyMHt"
      }
    },
    {
      "cell_type": "code",
      "execution_count": null,
      "metadata": {
        "colab": {
          "base_uri": "https://localhost:8080/",
          "height": 34
        },
        "id": "WDfhtv4dr3J1",
        "outputId": "708a20d5-c8a5-41d1-9b80-c4bf556561aa"
      },
      "outputs": [
        {
          "output_type": "display_data",
          "data": {
            "text/html": [
              "10"
            ],
            "text/markdown": "10",
            "text/latex": "10",
            "text/plain": [
              "[1] 10"
            ]
          },
          "metadata": {}
        }
      ],
      "source": [
        "# Assignation\n",
        "x <- 10\n",
        "x"
      ]
    },
    {
      "cell_type": "code",
      "source": [
        "# Assignation\n",
        "y = 20\n",
        "y"
      ],
      "metadata": {
        "colab": {
          "base_uri": "https://localhost:8080/",
          "height": 34
        },
        "id": "eoqxQX_SykyC",
        "outputId": "bd3ca048-60fe-433a-ec49-4e5ccf1bc41a"
      },
      "execution_count": null,
      "outputs": [
        {
          "output_type": "display_data",
          "data": {
            "text/html": [
              "20"
            ],
            "text/markdown": "20",
            "text/latex": "20",
            "text/plain": [
              "[1] 20"
            ]
          },
          "metadata": {}
        }
      ]
    },
    {
      "cell_type": "code",
      "source": [
        "# Classe d'un objet\n",
        "class(x)"
      ],
      "metadata": {
        "colab": {
          "base_uri": "https://localhost:8080/",
          "height": 34
        },
        "id": "1W4UV6doy2dR",
        "outputId": "2b4fa71b-434a-41e4-b45d-3bfb454a44c1"
      },
      "execution_count": null,
      "outputs": [
        {
          "output_type": "display_data",
          "data": {
            "text/html": [
              "'numeric'"
            ],
            "text/markdown": "'numeric'",
            "text/latex": "'numeric'",
            "text/plain": [
              "[1] \"numeric\""
            ]
          },
          "metadata": {}
        }
      ]
    },
    {
      "cell_type": "code",
      "source": [
        "# Addition\n",
        "x + y"
      ],
      "metadata": {
        "colab": {
          "base_uri": "https://localhost:8080/",
          "height": 34
        },
        "id": "kX_kOsF3y8rB",
        "outputId": "4b597797-0fb6-459d-fa78-16fe926b5387"
      },
      "execution_count": null,
      "outputs": [
        {
          "output_type": "display_data",
          "data": {
            "text/html": [
              "30"
            ],
            "text/markdown": "30",
            "text/latex": "30",
            "text/plain": [
              "[1] 30"
            ]
          },
          "metadata": {}
        }
      ]
    },
    {
      "cell_type": "markdown",
      "source": [
        "## Vecteurs"
      ],
      "metadata": {
        "id": "JSmD8V6szUwa"
      }
    },
    {
      "cell_type": "code",
      "source": [
        "# Créer un vecteur avec c\n",
        "vec <- c(12, 20, 40, 18)\n",
        "vec"
      ],
      "metadata": {
        "colab": {
          "base_uri": "https://localhost:8080/",
          "height": 34
        },
        "id": "-GbiGiE4zZmx",
        "outputId": "2af7303e-3ce0-4a72-dcec-ee4c38665fbf"
      },
      "execution_count": null,
      "outputs": [
        {
          "output_type": "display_data",
          "data": {
            "text/html": [
              "<style>\n",
              ".list-inline {list-style: none; margin:0; padding: 0}\n",
              ".list-inline>li {display: inline-block}\n",
              ".list-inline>li:not(:last-child)::after {content: \"\\00b7\"; padding: 0 .5ex}\n",
              "</style>\n",
              "<ol class=list-inline><li>12</li><li>20</li><li>40</li><li>18</li></ol>\n"
            ],
            "text/markdown": "1. 12\n2. 20\n3. 40\n4. 18\n\n\n",
            "text/latex": "\\begin{enumerate*}\n\\item 12\n\\item 20\n\\item 40\n\\item 18\n\\end{enumerate*}\n",
            "text/plain": [
              "[1] 12 20 40 18"
            ]
          },
          "metadata": {}
        }
      ]
    },
    {
      "cell_type": "code",
      "source": [
        "# Créer un vecteur séquentiel\n",
        "vec_seq <- 1:5\n",
        "vec_seq"
      ],
      "metadata": {
        "colab": {
          "base_uri": "https://localhost:8080/",
          "height": 34
        },
        "id": "noj_fskOzrdq",
        "outputId": "b9110cfd-2648-48c0-d9e7-1326218b1b1f"
      },
      "execution_count": null,
      "outputs": [
        {
          "output_type": "display_data",
          "data": {
            "text/html": [
              "<style>\n",
              ".list-inline {list-style: none; margin:0; padding: 0}\n",
              ".list-inline>li {display: inline-block}\n",
              ".list-inline>li:not(:last-child)::after {content: \"\\00b7\"; padding: 0 .5ex}\n",
              "</style>\n",
              "<ol class=list-inline><li>1</li><li>2</li><li>3</li><li>4</li><li>5</li></ol>\n"
            ],
            "text/markdown": "1. 1\n2. 2\n3. 3\n4. 4\n5. 5\n\n\n",
            "text/latex": "\\begin{enumerate*}\n\\item 1\n\\item 2\n\\item 3\n\\item 4\n\\item 5\n\\end{enumerate*}\n",
            "text/plain": [
              "[1] 1 2 3 4 5"
            ]
          },
          "metadata": {}
        }
      ]
    },
    {
      "cell_type": "code",
      "source": [
        "# Créer un vecteur séquentiel avec seq\n",
        "vec_seq2 <- seq(1, 10, 2)\n",
        "vec_seq2"
      ],
      "metadata": {
        "colab": {
          "base_uri": "https://localhost:8080/",
          "height": 34
        },
        "id": "v-XE4l3Uz3TE",
        "outputId": "8ce24a33-470d-410c-c73c-0b43f3c73a90"
      },
      "execution_count": null,
      "outputs": [
        {
          "output_type": "display_data",
          "data": {
            "text/html": [
              "<style>\n",
              ".list-inline {list-style: none; margin:0; padding: 0}\n",
              ".list-inline>li {display: inline-block}\n",
              ".list-inline>li:not(:last-child)::after {content: \"\\00b7\"; padding: 0 .5ex}\n",
              "</style>\n",
              "<ol class=list-inline><li>1</li><li>3</li><li>5</li><li>7</li><li>9</li></ol>\n"
            ],
            "text/markdown": "1. 1\n2. 3\n3. 5\n4. 7\n5. 9\n\n\n",
            "text/latex": "\\begin{enumerate*}\n\\item 1\n\\item 3\n\\item 5\n\\item 7\n\\item 9\n\\end{enumerate*}\n",
            "text/plain": [
              "[1] 1 3 5 7 9"
            ]
          },
          "metadata": {}
        }
      ]
    },
    {
      "cell_type": "code",
      "source": [
        "# Accéder à un élément d'un vecteur\n",
        "vec[1]"
      ],
      "metadata": {
        "colab": {
          "base_uri": "https://localhost:8080/",
          "height": 34
        },
        "id": "NVtuv5Y70TSb",
        "outputId": "3d0bc858-4712-4dd7-bc18-b2c4097871a4"
      },
      "execution_count": null,
      "outputs": [
        {
          "output_type": "display_data",
          "data": {
            "text/html": [
              "12"
            ],
            "text/markdown": "12",
            "text/latex": "12",
            "text/plain": [
              "[1] 12"
            ]
          },
          "metadata": {}
        }
      ]
    },
    {
      "cell_type": "code",
      "source": [
        "# Accéder à une séquence d'un vecteur\n",
        "vec[1:3]"
      ],
      "metadata": {
        "colab": {
          "base_uri": "https://localhost:8080/",
          "height": 34
        },
        "id": "k2DJgWBd0nVp",
        "outputId": "2219bb03-35df-4a62-af31-3a8f32cfd81e"
      },
      "execution_count": null,
      "outputs": [
        {
          "output_type": "display_data",
          "data": {
            "text/html": [
              "<style>\n",
              ".list-inline {list-style: none; margin:0; padding: 0}\n",
              ".list-inline>li {display: inline-block}\n",
              ".list-inline>li:not(:last-child)::after {content: \"\\00b7\"; padding: 0 .5ex}\n",
              "</style>\n",
              "<ol class=list-inline><li>12</li><li>20</li><li>40</li></ol>\n"
            ],
            "text/markdown": "1. 12\n2. 20\n3. 40\n\n\n",
            "text/latex": "\\begin{enumerate*}\n\\item 12\n\\item 20\n\\item 40\n\\end{enumerate*}\n",
            "text/plain": [
              "[1] 12 20 40"
            ]
          },
          "metadata": {}
        }
      ]
    },
    {
      "cell_type": "code",
      "source": [
        "# Accéder à un ensemble d'éléments d'un vecteur\n",
        "vec[c(1,3)]"
      ],
      "metadata": {
        "colab": {
          "base_uri": "https://localhost:8080/",
          "height": 34
        },
        "id": "nxFS4Cmc3yIr",
        "outputId": "eece6d62-47a6-4bbe-dcae-433c9d69e49e"
      },
      "execution_count": null,
      "outputs": [
        {
          "output_type": "display_data",
          "data": {
            "text/html": [
              "<style>\n",
              ".list-inline {list-style: none; margin:0; padding: 0}\n",
              ".list-inline>li {display: inline-block}\n",
              ".list-inline>li:not(:last-child)::after {content: \"\\00b7\"; padding: 0 .5ex}\n",
              "</style>\n",
              "<ol class=list-inline><li>12</li><li>40</li></ol>\n"
            ],
            "text/markdown": "1. 12\n2. 40\n\n\n",
            "text/latex": "\\begin{enumerate*}\n\\item 12\n\\item 40\n\\end{enumerate*}\n",
            "text/plain": [
              "[1] 12 40"
            ]
          },
          "metadata": {}
        }
      ]
    },
    {
      "cell_type": "code",
      "source": [
        "# Accéder à tous les éléments sauf un\n",
        "vec[-1]"
      ],
      "metadata": {
        "colab": {
          "base_uri": "https://localhost:8080/",
          "height": 34
        },
        "id": "vSrJ0oBS4TEo",
        "outputId": "09822e7b-8f59-4122-e8af-3c5b6289d7c6"
      },
      "execution_count": null,
      "outputs": [
        {
          "output_type": "display_data",
          "data": {
            "text/html": [
              "<style>\n",
              ".list-inline {list-style: none; margin:0; padding: 0}\n",
              ".list-inline>li {display: inline-block}\n",
              ".list-inline>li:not(:last-child)::after {content: \"\\00b7\"; padding: 0 .5ex}\n",
              "</style>\n",
              "<ol class=list-inline><li>20</li><li>40</li><li>18</li></ol>\n"
            ],
            "text/markdown": "1. 20\n2. 40\n3. 18\n\n\n",
            "text/latex": "\\begin{enumerate*}\n\\item 20\n\\item 40\n\\item 18\n\\end{enumerate*}\n",
            "text/plain": [
              "[1] 20 40 18"
            ]
          },
          "metadata": {}
        }
      ]
    },
    {
      "cell_type": "code",
      "source": [
        "# Accéder à des éléments avec une condition\n",
        "vec[vec > 15]"
      ],
      "metadata": {
        "colab": {
          "base_uri": "https://localhost:8080/",
          "height": 34
        },
        "id": "RhtivoOu4otv",
        "outputId": "3a603226-5bb5-41ef-94b6-c4231d42f0c5"
      },
      "execution_count": null,
      "outputs": [
        {
          "output_type": "display_data",
          "data": {
            "text/html": [
              "<style>\n",
              ".list-inline {list-style: none; margin:0; padding: 0}\n",
              ".list-inline>li {display: inline-block}\n",
              ".list-inline>li:not(:last-child)::after {content: \"\\00b7\"; padding: 0 .5ex}\n",
              "</style>\n",
              "<ol class=list-inline><li>20</li><li>40</li><li>18</li></ol>\n"
            ],
            "text/markdown": "1. 20\n2. 40\n3. 18\n\n\n",
            "text/latex": "\\begin{enumerate*}\n\\item 20\n\\item 40\n\\item 18\n\\end{enumerate*}\n",
            "text/plain": [
              "[1] 20 40 18"
            ]
          },
          "metadata": {}
        }
      ]
    },
    {
      "cell_type": "code",
      "source": [
        "# Puissance d'un vecteur\n",
        "vec^2"
      ],
      "metadata": {
        "colab": {
          "base_uri": "https://localhost:8080/",
          "height": 34
        },
        "id": "S2Gyqysm5M7M",
        "outputId": "bee77541-bc49-4eeb-bde8-d468ea690404"
      },
      "execution_count": null,
      "outputs": [
        {
          "output_type": "display_data",
          "data": {
            "text/html": [
              "<style>\n",
              ".list-inline {list-style: none; margin:0; padding: 0}\n",
              ".list-inline>li {display: inline-block}\n",
              ".list-inline>li:not(:last-child)::after {content: \"\\00b7\"; padding: 0 .5ex}\n",
              "</style>\n",
              "<ol class=list-inline><li>144</li><li>400</li><li>1600</li><li>324</li></ol>\n"
            ],
            "text/markdown": "1. 144\n2. 400\n3. 1600\n4. 324\n\n\n",
            "text/latex": "\\begin{enumerate*}\n\\item 144\n\\item 400\n\\item 1600\n\\item 324\n\\end{enumerate*}\n",
            "text/plain": [
              "[1]  144  400 1600  324"
            ]
          },
          "metadata": {}
        }
      ]
    },
    {
      "cell_type": "code",
      "source": [
        "# Addition de deux vecteur\n",
        "vec1 = 1:5\n",
        "vec2 = 6:10\n",
        "\n",
        "vec1 + vec2"
      ],
      "metadata": {
        "colab": {
          "base_uri": "https://localhost:8080/",
          "height": 34
        },
        "id": "cEWcaoMo5ZDD",
        "outputId": "f6c65a58-46ba-4866-fc6a-2e6d2f8f64be"
      },
      "execution_count": null,
      "outputs": [
        {
          "output_type": "display_data",
          "data": {
            "text/html": [
              "<style>\n",
              ".list-inline {list-style: none; margin:0; padding: 0}\n",
              ".list-inline>li {display: inline-block}\n",
              ".list-inline>li:not(:last-child)::after {content: \"\\00b7\"; padding: 0 .5ex}\n",
              "</style>\n",
              "<ol class=list-inline><li>7</li><li>9</li><li>11</li><li>13</li><li>15</li></ol>\n"
            ],
            "text/markdown": "1. 7\n2. 9\n3. 11\n4. 13\n5. 15\n\n\n",
            "text/latex": "\\begin{enumerate*}\n\\item 7\n\\item 9\n\\item 11\n\\item 13\n\\item 15\n\\end{enumerate*}\n",
            "text/plain": [
              "[1]  7  9 11 13 15"
            ]
          },
          "metadata": {}
        }
      ]
    },
    {
      "cell_type": "code",
      "source": [
        "# Multiplication de deux vecteurs\n",
        "vec1*vec2"
      ],
      "metadata": {
        "colab": {
          "base_uri": "https://localhost:8080/",
          "height": 34
        },
        "id": "O7fFYTlE50gc",
        "outputId": "99702ed0-3453-4e51-c15c-439fed9ce51b"
      },
      "execution_count": null,
      "outputs": [
        {
          "output_type": "display_data",
          "data": {
            "text/html": [
              "<style>\n",
              ".list-inline {list-style: none; margin:0; padding: 0}\n",
              ".list-inline>li {display: inline-block}\n",
              ".list-inline>li:not(:last-child)::after {content: \"\\00b7\"; padding: 0 .5ex}\n",
              "</style>\n",
              "<ol class=list-inline><li>6</li><li>14</li><li>24</li><li>36</li><li>50</li></ol>\n"
            ],
            "text/markdown": "1. 6\n2. 14\n3. 24\n4. 36\n5. 50\n\n\n",
            "text/latex": "\\begin{enumerate*}\n\\item 6\n\\item 14\n\\item 24\n\\item 36\n\\item 50\n\\end{enumerate*}\n",
            "text/plain": [
              "[1]  6 14 24 36 50"
            ]
          },
          "metadata": {}
        }
      ]
    },
    {
      "cell_type": "code",
      "source": [
        "# Broadcasting\n",
        "vec1 + 1"
      ],
      "metadata": {
        "colab": {
          "base_uri": "https://localhost:8080/",
          "height": 34
        },
        "id": "tA1HvDLS6TgE",
        "outputId": "f714ae17-62cc-40d4-d741-b964fcfb7ba1"
      },
      "execution_count": null,
      "outputs": [
        {
          "output_type": "display_data",
          "data": {
            "text/html": [
              "<style>\n",
              ".list-inline {list-style: none; margin:0; padding: 0}\n",
              ".list-inline>li {display: inline-block}\n",
              ".list-inline>li:not(:last-child)::after {content: \"\\00b7\"; padding: 0 .5ex}\n",
              "</style>\n",
              "<ol class=list-inline><li>2</li><li>3</li><li>4</li><li>5</li><li>6</li></ol>\n"
            ],
            "text/markdown": "1. 2\n2. 3\n3. 4\n4. 5\n5. 6\n\n\n",
            "text/latex": "\\begin{enumerate*}\n\\item 2\n\\item 3\n\\item 4\n\\item 5\n\\item 6\n\\end{enumerate*}\n",
            "text/plain": [
              "[1] 2 3 4 5 6"
            ]
          },
          "metadata": {}
        }
      ]
    },
    {
      "cell_type": "code",
      "source": [
        "# Longeur d'un vecteur\n",
        "length(vec)"
      ],
      "metadata": {
        "colab": {
          "base_uri": "https://localhost:8080/",
          "height": 34
        },
        "id": "7hIXmlsU60G7",
        "outputId": "eb35eda7-8320-47d6-e8ef-8e55a82a8192"
      },
      "execution_count": null,
      "outputs": [
        {
          "output_type": "display_data",
          "data": {
            "text/html": [
              "4"
            ],
            "text/markdown": "4",
            "text/latex": "4",
            "text/plain": [
              "[1] 4"
            ]
          },
          "metadata": {}
        }
      ]
    },
    {
      "cell_type": "code",
      "source": [
        "# Somme des éléments d'un vecteur\n",
        "sum(vec)"
      ],
      "metadata": {
        "colab": {
          "base_uri": "https://localhost:8080/",
          "height": 34
        },
        "id": "ossbCpTm67pi",
        "outputId": "43a52693-db33-491f-ba6e-ec3564e314f5"
      },
      "execution_count": null,
      "outputs": [
        {
          "output_type": "display_data",
          "data": {
            "text/html": [
              "90"
            ],
            "text/markdown": "90",
            "text/latex": "90",
            "text/plain": [
              "[1] 90"
            ]
          },
          "metadata": {}
        }
      ]
    },
    {
      "cell_type": "code",
      "source": [
        "# Maximum d'un vecteur\n",
        "max(vec)"
      ],
      "metadata": {
        "colab": {
          "base_uri": "https://localhost:8080/",
          "height": 34
        },
        "id": "rx9H2KOx7ELg",
        "outputId": "c439eaa9-733a-4a98-c019-e6a6939409da"
      },
      "execution_count": null,
      "outputs": [
        {
          "output_type": "display_data",
          "data": {
            "text/html": [
              "40"
            ],
            "text/markdown": "40",
            "text/latex": "40",
            "text/plain": [
              "[1] 40"
            ]
          },
          "metadata": {}
        }
      ]
    },
    {
      "cell_type": "code",
      "source": [
        "# minimum d'un vecteur\n",
        "min(vec)"
      ],
      "metadata": {
        "colab": {
          "base_uri": "https://localhost:8080/",
          "height": 34
        },
        "id": "-5Gi2gik7I2T",
        "outputId": "18325fd0-8d9d-4fc6-a09f-ec1c74a9fb01"
      },
      "execution_count": null,
      "outputs": [
        {
          "output_type": "display_data",
          "data": {
            "text/html": [
              "12"
            ],
            "text/markdown": "12",
            "text/latex": "12",
            "text/plain": [
              "[1] 12"
            ]
          },
          "metadata": {}
        }
      ]
    },
    {
      "cell_type": "code",
      "source": [
        "# Trier les éléments d'un vecteur\n",
        "sort(vec)"
      ],
      "metadata": {
        "colab": {
          "base_uri": "https://localhost:8080/",
          "height": 34
        },
        "id": "c5T0l0qU7RAv",
        "outputId": "9f22bdc7-cba8-4247-f8c5-6363375b57b5"
      },
      "execution_count": null,
      "outputs": [
        {
          "output_type": "display_data",
          "data": {
            "text/html": [
              "<style>\n",
              ".list-inline {list-style: none; margin:0; padding: 0}\n",
              ".list-inline>li {display: inline-block}\n",
              ".list-inline>li:not(:last-child)::after {content: \"\\00b7\"; padding: 0 .5ex}\n",
              "</style>\n",
              "<ol class=list-inline><li>12</li><li>18</li><li>20</li><li>40</li></ol>\n"
            ],
            "text/markdown": "1. 12\n2. 18\n3. 20\n4. 40\n\n\n",
            "text/latex": "\\begin{enumerate*}\n\\item 12\n\\item 18\n\\item 20\n\\item 40\n\\end{enumerate*}\n",
            "text/plain": [
              "[1] 12 18 20 40"
            ]
          },
          "metadata": {}
        }
      ]
    },
    {
      "cell_type": "code",
      "source": [
        "# Trier les éléments d'un vecteur par ordre décroissant\n",
        "sort(vec, decreasing = TRUE)"
      ],
      "metadata": {
        "colab": {
          "base_uri": "https://localhost:8080/",
          "height": 34
        },
        "id": "Pki2y6VE7cXH",
        "outputId": "e9e33dfb-19dc-41bf-c5b1-b71f92afac86"
      },
      "execution_count": null,
      "outputs": [
        {
          "output_type": "display_data",
          "data": {
            "text/html": [
              "<style>\n",
              ".list-inline {list-style: none; margin:0; padding: 0}\n",
              ".list-inline>li {display: inline-block}\n",
              ".list-inline>li:not(:last-child)::after {content: \"\\00b7\"; padding: 0 .5ex}\n",
              "</style>\n",
              "<ol class=list-inline><li>40</li><li>20</li><li>18</li><li>12</li></ol>\n"
            ],
            "text/markdown": "1. 40\n2. 20\n3. 18\n4. 12\n\n\n",
            "text/latex": "\\begin{enumerate*}\n\\item 40\n\\item 20\n\\item 18\n\\item 12\n\\end{enumerate*}\n",
            "text/plain": [
              "[1] 40 20 18 12"
            ]
          },
          "metadata": {}
        }
      ]
    },
    {
      "cell_type": "markdown",
      "source": [
        "## Les listes"
      ],
      "metadata": {
        "id": "78MI95nY9AFJ"
      }
    },
    {
      "cell_type": "code",
      "source": [
        "# Créer une liste\n",
        "mylist <- list('A', 2, 'B')\n",
        "mylist"
      ],
      "metadata": {
        "colab": {
          "base_uri": "https://localhost:8080/",
          "height": 97
        },
        "id": "PnEV3Iy_9Laa",
        "outputId": "550d1c8b-fecb-4b7d-e4f9-72b72d7c8b51"
      },
      "execution_count": null,
      "outputs": [
        {
          "output_type": "display_data",
          "data": {
            "text/html": [
              "<ol>\n",
              "\t<li>'A'</li>\n",
              "\t<li>2</li>\n",
              "\t<li>'B'</li>\n",
              "</ol>\n"
            ],
            "text/markdown": "1. 'A'\n2. 2\n3. 'B'\n\n\n",
            "text/latex": "\\begin{enumerate}\n\\item 'A'\n\\item 2\n\\item 'B'\n\\end{enumerate}\n",
            "text/plain": [
              "[[1]]\n",
              "[1] \"A\"\n",
              "\n",
              "[[2]]\n",
              "[1] 2\n",
              "\n",
              "[[3]]\n",
              "[1] \"B\"\n"
            ]
          },
          "metadata": {}
        }
      ]
    },
    {
      "cell_type": "code",
      "source": [
        "# Accéder à un élément d'une liste avec son index\n",
        "mylist[1]"
      ],
      "metadata": {
        "colab": {
          "base_uri": "https://localhost:8080/",
          "height": 62
        },
        "id": "XgtDdOYk9aqV",
        "outputId": "a3566f85-840c-46e4-8cd7-63ec72c550bd"
      },
      "execution_count": null,
      "outputs": [
        {
          "output_type": "display_data",
          "data": {
            "text/html": [
              "<ol>\n",
              "\t<li>'A'</li>\n",
              "</ol>\n"
            ],
            "text/markdown": "1. 'A'\n\n\n",
            "text/latex": "\\begin{enumerate}\n\\item 'A'\n\\end{enumerate}\n",
            "text/plain": [
              "[[1]]\n",
              "[1] \"A\"\n"
            ]
          },
          "metadata": {}
        }
      ]
    },
    {
      "cell_type": "code",
      "source": [
        "## Accéder à un éléments avec son index\n",
        "mylist[[1]]"
      ],
      "metadata": {
        "colab": {
          "base_uri": "https://localhost:8080/",
          "height": 34
        },
        "id": "jpjpMgU_9nEj",
        "outputId": "f3df43f3-efbe-4576-b373-5b72baaf48a7"
      },
      "execution_count": null,
      "outputs": [
        {
          "output_type": "display_data",
          "data": {
            "text/html": [
              "'A'"
            ],
            "text/markdown": "'A'",
            "text/latex": "'A'",
            "text/plain": [
              "[1] \"A\""
            ]
          },
          "metadata": {}
        }
      ]
    },
    {
      "cell_type": "code",
      "source": [
        "# Créer une liste avec des clés et des valeurs\n",
        "mylist_dict <- list(nom = 'A', valeur = 2, prénom = 'B')\n",
        "mylist_dict"
      ],
      "metadata": {
        "colab": {
          "base_uri": "https://localhost:8080/",
          "height": 149
        },
        "id": "TnudTegL98c0",
        "outputId": "a6c52766-b0fa-4c16-ae3e-eb99cbca356f"
      },
      "execution_count": null,
      "outputs": [
        {
          "output_type": "display_data",
          "data": {
            "text/html": [
              "<dl>\n",
              "\t<dt>$nom</dt>\n",
              "\t\t<dd>'A'</dd>\n",
              "\t<dt>$valeur</dt>\n",
              "\t\t<dd>2</dd>\n",
              "\t<dt>$prénom</dt>\n",
              "\t\t<dd>'B'</dd>\n",
              "</dl>\n"
            ],
            "text/markdown": "$nom\n:   'A'\n$valeur\n:   2\n$prénom\n:   'B'\n\n\n",
            "text/latex": "\\begin{description}\n\\item[\\$nom] 'A'\n\\item[\\$valeur] 2\n\\item[\\$prénom] 'B'\n\\end{description}\n",
            "text/plain": [
              "$nom\n",
              "[1] \"A\"\n",
              "\n",
              "$valeur\n",
              "[1] 2\n",
              "\n",
              "$prénom\n",
              "[1] \"B\"\n"
            ]
          },
          "metadata": {}
        }
      ]
    },
    {
      "cell_type": "code",
      "source": [
        "# Accéder à des éléments d'une liste avec leurs clés\n",
        "mylist_dict[c(\"nom\", \"valeur\")]"
      ],
      "metadata": {
        "colab": {
          "base_uri": "https://localhost:8080/",
          "height": 114
        },
        "id": "Psq9ILvz-Zgd",
        "outputId": "048e9f13-c700-4fda-d1e3-d8f38182709d"
      },
      "execution_count": null,
      "outputs": [
        {
          "output_type": "display_data",
          "data": {
            "text/html": [
              "<dl>\n",
              "\t<dt>$nom</dt>\n",
              "\t\t<dd>'A'</dd>\n",
              "\t<dt>$valeur</dt>\n",
              "\t\t<dd>2</dd>\n",
              "</dl>\n"
            ],
            "text/markdown": "$nom\n:   'A'\n$valeur\n:   2\n\n\n",
            "text/latex": "\\begin{description}\n\\item[\\$nom] 'A'\n\\item[\\$valeur] 2\n\\end{description}\n",
            "text/plain": [
              "$nom\n",
              "[1] \"A\"\n",
              "\n",
              "$valeur\n",
              "[1] 2\n"
            ]
          },
          "metadata": {}
        }
      ]
    },
    {
      "cell_type": "code",
      "source": [
        "# Accéder à des éléments d'une liste avec leurs clés\n",
        "mylist_dict[[\"nom\"]]"
      ],
      "metadata": {
        "colab": {
          "base_uri": "https://localhost:8080/",
          "height": 34
        },
        "id": "mICRfejF-7ys",
        "outputId": "d8d560f0-f20a-40e4-8828-5e3b81b2a14a"
      },
      "execution_count": null,
      "outputs": [
        {
          "output_type": "display_data",
          "data": {
            "text/html": [
              "'A'"
            ],
            "text/markdown": "'A'",
            "text/latex": "'A'",
            "text/plain": [
              "[1] \"A\""
            ]
          },
          "metadata": {}
        }
      ]
    },
    {
      "cell_type": "code",
      "source": [
        "# Accéder à des éléments d'une liste avec leurs clés\n",
        "mylist_dict$`prénom`"
      ],
      "metadata": {
        "colab": {
          "base_uri": "https://localhost:8080/",
          "height": 34
        },
        "id": "xW5ztY6jABAx",
        "outputId": "935bf761-01e0-414c-e7a1-82cc8a213b81"
      },
      "execution_count": null,
      "outputs": [
        {
          "output_type": "display_data",
          "data": {
            "text/html": [
              "'B'"
            ],
            "text/markdown": "'B'",
            "text/latex": "'B'",
            "text/plain": [
              "[1] \"B\""
            ]
          },
          "metadata": {}
        }
      ]
    },
    {
      "cell_type": "code",
      "source": [
        "# Modifier un élément d'une liste\n",
        "mylist_dict$valeur <- 18\n",
        "mylist_dict"
      ],
      "metadata": {
        "colab": {
          "base_uri": "https://localhost:8080/",
          "height": 149
        },
        "id": "Y2DIYj4cATUJ",
        "outputId": "1a680e8e-44dc-459d-f1f3-cd1063217a25"
      },
      "execution_count": null,
      "outputs": [
        {
          "output_type": "display_data",
          "data": {
            "text/html": [
              "<dl>\n",
              "\t<dt>$nom</dt>\n",
              "\t\t<dd>'A'</dd>\n",
              "\t<dt>$valeur</dt>\n",
              "\t\t<dd>18</dd>\n",
              "\t<dt>$prénom</dt>\n",
              "\t\t<dd>'B'</dd>\n",
              "</dl>\n"
            ],
            "text/markdown": "$nom\n:   'A'\n$valeur\n:   18\n$prénom\n:   'B'\n\n\n",
            "text/latex": "\\begin{description}\n\\item[\\$nom] 'A'\n\\item[\\$valeur] 18\n\\item[\\$prénom] 'B'\n\\end{description}\n",
            "text/plain": [
              "$nom\n",
              "[1] \"A\"\n",
              "\n",
              "$valeur\n",
              "[1] 18\n",
              "\n",
              "$prénom\n",
              "[1] \"B\"\n"
            ]
          },
          "metadata": {}
        }
      ]
    },
    {
      "cell_type": "markdown",
      "source": [
        "## Conditions avec if et else"
      ],
      "metadata": {
        "id": "jMXNHnzEHlYZ"
      }
    },
    {
      "cell_type": "code",
      "source": [
        "# Exemple simple de condition if\n",
        "\n",
        "x <- 10\n",
        "\n",
        "if (x > 5){\n",
        "  print(\"x est supérieur à 5\")\n",
        "}"
      ],
      "metadata": {
        "colab": {
          "base_uri": "https://localhost:8080/"
        },
        "id": "eU7OydQtHvM4",
        "outputId": "d8cad133-250f-42e7-a41e-2dff186cb490"
      },
      "execution_count": null,
      "outputs": [
        {
          "output_type": "stream",
          "name": "stdout",
          "text": [
            "[1] \"x est supérieur à 5\"\n"
          ]
        }
      ]
    },
    {
      "cell_type": "code",
      "source": [
        "# Exemple de condition avec if et else\n",
        "\n",
        "x <- 1\n",
        "\n",
        "if (x > 5){\n",
        "  print(\"x est supérieur à 5\")\n",
        "} else {\n",
        "  print(\"x est inférieur ou égal à 5\")\n",
        "}"
      ],
      "metadata": {
        "colab": {
          "base_uri": "https://localhost:8080/"
        },
        "id": "AFmmZiZ1IzL1",
        "outputId": "2f382df2-e97f-4338-ce2a-6eed0e7f4d55"
      },
      "execution_count": null,
      "outputs": [
        {
          "output_type": "stream",
          "name": "stdout",
          "text": [
            "[1] \"x est inférieur ou égal à 5\"\n"
          ]
        }
      ]
    },
    {
      "cell_type": "code",
      "source": [
        "# Exemple de condition avec if et else plus complexe\n",
        "\n",
        "x <- 3\n",
        "\n",
        "if (x > 5){\n",
        "  print(\"x est supérieur à 5\")\n",
        "} else if (x > 2) {\n",
        "  print(\"x est supérieur à 2\")\n",
        "} else {\n",
        "  print(\"x est inférieur ou égal à 2\")\n",
        "}"
      ],
      "metadata": {
        "colab": {
          "base_uri": "https://localhost:8080/"
        },
        "id": "zHizOAdjJdR-",
        "outputId": "ff6f99df-6de1-4613-a37b-bcc024a5cb82"
      },
      "execution_count": null,
      "outputs": [
        {
          "output_type": "stream",
          "name": "stdout",
          "text": [
            "[1] \"x est supérieur à 2\"\n"
          ]
        }
      ]
    },
    {
      "cell_type": "code",
      "source": [
        "# Exemple de condition avec if et else plus complexe\n",
        "\n",
        "x <- 2\n",
        "\n",
        "if (x > 5){\n",
        "  print(\"x est supérieur à 5\")\n",
        "} else if (x == 2) {\n",
        "  print(\"x est égal à 2\")\n",
        "} else {\n",
        "  print(\"x est inférieur à 5\")\n",
        "}"
      ],
      "metadata": {
        "colab": {
          "base_uri": "https://localhost:8080/"
        },
        "id": "_hObjxpZKfxm",
        "outputId": "a1b9907b-9ac6-49ae-d669-4ab27182e97c"
      },
      "execution_count": null,
      "outputs": [
        {
          "output_type": "stream",
          "name": "stdout",
          "text": [
            "[1] \"x est égal à 2\"\n"
          ]
        }
      ]
    },
    {
      "cell_type": "code",
      "source": [
        "# Raccourci pour les vecteurs avec ifelse\n",
        "\n",
        "notes = c(8, 9, 12, 18)\n",
        "\n",
        "ifelse(notes >= 10, \"Admis\", \"Ajourné\")"
      ],
      "metadata": {
        "colab": {
          "base_uri": "https://localhost:8080/",
          "height": 34
        },
        "id": "kdFTFyH2LjQD",
        "outputId": "27f27424-e16b-4198-efa3-b5eab6eae182"
      },
      "execution_count": null,
      "outputs": [
        {
          "output_type": "display_data",
          "data": {
            "text/html": [
              "<style>\n",
              ".list-inline {list-style: none; margin:0; padding: 0}\n",
              ".list-inline>li {display: inline-block}\n",
              ".list-inline>li:not(:last-child)::after {content: \"\\00b7\"; padding: 0 .5ex}\n",
              "</style>\n",
              "<ol class=list-inline><li>'Ajourné'</li><li>'Ajourné'</li><li>'Admis'</li><li>'Admis'</li></ol>\n"
            ],
            "text/markdown": "1. 'Ajourné'\n2. 'Ajourné'\n3. 'Admis'\n4. 'Admis'\n\n\n",
            "text/latex": "\\begin{enumerate*}\n\\item 'Ajourné'\n\\item 'Ajourné'\n\\item 'Admis'\n\\item 'Admis'\n\\end{enumerate*}\n",
            "text/plain": [
              "[1] \"Ajourné\" \"Ajourné\" \"Admis\"   \"Admis\"  "
            ]
          },
          "metadata": {}
        }
      ]
    },
    {
      "cell_type": "markdown",
      "source": [
        "## Boucles for"
      ],
      "metadata": {
        "id": "8f2cYmGxMqJX"
      }
    },
    {
      "cell_type": "code",
      "source": [
        "# Parcourir une liste\n",
        "\n",
        "malist = 1:5\n",
        "\n",
        "for (i in malist){\n",
        "  print(i^2)\n",
        "}"
      ],
      "metadata": {
        "colab": {
          "base_uri": "https://localhost:8080/"
        },
        "id": "KznUC3sPMxrJ",
        "outputId": "14e7a9fa-7726-447d-edd6-9cf84fc9fc0e"
      },
      "execution_count": null,
      "outputs": [
        {
          "output_type": "stream",
          "name": "stdout",
          "text": [
            "[1] 1\n",
            "[1] 4\n",
            "[1] 9\n",
            "[1] 16\n",
            "[1] 25\n"
          ]
        }
      ]
    },
    {
      "cell_type": "code",
      "source": [
        "# Parcourir une liste et sauvegarder des éléments dans une autre liste\n",
        "malist <- 1:5\n",
        "malist_carré <- c()\n",
        "for (i in malist){\n",
        "  malist_carré[i] <- i^2\n",
        "}\n",
        "\n",
        "malist_carré"
      ],
      "metadata": {
        "colab": {
          "base_uri": "https://localhost:8080/",
          "height": 34
        },
        "id": "wmeW4ugVNhi1",
        "outputId": "19540ac9-7de8-4fcc-b005-c5ef3e80bfb1"
      },
      "execution_count": null,
      "outputs": [
        {
          "output_type": "display_data",
          "data": {
            "text/html": [
              "<style>\n",
              ".list-inline {list-style: none; margin:0; padding: 0}\n",
              ".list-inline>li {display: inline-block}\n",
              ".list-inline>li:not(:last-child)::after {content: \"\\00b7\"; padding: 0 .5ex}\n",
              "</style>\n",
              "<ol class=list-inline><li>1</li><li>4</li><li>9</li><li>16</li><li>25</li></ol>\n"
            ],
            "text/markdown": "1. 1\n2. 4\n3. 9\n4. 16\n5. 25\n\n\n",
            "text/latex": "\\begin{enumerate*}\n\\item 1\n\\item 4\n\\item 9\n\\item 16\n\\item 25\n\\end{enumerate*}\n",
            "text/plain": [
              "[1]  1  4  9 16 25"
            ]
          },
          "metadata": {}
        }
      ]
    },
    {
      "cell_type": "code",
      "source": [
        "# Parcourir une liste de chaîne de caractères\n",
        "\n",
        "prénoms <- c(\"Bob\", \"Alice\", \"Tom\", \"Aline\")\n",
        "\n",
        "for (prénom in prénoms){\n",
        "  print(prénom)\n",
        "}"
      ],
      "metadata": {
        "colab": {
          "base_uri": "https://localhost:8080/"
        },
        "id": "xO0_2-61O7sn",
        "outputId": "61f47d36-6761-4683-c0d0-fb8d3de37cf6"
      },
      "execution_count": null,
      "outputs": [
        {
          "output_type": "stream",
          "name": "stdout",
          "text": [
            "[1] \"Bob\"\n",
            "[1] \"Alice\"\n",
            "[1] \"Tom\"\n",
            "[1] \"Aline\"\n"
          ]
        }
      ]
    },
    {
      "cell_type": "code",
      "source": [
        "# Boucle for avec conditions\n",
        "\n",
        "notes = c(8, 9, 12, 18)\n",
        "\n",
        "for (note in notes){\n",
        "  if (note >= 10){\n",
        "    print(\"Admis\")\n",
        "  } else {\n",
        "    print(\"Ajourné\")\n",
        "  }\n",
        "}\n"
      ],
      "metadata": {
        "colab": {
          "base_uri": "https://localhost:8080/"
        },
        "id": "BG4tFkf-PwvE",
        "outputId": "71bcc725-ada4-494d-c681-b0e20563a700"
      },
      "execution_count": null,
      "outputs": [
        {
          "output_type": "stream",
          "name": "stdout",
          "text": [
            "[1] \"Ajourné\"\n",
            "[1] \"Ajourné\"\n",
            "[1] \"Admis\"\n",
            "[1] \"Admis\"\n"
          ]
        }
      ]
    },
    {
      "cell_type": "markdown",
      "source": [
        "## Boucle while"
      ],
      "metadata": {
        "id": "iXExAkU4RURK"
      }
    },
    {
      "cell_type": "code",
      "source": [
        "# Boucle while très simple\n",
        "\n",
        "x <- 0\n",
        "\n",
        "while (x < 5){\n",
        "  print(x^2)\n",
        "  x <- x + 1\n",
        "}"
      ],
      "metadata": {
        "colab": {
          "base_uri": "https://localhost:8080/"
        },
        "id": "Yo_ijJgURSkR",
        "outputId": "1d45e8f0-af3a-4a02-f551-636a0675e449"
      },
      "execution_count": null,
      "outputs": [
        {
          "output_type": "stream",
          "name": "stdout",
          "text": [
            "[1] 0\n",
            "[1] 1\n",
            "[1] 4\n",
            "[1] 9\n",
            "[1] 16\n"
          ]
        }
      ]
    },
    {
      "cell_type": "markdown",
      "source": [
        "## Les dataframes\n",
        "\n"
      ],
      "metadata": {
        "id": "Dc_VUtCqTFeL"
      }
    },
    {
      "cell_type": "code",
      "source": [
        "# Créer un dataframe à partir de listes\n",
        "\n",
        "noms <- c(\"Alice\", \"Bob\", \"Tom\", \"Aline\")\n",
        "ages <- c(24, 28, 19, 32)\n",
        "notes <- c(12, 16, 18, 15)\n",
        "\n",
        "df <- data.frame(Nom = noms, Age = ages, Note = notes)\n",
        "df"
      ],
      "metadata": {
        "colab": {
          "base_uri": "https://localhost:8080/",
          "height": 223
        },
        "id": "x3CmmSk5TNJ9",
        "outputId": "ff78f596-f5be-404f-f80c-26a5eba52dbf"
      },
      "execution_count": null,
      "outputs": [
        {
          "output_type": "display_data",
          "data": {
            "text/html": [
              "<table class=\"dataframe\">\n",
              "<caption>A data.frame: 4 × 3</caption>\n",
              "<thead>\n",
              "\t<tr><th scope=col>Nom</th><th scope=col>Age</th><th scope=col>Note</th></tr>\n",
              "\t<tr><th scope=col>&lt;chr&gt;</th><th scope=col>&lt;dbl&gt;</th><th scope=col>&lt;dbl&gt;</th></tr>\n",
              "</thead>\n",
              "<tbody>\n",
              "\t<tr><td>Alice</td><td>24</td><td>12</td></tr>\n",
              "\t<tr><td>Bob  </td><td>28</td><td>16</td></tr>\n",
              "\t<tr><td>Tom  </td><td>19</td><td>18</td></tr>\n",
              "\t<tr><td>Aline</td><td>32</td><td>15</td></tr>\n",
              "</tbody>\n",
              "</table>\n"
            ],
            "text/markdown": "\nA data.frame: 4 × 3\n\n| Nom &lt;chr&gt; | Age &lt;dbl&gt; | Note &lt;dbl&gt; |\n|---|---|---|\n| Alice | 24 | 12 |\n| Bob   | 28 | 16 |\n| Tom   | 19 | 18 |\n| Aline | 32 | 15 |\n\n",
            "text/latex": "A data.frame: 4 × 3\n\\begin{tabular}{lll}\n Nom & Age & Note\\\\\n <chr> & <dbl> & <dbl>\\\\\n\\hline\n\t Alice & 24 & 12\\\\\n\t Bob   & 28 & 16\\\\\n\t Tom   & 19 & 18\\\\\n\t Aline & 32 & 15\\\\\n\\end{tabular}\n",
            "text/plain": [
              "  Nom   Age Note\n",
              "1 Alice 24  12  \n",
              "2 Bob   28  16  \n",
              "3 Tom   19  18  \n",
              "4 Aline 32  15  "
            ]
          },
          "metadata": {}
        }
      ]
    },
    {
      "cell_type": "code",
      "source": [
        "# Résumé des informations du dataframe\n",
        "summary(df)<"
      ],
      "metadata": {
        "colab": {
          "base_uri": "https://localhost:8080/",
          "height": 138
        },
        "id": "WgjjKjsmULVH",
        "outputId": "e1668283-832a-4426-eb57-67c06a35bd4d"
      },
      "execution_count": null,
      "outputs": [
        {
          "output_type": "display_data",
          "data": {
            "text/plain": [
              "     Nom                 Age             Note      \n",
              " Length:4           Min.   :19.00   Min.   :12.00  \n",
              " Class :character   1st Qu.:22.75   1st Qu.:14.25  \n",
              " Mode  :character   Median :26.00   Median :15.50  \n",
              "                    Mean   :25.75   Mean   :15.25  \n",
              "                    3rd Qu.:29.00   3rd Qu.:16.50  \n",
              "                    Max.   :32.00   Max.   :18.00  "
            ]
          },
          "metadata": {}
        }
      ]
    },
    {
      "cell_type": "code",
      "source": [
        "# Afficher les 2 premières lignes\n",
        "head(df, 2)"
      ],
      "metadata": {
        "colab": {
          "base_uri": "https://localhost:8080/",
          "height": 161
        },
        "id": "z6oHvWC9Uv6T",
        "outputId": "655b372b-83c4-4676-e623-4a94f53b4196"
      },
      "execution_count": null,
      "outputs": [
        {
          "output_type": "display_data",
          "data": {
            "text/html": [
              "<table class=\"dataframe\">\n",
              "<caption>A data.frame: 2 × 3</caption>\n",
              "<thead>\n",
              "\t<tr><th></th><th scope=col>Nom</th><th scope=col>Age</th><th scope=col>Note</th></tr>\n",
              "\t<tr><th></th><th scope=col>&lt;chr&gt;</th><th scope=col>&lt;dbl&gt;</th><th scope=col>&lt;dbl&gt;</th></tr>\n",
              "</thead>\n",
              "<tbody>\n",
              "\t<tr><th scope=row>1</th><td>Alice</td><td>24</td><td>12</td></tr>\n",
              "\t<tr><th scope=row>2</th><td>Bob  </td><td>28</td><td>16</td></tr>\n",
              "</tbody>\n",
              "</table>\n"
            ],
            "text/markdown": "\nA data.frame: 2 × 3\n\n| <!--/--> | Nom &lt;chr&gt; | Age &lt;dbl&gt; | Note &lt;dbl&gt; |\n|---|---|---|---|\n| 1 | Alice | 24 | 12 |\n| 2 | Bob   | 28 | 16 |\n\n",
            "text/latex": "A data.frame: 2 × 3\n\\begin{tabular}{r|lll}\n  & Nom & Age & Note\\\\\n  & <chr> & <dbl> & <dbl>\\\\\n\\hline\n\t1 & Alice & 24 & 12\\\\\n\t2 & Bob   & 28 & 16\\\\\n\\end{tabular}\n",
            "text/plain": [
              "  Nom   Age Note\n",
              "1 Alice 24  12  \n",
              "2 Bob   28  16  "
            ]
          },
          "metadata": {}
        }
      ]
    },
    {
      "cell_type": "code",
      "source": [
        "# Afficher le nombre de lignes\n",
        "nrow(df)"
      ],
      "metadata": {
        "colab": {
          "base_uri": "https://localhost:8080/",
          "height": 34
        },
        "id": "L-WRlS64U8it",
        "outputId": "e1730b97-a12d-4203-9288-3eba95140888"
      },
      "execution_count": null,
      "outputs": [
        {
          "output_type": "display_data",
          "data": {
            "text/html": [
              "4"
            ],
            "text/markdown": "4",
            "text/latex": "4",
            "text/plain": [
              "[1] 4"
            ]
          },
          "metadata": {}
        }
      ]
    },
    {
      "cell_type": "code",
      "source": [
        "# Afficher le nombre de colonnes\n",
        "ncol(df)"
      ],
      "metadata": {
        "colab": {
          "base_uri": "https://localhost:8080/",
          "height": 34
        },
        "id": "pHMiM4tDVEgR",
        "outputId": "1d146115-cc0f-4463-b803-fb64c331d31d"
      },
      "execution_count": null,
      "outputs": [
        {
          "output_type": "display_data",
          "data": {
            "text/html": [
              "3"
            ],
            "text/markdown": "3",
            "text/latex": "3",
            "text/plain": [
              "[1] 3"
            ]
          },
          "metadata": {}
        }
      ]
    },
    {
      "cell_type": "code",
      "source": [
        "# Afficher les noms des colonnes\n",
        "names(df)"
      ],
      "metadata": {
        "colab": {
          "base_uri": "https://localhost:8080/",
          "height": 34
        },
        "id": "jdmmIc03VM3Y",
        "outputId": "5ccf57a3-7974-465b-e8b8-512e45d6209a"
      },
      "execution_count": null,
      "outputs": [
        {
          "output_type": "display_data",
          "data": {
            "text/html": [
              "<style>\n",
              ".list-inline {list-style: none; margin:0; padding: 0}\n",
              ".list-inline>li {display: inline-block}\n",
              ".list-inline>li:not(:last-child)::after {content: \"\\00b7\"; padding: 0 .5ex}\n",
              "</style>\n",
              "<ol class=list-inline><li>'Nom'</li><li>'Age'</li><li>'Note'</li></ol>\n"
            ],
            "text/markdown": "1. 'Nom'\n2. 'Age'\n3. 'Note'\n\n\n",
            "text/latex": "\\begin{enumerate*}\n\\item 'Nom'\n\\item 'Age'\n\\item 'Note'\n\\end{enumerate*}\n",
            "text/plain": [
              "[1] \"Nom\"  \"Age\"  \"Note\""
            ]
          },
          "metadata": {}
        }
      ]
    },
    {
      "cell_type": "code",
      "source": [
        "# Accéder à une colonne par son nom\n",
        "df['Age']"
      ],
      "metadata": {
        "colab": {
          "base_uri": "https://localhost:8080/",
          "height": 258
        },
        "id": "528CvmGLVjL_",
        "outputId": "f0330a6d-824f-4b2d-b1f2-6517db4da424"
      },
      "execution_count": null,
      "outputs": [
        {
          "output_type": "display_data",
          "data": {
            "text/html": [
              "<table class=\"dataframe\">\n",
              "<caption>A data.frame: 4 × 1</caption>\n",
              "<thead>\n",
              "\t<tr><th scope=col>Age</th></tr>\n",
              "\t<tr><th scope=col>&lt;dbl&gt;</th></tr>\n",
              "</thead>\n",
              "<tbody>\n",
              "\t<tr><td>24</td></tr>\n",
              "\t<tr><td>28</td></tr>\n",
              "\t<tr><td>19</td></tr>\n",
              "\t<tr><td>32</td></tr>\n",
              "</tbody>\n",
              "</table>\n"
            ],
            "text/markdown": "\nA data.frame: 4 × 1\n\n| Age &lt;dbl&gt; |\n|---|\n| 24 |\n| 28 |\n| 19 |\n| 32 |\n\n",
            "text/latex": "A data.frame: 4 × 1\n\\begin{tabular}{l}\n Age\\\\\n <dbl>\\\\\n\\hline\n\t 24\\\\\n\t 28\\\\\n\t 19\\\\\n\t 32\\\\\n\\end{tabular}\n",
            "text/plain": [
              "  Age\n",
              "1 24 \n",
              "2 28 \n",
              "3 19 \n",
              "4 32 "
            ]
          },
          "metadata": {}
        }
      ]
    },
    {
      "cell_type": "code",
      "source": [
        "# Accéder à une colonne par son nom\n",
        "df$Age"
      ],
      "metadata": {
        "colab": {
          "base_uri": "https://localhost:8080/",
          "height": 34
        },
        "id": "_ZsSUExnVtcI",
        "outputId": "96d32e37-efff-4f19-b9fa-405bbffae140"
      },
      "execution_count": null,
      "outputs": [
        {
          "output_type": "display_data",
          "data": {
            "text/html": [
              "<style>\n",
              ".list-inline {list-style: none; margin:0; padding: 0}\n",
              ".list-inline>li {display: inline-block}\n",
              ".list-inline>li:not(:last-child)::after {content: \"\\00b7\"; padding: 0 .5ex}\n",
              "</style>\n",
              "<ol class=list-inline><li>24</li><li>28</li><li>19</li><li>32</li></ol>\n"
            ],
            "text/markdown": "1. 24\n2. 28\n3. 19\n4. 32\n\n\n",
            "text/latex": "\\begin{enumerate*}\n\\item 24\n\\item 28\n\\item 19\n\\item 32\n\\end{enumerate*}\n",
            "text/plain": [
              "[1] 24 28 19 32"
            ]
          },
          "metadata": {}
        }
      ]
    },
    {
      "cell_type": "code",
      "source": [
        "# Accéder à une ligne par son rang\n",
        "df[1,]"
      ],
      "metadata": {
        "colab": {
          "base_uri": "https://localhost:8080/",
          "height": 129
        },
        "id": "eN-jnApFWAu0",
        "outputId": "3f0d4c86-4e73-405d-eba4-8690ca8dadf9"
      },
      "execution_count": null,
      "outputs": [
        {
          "output_type": "display_data",
          "data": {
            "text/html": [
              "<table class=\"dataframe\">\n",
              "<caption>A data.frame: 1 × 3</caption>\n",
              "<thead>\n",
              "\t<tr><th></th><th scope=col>Nom</th><th scope=col>Age</th><th scope=col>Note</th></tr>\n",
              "\t<tr><th></th><th scope=col>&lt;chr&gt;</th><th scope=col>&lt;dbl&gt;</th><th scope=col>&lt;dbl&gt;</th></tr>\n",
              "</thead>\n",
              "<tbody>\n",
              "\t<tr><th scope=row>1</th><td>Alice</td><td>24</td><td>12</td></tr>\n",
              "</tbody>\n",
              "</table>\n"
            ],
            "text/markdown": "\nA data.frame: 1 × 3\n\n| <!--/--> | Nom &lt;chr&gt; | Age &lt;dbl&gt; | Note &lt;dbl&gt; |\n|---|---|---|---|\n| 1 | Alice | 24 | 12 |\n\n",
            "text/latex": "A data.frame: 1 × 3\n\\begin{tabular}{r|lll}\n  & Nom & Age & Note\\\\\n  & <chr> & <dbl> & <dbl>\\\\\n\\hline\n\t1 & Alice & 24 & 12\\\\\n\\end{tabular}\n",
            "text/plain": [
              "  Nom   Age Note\n",
              "1 Alice 24  12  "
            ]
          },
          "metadata": {}
        }
      ]
    },
    {
      "cell_type": "code",
      "source": [
        "# Filtrer un dataframe avec une condition\n",
        "\n",
        "df[df$Note > 15, ]"
      ],
      "metadata": {
        "colab": {
          "base_uri": "https://localhost:8080/",
          "height": 161
        },
        "id": "DLnsGZtNWkKC",
        "outputId": "ab265c93-45a5-4329-aa9c-36c1b08c606d"
      },
      "execution_count": null,
      "outputs": [
        {
          "output_type": "display_data",
          "data": {
            "text/html": [
              "<table class=\"dataframe\">\n",
              "<caption>A data.frame: 2 × 3</caption>\n",
              "<thead>\n",
              "\t<tr><th></th><th scope=col>Nom</th><th scope=col>Age</th><th scope=col>Note</th></tr>\n",
              "\t<tr><th></th><th scope=col>&lt;chr&gt;</th><th scope=col>&lt;dbl&gt;</th><th scope=col>&lt;dbl&gt;</th></tr>\n",
              "</thead>\n",
              "<tbody>\n",
              "\t<tr><th scope=row>2</th><td>Bob</td><td>28</td><td>16</td></tr>\n",
              "\t<tr><th scope=row>3</th><td>Tom</td><td>19</td><td>18</td></tr>\n",
              "</tbody>\n",
              "</table>\n"
            ],
            "text/markdown": "\nA data.frame: 2 × 3\n\n| <!--/--> | Nom &lt;chr&gt; | Age &lt;dbl&gt; | Note &lt;dbl&gt; |\n|---|---|---|---|\n| 2 | Bob | 28 | 16 |\n| 3 | Tom | 19 | 18 |\n\n",
            "text/latex": "A data.frame: 2 × 3\n\\begin{tabular}{r|lll}\n  & Nom & Age & Note\\\\\n  & <chr> & <dbl> & <dbl>\\\\\n\\hline\n\t2 & Bob & 28 & 16\\\\\n\t3 & Tom & 19 & 18\\\\\n\\end{tabular}\n",
            "text/plain": [
              "  Nom Age Note\n",
              "2 Bob 28  16  \n",
              "3 Tom 19  18  "
            ]
          },
          "metadata": {}
        }
      ]
    },
    {
      "cell_type": "code",
      "source": [
        "# Filtrer un dataframe avec plusieurs condition\n",
        "\n",
        "df[df$Note > 15 & df$Age > 22, ]"
      ],
      "metadata": {
        "colab": {
          "base_uri": "https://localhost:8080/",
          "height": 129
        },
        "id": "83nf664xW354",
        "outputId": "e0361696-c5c6-4535-f8d5-46c1a3e28632"
      },
      "execution_count": null,
      "outputs": [
        {
          "output_type": "display_data",
          "data": {
            "text/html": [
              "<table class=\"dataframe\">\n",
              "<caption>A data.frame: 1 × 3</caption>\n",
              "<thead>\n",
              "\t<tr><th></th><th scope=col>Nom</th><th scope=col>Age</th><th scope=col>Note</th></tr>\n",
              "\t<tr><th></th><th scope=col>&lt;chr&gt;</th><th scope=col>&lt;dbl&gt;</th><th scope=col>&lt;dbl&gt;</th></tr>\n",
              "</thead>\n",
              "<tbody>\n",
              "\t<tr><th scope=row>2</th><td>Bob</td><td>28</td><td>16</td></tr>\n",
              "</tbody>\n",
              "</table>\n"
            ],
            "text/markdown": "\nA data.frame: 1 × 3\n\n| <!--/--> | Nom &lt;chr&gt; | Age &lt;dbl&gt; | Note &lt;dbl&gt; |\n|---|---|---|---|\n| 2 | Bob | 28 | 16 |\n\n",
            "text/latex": "A data.frame: 1 × 3\n\\begin{tabular}{r|lll}\n  & Nom & Age & Note\\\\\n  & <chr> & <dbl> & <dbl>\\\\\n\\hline\n\t2 & Bob & 28 & 16\\\\\n\\end{tabular}\n",
            "text/plain": [
              "  Nom Age Note\n",
              "2 Bob 28  16  "
            ]
          },
          "metadata": {}
        }
      ]
    },
    {
      "cell_type": "code",
      "source": [
        "# Ajouter une colonne à un dataframe\n",
        "\n",
        "admission <- c(\"Admis\", \"Admis\", \"Admis\", \"Admis\")\n",
        "df['Admission'] <- admission\n",
        "df"
      ],
      "metadata": {
        "colab": {
          "base_uri": "https://localhost:8080/",
          "height": 223
        },
        "id": "Wr9MHh9JXKVI",
        "outputId": "479c41fb-4c0d-4fc9-db13-f9653621d565"
      },
      "execution_count": null,
      "outputs": [
        {
          "output_type": "display_data",
          "data": {
            "text/html": [
              "<table class=\"dataframe\">\n",
              "<caption>A data.frame: 4 × 4</caption>\n",
              "<thead>\n",
              "\t<tr><th scope=col>Nom</th><th scope=col>Age</th><th scope=col>Note</th><th scope=col>Admission</th></tr>\n",
              "\t<tr><th scope=col>&lt;chr&gt;</th><th scope=col>&lt;dbl&gt;</th><th scope=col>&lt;dbl&gt;</th><th scope=col>&lt;chr&gt;</th></tr>\n",
              "</thead>\n",
              "<tbody>\n",
              "\t<tr><td>Alice</td><td>24</td><td>12</td><td>Admis</td></tr>\n",
              "\t<tr><td>Bob  </td><td>28</td><td>16</td><td>Admis</td></tr>\n",
              "\t<tr><td>Tom  </td><td>19</td><td>18</td><td>Admis</td></tr>\n",
              "\t<tr><td>Aline</td><td>32</td><td>15</td><td>Admis</td></tr>\n",
              "</tbody>\n",
              "</table>\n"
            ],
            "text/markdown": "\nA data.frame: 4 × 4\n\n| Nom &lt;chr&gt; | Age &lt;dbl&gt; | Note &lt;dbl&gt; | Admission &lt;chr&gt; |\n|---|---|---|---|\n| Alice | 24 | 12 | Admis |\n| Bob   | 28 | 16 | Admis |\n| Tom   | 19 | 18 | Admis |\n| Aline | 32 | 15 | Admis |\n\n",
            "text/latex": "A data.frame: 4 × 4\n\\begin{tabular}{llll}\n Nom & Age & Note & Admission\\\\\n <chr> & <dbl> & <dbl> & <chr>\\\\\n\\hline\n\t Alice & 24 & 12 & Admis\\\\\n\t Bob   & 28 & 16 & Admis\\\\\n\t Tom   & 19 & 18 & Admis\\\\\n\t Aline & 32 & 15 & Admis\\\\\n\\end{tabular}\n",
            "text/plain": [
              "  Nom   Age Note Admission\n",
              "1 Alice 24  12   Admis    \n",
              "2 Bob   28  16   Admis    \n",
              "3 Tom   19  18   Admis    \n",
              "4 Aline 32  15   Admis    "
            ]
          },
          "metadata": {}
        }
      ]
    },
    {
      "cell_type": "code",
      "source": [
        "# Ajouter une ligne à un dataframe\n",
        "\n",
        "nouvelle_ligne <- data.frame(Nom = \"Sophie\", Age = 25, Note = 17, Admission = \"Admis\")\n",
        "df <- rbind(df, nouvelle_ligne)\n",
        "df"
      ],
      "metadata": {
        "colab": {
          "base_uri": "https://localhost:8080/",
          "height": 286
        },
        "id": "hUfnbGJxXrSR",
        "outputId": "bc625f57-f411-44db-cf73-c079fc21712c"
      },
      "execution_count": null,
      "outputs": [
        {
          "output_type": "display_data",
          "data": {
            "text/html": [
              "<table class=\"dataframe\">\n",
              "<caption>A data.frame: 6 × 4</caption>\n",
              "<thead>\n",
              "\t<tr><th scope=col>Nom</th><th scope=col>Age</th><th scope=col>Note</th><th scope=col>Admission</th></tr>\n",
              "\t<tr><th scope=col>&lt;chr&gt;</th><th scope=col>&lt;dbl&gt;</th><th scope=col>&lt;dbl&gt;</th><th scope=col>&lt;chr&gt;</th></tr>\n",
              "</thead>\n",
              "<tbody>\n",
              "\t<tr><td>Alice </td><td>24</td><td>12</td><td>Admis</td></tr>\n",
              "\t<tr><td>Bob   </td><td>28</td><td>16</td><td>Admis</td></tr>\n",
              "\t<tr><td>Tom   </td><td>19</td><td>18</td><td>Admis</td></tr>\n",
              "\t<tr><td>Aline </td><td>32</td><td>15</td><td>Admis</td></tr>\n",
              "\t<tr><td>Sophie</td><td>25</td><td>17</td><td>Admis</td></tr>\n",
              "\t<tr><td>Sophie</td><td>25</td><td>17</td><td>Admis</td></tr>\n",
              "</tbody>\n",
              "</table>\n"
            ],
            "text/markdown": "\nA data.frame: 6 × 4\n\n| Nom &lt;chr&gt; | Age &lt;dbl&gt; | Note &lt;dbl&gt; | Admission &lt;chr&gt; |\n|---|---|---|---|\n| Alice  | 24 | 12 | Admis |\n| Bob    | 28 | 16 | Admis |\n| Tom    | 19 | 18 | Admis |\n| Aline  | 32 | 15 | Admis |\n| Sophie | 25 | 17 | Admis |\n| Sophie | 25 | 17 | Admis |\n\n",
            "text/latex": "A data.frame: 6 × 4\n\\begin{tabular}{llll}\n Nom & Age & Note & Admission\\\\\n <chr> & <dbl> & <dbl> & <chr>\\\\\n\\hline\n\t Alice  & 24 & 12 & Admis\\\\\n\t Bob    & 28 & 16 & Admis\\\\\n\t Tom    & 19 & 18 & Admis\\\\\n\t Aline  & 32 & 15 & Admis\\\\\n\t Sophie & 25 & 17 & Admis\\\\\n\t Sophie & 25 & 17 & Admis\\\\\n\\end{tabular}\n",
            "text/plain": [
              "  Nom    Age Note Admission\n",
              "1 Alice  24  12   Admis    \n",
              "2 Bob    28  16   Admis    \n",
              "3 Tom    19  18   Admis    \n",
              "4 Aline  32  15   Admis    \n",
              "5 Sophie 25  17   Admis    \n",
              "6 Sophie 25  17   Admis    "
            ]
          },
          "metadata": {}
        }
      ]
    },
    {
      "cell_type": "code",
      "source": [
        "# Supprimer une ligne d'un dataframe\n",
        "\n",
        "df <- df[-6, ]\n",
        "df"
      ],
      "metadata": {
        "colab": {
          "base_uri": "https://localhost:8080/",
          "height": 255
        },
        "id": "h0QnXHiwYPKS",
        "outputId": "1bf97fe9-2911-41ce-9a97-4c270381388f"
      },
      "execution_count": null,
      "outputs": [
        {
          "output_type": "display_data",
          "data": {
            "text/html": [
              "<table class=\"dataframe\">\n",
              "<caption>A data.frame: 5 × 4</caption>\n",
              "<thead>\n",
              "\t<tr><th></th><th scope=col>Nom</th><th scope=col>Age</th><th scope=col>Note</th><th scope=col>Admission</th></tr>\n",
              "\t<tr><th></th><th scope=col>&lt;chr&gt;</th><th scope=col>&lt;dbl&gt;</th><th scope=col>&lt;dbl&gt;</th><th scope=col>&lt;chr&gt;</th></tr>\n",
              "</thead>\n",
              "<tbody>\n",
              "\t<tr><th scope=row>1</th><td>Alice </td><td>24</td><td>12</td><td>Admis</td></tr>\n",
              "\t<tr><th scope=row>2</th><td>Bob   </td><td>28</td><td>16</td><td>Admis</td></tr>\n",
              "\t<tr><th scope=row>3</th><td>Tom   </td><td>19</td><td>18</td><td>Admis</td></tr>\n",
              "\t<tr><th scope=row>4</th><td>Aline </td><td>32</td><td>15</td><td>Admis</td></tr>\n",
              "\t<tr><th scope=row>5</th><td>Sophie</td><td>25</td><td>17</td><td>Admis</td></tr>\n",
              "</tbody>\n",
              "</table>\n"
            ],
            "text/markdown": "\nA data.frame: 5 × 4\n\n| <!--/--> | Nom &lt;chr&gt; | Age &lt;dbl&gt; | Note &lt;dbl&gt; | Admission &lt;chr&gt; |\n|---|---|---|---|---|\n| 1 | Alice  | 24 | 12 | Admis |\n| 2 | Bob    | 28 | 16 | Admis |\n| 3 | Tom    | 19 | 18 | Admis |\n| 4 | Aline  | 32 | 15 | Admis |\n| 5 | Sophie | 25 | 17 | Admis |\n\n",
            "text/latex": "A data.frame: 5 × 4\n\\begin{tabular}{r|llll}\n  & Nom & Age & Note & Admission\\\\\n  & <chr> & <dbl> & <dbl> & <chr>\\\\\n\\hline\n\t1 & Alice  & 24 & 12 & Admis\\\\\n\t2 & Bob    & 28 & 16 & Admis\\\\\n\t3 & Tom    & 19 & 18 & Admis\\\\\n\t4 & Aline  & 32 & 15 & Admis\\\\\n\t5 & Sophie & 25 & 17 & Admis\\\\\n\\end{tabular}\n",
            "text/plain": [
              "  Nom    Age Note Admission\n",
              "1 Alice  24  12   Admis    \n",
              "2 Bob    28  16   Admis    \n",
              "3 Tom    19  18   Admis    \n",
              "4 Aline  32  15   Admis    \n",
              "5 Sophie 25  17   Admis    "
            ]
          },
          "metadata": {}
        }
      ]
    },
    {
      "cell_type": "markdown",
      "source": [
        "## Manipulation des dataframes avec dplyr"
      ],
      "metadata": {
        "id": "AoZOM7SBHv_H"
      }
    },
    {
      "cell_type": "code",
      "source": [
        "dataset <- read.csv(\"customer_churn.csv\")\n",
        "head(dataset, 5)"
      ],
      "metadata": {
        "colab": {
          "base_uri": "https://localhost:8080/",
          "height": 255
        },
        "id": "J0jn98swIMfF",
        "outputId": "b916868a-7168-4160-c0cc-2722405829eb"
      },
      "execution_count": 124,
      "outputs": [
        {
          "output_type": "display_data",
          "data": {
            "text/html": [
              "<table class=\"dataframe\">\n",
              "<caption>A data.frame: 5 × 10</caption>\n",
              "<thead>\n",
              "\t<tr><th></th><th scope=col>Names</th><th scope=col>Age</th><th scope=col>Total_Purchase</th><th scope=col>Account_Manager</th><th scope=col>Years</th><th scope=col>Num_Sites</th><th scope=col>Onboard_date</th><th scope=col>Location</th><th scope=col>Company</th><th scope=col>Churn</th></tr>\n",
              "\t<tr><th></th><th scope=col>&lt;chr&gt;</th><th scope=col>&lt;dbl&gt;</th><th scope=col>&lt;dbl&gt;</th><th scope=col>&lt;int&gt;</th><th scope=col>&lt;dbl&gt;</th><th scope=col>&lt;dbl&gt;</th><th scope=col>&lt;chr&gt;</th><th scope=col>&lt;chr&gt;</th><th scope=col>&lt;chr&gt;</th><th scope=col>&lt;int&gt;</th></tr>\n",
              "</thead>\n",
              "<tbody>\n",
              "\t<tr><th scope=row>1</th><td>Cameron Williams</td><td>42</td><td>11066.80</td><td>0</td><td>7.22</td><td> 8</td><td>2013-08-30 07:00:40</td><td>10265 Elizabeth Mission Barkerburgh, AK 89518     </td><td>Harvey LLC                 </td><td>1</td></tr>\n",
              "\t<tr><th scope=row>2</th><td>Kevin Mueller   </td><td>41</td><td>11916.22</td><td>0</td><td>6.50</td><td>11</td><td>2013-08-13 00:38:46</td><td>6157 Frank Gardens Suite 019 Carloshaven, RI 17756</td><td>Wilson PLC                 </td><td>1</td></tr>\n",
              "\t<tr><th scope=row>3</th><td>Eric Lozano     </td><td>38</td><td>12884.75</td><td>0</td><td>6.67</td><td>12</td><td>2016-06-29 06:20:07</td><td>1331 Keith Court Alyssahaven, DE 90114            </td><td>Miller, Johnson and Wallace</td><td>1</td></tr>\n",
              "\t<tr><th scope=row>4</th><td>Phillip White   </td><td>42</td><td> 8010.76</td><td>0</td><td>6.71</td><td>10</td><td>2014-04-22 12:43:12</td><td>13120 Daniel Mount Angelabury, WY 30645-4695      </td><td>Smith Inc                  </td><td>1</td></tr>\n",
              "\t<tr><th scope=row>5</th><td>Cynthia Norton  </td><td>37</td><td> 9191.58</td><td>0</td><td>5.56</td><td> 9</td><td>2016-01-19 15:31:15</td><td>765 Tricia Row Karenshire, MH 71730               </td><td>Love-Jones                 </td><td>1</td></tr>\n",
              "</tbody>\n",
              "</table>\n"
            ],
            "text/markdown": "\nA data.frame: 5 × 10\n\n| <!--/--> | Names &lt;chr&gt; | Age &lt;dbl&gt; | Total_Purchase &lt;dbl&gt; | Account_Manager &lt;int&gt; | Years &lt;dbl&gt; | Num_Sites &lt;dbl&gt; | Onboard_date &lt;chr&gt; | Location &lt;chr&gt; | Company &lt;chr&gt; | Churn &lt;int&gt; |\n|---|---|---|---|---|---|---|---|---|---|---|\n| 1 | Cameron Williams | 42 | 11066.80 | 0 | 7.22 |  8 | 2013-08-30 07:00:40 | 10265 Elizabeth Mission Barkerburgh, AK 89518      | Harvey LLC                  | 1 |\n| 2 | Kevin Mueller    | 41 | 11916.22 | 0 | 6.50 | 11 | 2013-08-13 00:38:46 | 6157 Frank Gardens Suite 019 Carloshaven, RI 17756 | Wilson PLC                  | 1 |\n| 3 | Eric Lozano      | 38 | 12884.75 | 0 | 6.67 | 12 | 2016-06-29 06:20:07 | 1331 Keith Court Alyssahaven, DE 90114             | Miller, Johnson and Wallace | 1 |\n| 4 | Phillip White    | 42 |  8010.76 | 0 | 6.71 | 10 | 2014-04-22 12:43:12 | 13120 Daniel Mount Angelabury, WY 30645-4695       | Smith Inc                   | 1 |\n| 5 | Cynthia Norton   | 37 |  9191.58 | 0 | 5.56 |  9 | 2016-01-19 15:31:15 | 765 Tricia Row Karenshire, MH 71730                | Love-Jones                  | 1 |\n\n",
            "text/latex": "A data.frame: 5 × 10\n\\begin{tabular}{r|llllllllll}\n  & Names & Age & Total\\_Purchase & Account\\_Manager & Years & Num\\_Sites & Onboard\\_date & Location & Company & Churn\\\\\n  & <chr> & <dbl> & <dbl> & <int> & <dbl> & <dbl> & <chr> & <chr> & <chr> & <int>\\\\\n\\hline\n\t1 & Cameron Williams & 42 & 11066.80 & 0 & 7.22 &  8 & 2013-08-30 07:00:40 & 10265 Elizabeth Mission Barkerburgh, AK 89518      & Harvey LLC                  & 1\\\\\n\t2 & Kevin Mueller    & 41 & 11916.22 & 0 & 6.50 & 11 & 2013-08-13 00:38:46 & 6157 Frank Gardens Suite 019 Carloshaven, RI 17756 & Wilson PLC                  & 1\\\\\n\t3 & Eric Lozano      & 38 & 12884.75 & 0 & 6.67 & 12 & 2016-06-29 06:20:07 & 1331 Keith Court Alyssahaven, DE 90114             & Miller, Johnson and Wallace & 1\\\\\n\t4 & Phillip White    & 42 &  8010.76 & 0 & 6.71 & 10 & 2014-04-22 12:43:12 & 13120 Daniel Mount Angelabury, WY 30645-4695       & Smith Inc                   & 1\\\\\n\t5 & Cynthia Norton   & 37 &  9191.58 & 0 & 5.56 &  9 & 2016-01-19 15:31:15 & 765 Tricia Row Karenshire, MH 71730                & Love-Jones                  & 1\\\\\n\\end{tabular}\n",
            "text/plain": [
              "  Names            Age Total_Purchase Account_Manager Years Num_Sites\n",
              "1 Cameron Williams 42  11066.80       0               7.22   8       \n",
              "2 Kevin Mueller    41  11916.22       0               6.50  11       \n",
              "3 Eric Lozano      38  12884.75       0               6.67  12       \n",
              "4 Phillip White    42   8010.76       0               6.71  10       \n",
              "5 Cynthia Norton   37   9191.58       0               5.56   9       \n",
              "  Onboard_date        Location                                          \n",
              "1 2013-08-30 07:00:40 10265 Elizabeth Mission Barkerburgh, AK 89518     \n",
              "2 2013-08-13 00:38:46 6157 Frank Gardens Suite 019 Carloshaven, RI 17756\n",
              "3 2016-06-29 06:20:07 1331 Keith Court Alyssahaven, DE 90114            \n",
              "4 2014-04-22 12:43:12 13120 Daniel Mount Angelabury, WY 30645-4695      \n",
              "5 2016-01-19 15:31:15 765 Tricia Row Karenshire, MH 71730               \n",
              "  Company                     Churn\n",
              "1 Harvey LLC                  1    \n",
              "2 Wilson PLC                  1    \n",
              "3 Miller, Johnson and Wallace 1    \n",
              "4 Smith Inc                   1    \n",
              "5 Love-Jones                  1    "
            ]
          },
          "metadata": {}
        }
      ]
    },
    {
      "cell_type": "code",
      "source": [
        "library(dplyr)"
      ],
      "metadata": {
        "colab": {
          "base_uri": "https://localhost:8080/"
        },
        "id": "ZJSPy4EaH8dQ",
        "outputId": "eacf0694-5926-4d5a-a065-f26e2b7815fb"
      },
      "execution_count": 123,
      "outputs": [
        {
          "output_type": "stream",
          "name": "stderr",
          "text": [
            "\n",
            "Attaching package: ‘dplyr’\n",
            "\n",
            "\n",
            "The following objects are masked from ‘package:stats’:\n",
            "\n",
            "    filter, lag\n",
            "\n",
            "\n",
            "The following objects are masked from ‘package:base’:\n",
            "\n",
            "    intersect, setdiff, setequal, union\n",
            "\n",
            "\n"
          ]
        }
      ]
    },
    {
      "cell_type": "code",
      "source": [
        "# Sélectionner des colonnes\n",
        "\n",
        "sub_dataset <- dataset %>% select(Names, Years, Total_Purchase, Num_Sites)\n",
        "head(sub_dataset, 5)"
      ],
      "metadata": {
        "colab": {
          "base_uri": "https://localhost:8080/",
          "height": 255
        },
        "id": "u20gKYd6JP-5",
        "outputId": "9eb947ec-d94f-425a-cbc3-0bf5fbea109d"
      },
      "execution_count": 129,
      "outputs": [
        {
          "output_type": "display_data",
          "data": {
            "text/html": [
              "<table class=\"dataframe\">\n",
              "<caption>A data.frame: 5 × 4</caption>\n",
              "<thead>\n",
              "\t<tr><th></th><th scope=col>Names</th><th scope=col>Years</th><th scope=col>Total_Purchase</th><th scope=col>Num_Sites</th></tr>\n",
              "\t<tr><th></th><th scope=col>&lt;chr&gt;</th><th scope=col>&lt;dbl&gt;</th><th scope=col>&lt;dbl&gt;</th><th scope=col>&lt;dbl&gt;</th></tr>\n",
              "</thead>\n",
              "<tbody>\n",
              "\t<tr><th scope=row>1</th><td>Cameron Williams</td><td>7.22</td><td>11066.80</td><td> 8</td></tr>\n",
              "\t<tr><th scope=row>2</th><td>Kevin Mueller   </td><td>6.50</td><td>11916.22</td><td>11</td></tr>\n",
              "\t<tr><th scope=row>3</th><td>Eric Lozano     </td><td>6.67</td><td>12884.75</td><td>12</td></tr>\n",
              "\t<tr><th scope=row>4</th><td>Phillip White   </td><td>6.71</td><td> 8010.76</td><td>10</td></tr>\n",
              "\t<tr><th scope=row>5</th><td>Cynthia Norton  </td><td>5.56</td><td> 9191.58</td><td> 9</td></tr>\n",
              "</tbody>\n",
              "</table>\n"
            ],
            "text/markdown": "\nA data.frame: 5 × 4\n\n| <!--/--> | Names &lt;chr&gt; | Years &lt;dbl&gt; | Total_Purchase &lt;dbl&gt; | Num_Sites &lt;dbl&gt; |\n|---|---|---|---|---|\n| 1 | Cameron Williams | 7.22 | 11066.80 |  8 |\n| 2 | Kevin Mueller    | 6.50 | 11916.22 | 11 |\n| 3 | Eric Lozano      | 6.67 | 12884.75 | 12 |\n| 4 | Phillip White    | 6.71 |  8010.76 | 10 |\n| 5 | Cynthia Norton   | 5.56 |  9191.58 |  9 |\n\n",
            "text/latex": "A data.frame: 5 × 4\n\\begin{tabular}{r|llll}\n  & Names & Years & Total\\_Purchase & Num\\_Sites\\\\\n  & <chr> & <dbl> & <dbl> & <dbl>\\\\\n\\hline\n\t1 & Cameron Williams & 7.22 & 11066.80 &  8\\\\\n\t2 & Kevin Mueller    & 6.50 & 11916.22 & 11\\\\\n\t3 & Eric Lozano      & 6.67 & 12884.75 & 12\\\\\n\t4 & Phillip White    & 6.71 &  8010.76 & 10\\\\\n\t5 & Cynthia Norton   & 5.56 &  9191.58 &  9\\\\\n\\end{tabular}\n",
            "text/plain": [
              "  Names            Years Total_Purchase Num_Sites\n",
              "1 Cameron Williams 7.22  11066.80        8       \n",
              "2 Kevin Mueller    6.50  11916.22       11       \n",
              "3 Eric Lozano      6.67  12884.75       12       \n",
              "4 Phillip White    6.71   8010.76       10       \n",
              "5 Cynthia Norton   5.56   9191.58        9       "
            ]
          },
          "metadata": {}
        }
      ]
    },
    {
      "cell_type": "code",
      "source": [
        "# Filtrer un dataset (sélectionner des lignes)\n",
        "\n",
        "dataset %>% select(Names, Years, Total_Purchase, Num_Sites) %>% filter(Years > 7, Num_Sites < 10)"
      ],
      "metadata": {
        "colab": {
          "base_uri": "https://localhost:8080/",
          "height": 1000
        },
        "id": "l-YO4tk8KX_s",
        "outputId": "e31d9c13-ccca-4d55-f74d-92bf1cb6b21d"
      },
      "execution_count": 131,
      "outputs": [
        {
          "output_type": "display_data",
          "data": {
            "text/html": [
              "<table class=\"dataframe\">\n",
              "<caption>A data.frame: 44 × 4</caption>\n",
              "<thead>\n",
              "\t<tr><th scope=col>Names</th><th scope=col>Years</th><th scope=col>Total_Purchase</th><th scope=col>Num_Sites</th></tr>\n",
              "\t<tr><th scope=col>&lt;chr&gt;</th><th scope=col>&lt;dbl&gt;</th><th scope=col>&lt;dbl&gt;</th><th scope=col>&lt;dbl&gt;</th></tr>\n",
              "</thead>\n",
              "<tbody>\n",
              "\t<tr><td>Cameron Williams   </td><td>7.22</td><td>11066.80</td><td>8</td></tr>\n",
              "\t<tr><td>Brittany Hopkins   </td><td>8.11</td><td> 5024.52</td><td>9</td></tr>\n",
              "\t<tr><td>Amber Spears       </td><td>8.36</td><td>13365.66</td><td>9</td></tr>\n",
              "\t<tr><td>Daniel Bates       </td><td>7.16</td><td>10744.14</td><td>9</td></tr>\n",
              "\t<tr><td>Megan Tucker       </td><td>8.82</td><td>11386.56</td><td>9</td></tr>\n",
              "\t<tr><td>Michael Acosta     </td><td>7.31</td><td>12112.53</td><td>9</td></tr>\n",
              "\t<tr><td>Nicole Friedman    </td><td>7.39</td><td> 8615.52</td><td>9</td></tr>\n",
              "\t<tr><td>Isaiah Noble       </td><td>7.67</td><td>10526.18</td><td>9</td></tr>\n",
              "\t<tr><td>Richard Farmer     </td><td>7.77</td><td> 8588.46</td><td>8</td></tr>\n",
              "\t<tr><td>Emily Little       </td><td>7.82</td><td> 6683.82</td><td>7</td></tr>\n",
              "\t<tr><td>Michael White      </td><td>7.12</td><td> 7896.65</td><td>8</td></tr>\n",
              "\t<tr><td>William Burns      </td><td>7.42</td><td> 7673.00</td><td>7</td></tr>\n",
              "\t<tr><td>Shawn Ramirez      </td><td>8.42</td><td>10527.52</td><td>8</td></tr>\n",
              "\t<tr><td>Tabitha Love       </td><td>7.06</td><td>13498.28</td><td>9</td></tr>\n",
              "\t<tr><td>Michael Patterson  </td><td>7.34</td><td> 9574.89</td><td>8</td></tr>\n",
              "\t<tr><td>Donald Barrett     </td><td>7.03</td><td>10323.07</td><td>9</td></tr>\n",
              "\t<tr><td>Brenda Walls       </td><td>8.35</td><td>10877.81</td><td>8</td></tr>\n",
              "\t<tr><td>Kim Adams          </td><td>7.31</td><td> 8677.28</td><td>7</td></tr>\n",
              "\t<tr><td>Becky Cardenas     </td><td>7.52</td><td>13762.79</td><td>9</td></tr>\n",
              "\t<tr><td>Jason Phillips     </td><td>7.19</td><td> 8418.81</td><td>6</td></tr>\n",
              "\t<tr><td>Donna Good         </td><td>9.15</td><td>12713.90</td><td>8</td></tr>\n",
              "\t<tr><td>Dustin Dodson      </td><td>7.02</td><td> 7761.20</td><td>9</td></tr>\n",
              "\t<tr><td>Douglas Acosta     </td><td>7.52</td><td> 8801.13</td><td>6</td></tr>\n",
              "\t<tr><td>Monica Hernandez   </td><td>8.47</td><td> 9347.47</td><td>8</td></tr>\n",
              "\t<tr><td>Cindy Olson        </td><td>7.66</td><td> 5738.82</td><td>7</td></tr>\n",
              "\t<tr><td>John Jackson       </td><td>7.92</td><td>11655.82</td><td>9</td></tr>\n",
              "\t<tr><td>Robert Allen       </td><td>7.25</td><td>10241.32</td><td>7</td></tr>\n",
              "\t<tr><td>Thomas Richardson  </td><td>7.02</td><td>10445.76</td><td>8</td></tr>\n",
              "\t<tr><td>Tina Schmidt       </td><td>7.21</td><td>10668.91</td><td>8</td></tr>\n",
              "\t<tr><td>Thomas Campbell    </td><td>7.55</td><td> 8931.09</td><td>7</td></tr>\n",
              "\t<tr><td>Wendy Key          </td><td>7.65</td><td> 9621.04</td><td>8</td></tr>\n",
              "\t<tr><td>Vanessa Donaldson  </td><td>8.35</td><td>10697.72</td><td>8</td></tr>\n",
              "\t<tr><td>Charles Ellison    </td><td>8.62</td><td>10746.69</td><td>9</td></tr>\n",
              "\t<tr><td>Alexis Allen       </td><td>7.17</td><td> 7686.13</td><td>8</td></tr>\n",
              "\t<tr><td>Faith Sanchez      </td><td>7.27</td><td>11738.88</td><td>9</td></tr>\n",
              "\t<tr><td>Curtis Phillips    </td><td>7.94</td><td>12978.81</td><td>7</td></tr>\n",
              "\t<tr><td>Vanessa Hodge      </td><td>8.60</td><td> 8370.15</td><td>5</td></tr>\n",
              "\t<tr><td>Kevin Powell       </td><td>7.04</td><td>16955.76</td><td>8</td></tr>\n",
              "\t<tr><td>Zachary Sanchez    </td><td>7.10</td><td> 8131.64</td><td>7</td></tr>\n",
              "\t<tr><td>Amber Evans        </td><td>7.65</td><td>10348.37</td><td>6</td></tr>\n",
              "\t<tr><td>Rodney Miller      </td><td>8.25</td><td> 9401.99</td><td>9</td></tr>\n",
              "\t<tr><td>Christopher Beasley</td><td>7.31</td><td> 8662.18</td><td>8</td></tr>\n",
              "\t<tr><td>Gina Johnson       </td><td>7.36</td><td> 8261.89</td><td>9</td></tr>\n",
              "\t<tr><td>Tammy Pope         </td><td>7.01</td><td> 9576.07</td><td>8</td></tr>\n",
              "</tbody>\n",
              "</table>\n"
            ],
            "text/markdown": "\nA data.frame: 44 × 4\n\n| Names &lt;chr&gt; | Years &lt;dbl&gt; | Total_Purchase &lt;dbl&gt; | Num_Sites &lt;dbl&gt; |\n|---|---|---|---|\n| Cameron Williams    | 7.22 | 11066.80 | 8 |\n| Brittany Hopkins    | 8.11 |  5024.52 | 9 |\n| Amber Spears        | 8.36 | 13365.66 | 9 |\n| Daniel Bates        | 7.16 | 10744.14 | 9 |\n| Megan Tucker        | 8.82 | 11386.56 | 9 |\n| Michael Acosta      | 7.31 | 12112.53 | 9 |\n| Nicole Friedman     | 7.39 |  8615.52 | 9 |\n| Isaiah Noble        | 7.67 | 10526.18 | 9 |\n| Richard Farmer      | 7.77 |  8588.46 | 8 |\n| Emily Little        | 7.82 |  6683.82 | 7 |\n| Michael White       | 7.12 |  7896.65 | 8 |\n| William Burns       | 7.42 |  7673.00 | 7 |\n| Shawn Ramirez       | 8.42 | 10527.52 | 8 |\n| Tabitha Love        | 7.06 | 13498.28 | 9 |\n| Michael Patterson   | 7.34 |  9574.89 | 8 |\n| Donald Barrett      | 7.03 | 10323.07 | 9 |\n| Brenda Walls        | 8.35 | 10877.81 | 8 |\n| Kim Adams           | 7.31 |  8677.28 | 7 |\n| Becky Cardenas      | 7.52 | 13762.79 | 9 |\n| Jason Phillips      | 7.19 |  8418.81 | 6 |\n| Donna Good          | 9.15 | 12713.90 | 8 |\n| Dustin Dodson       | 7.02 |  7761.20 | 9 |\n| Douglas Acosta      | 7.52 |  8801.13 | 6 |\n| Monica Hernandez    | 8.47 |  9347.47 | 8 |\n| Cindy Olson         | 7.66 |  5738.82 | 7 |\n| John Jackson        | 7.92 | 11655.82 | 9 |\n| Robert Allen        | 7.25 | 10241.32 | 7 |\n| Thomas Richardson   | 7.02 | 10445.76 | 8 |\n| Tina Schmidt        | 7.21 | 10668.91 | 8 |\n| Thomas Campbell     | 7.55 |  8931.09 | 7 |\n| Wendy Key           | 7.65 |  9621.04 | 8 |\n| Vanessa Donaldson   | 8.35 | 10697.72 | 8 |\n| Charles Ellison     | 8.62 | 10746.69 | 9 |\n| Alexis Allen        | 7.17 |  7686.13 | 8 |\n| Faith Sanchez       | 7.27 | 11738.88 | 9 |\n| Curtis Phillips     | 7.94 | 12978.81 | 7 |\n| Vanessa Hodge       | 8.60 |  8370.15 | 5 |\n| Kevin Powell        | 7.04 | 16955.76 | 8 |\n| Zachary Sanchez     | 7.10 |  8131.64 | 7 |\n| Amber Evans         | 7.65 | 10348.37 | 6 |\n| Rodney Miller       | 8.25 |  9401.99 | 9 |\n| Christopher Beasley | 7.31 |  8662.18 | 8 |\n| Gina Johnson        | 7.36 |  8261.89 | 9 |\n| Tammy Pope          | 7.01 |  9576.07 | 8 |\n\n",
            "text/latex": "A data.frame: 44 × 4\n\\begin{tabular}{llll}\n Names & Years & Total\\_Purchase & Num\\_Sites\\\\\n <chr> & <dbl> & <dbl> & <dbl>\\\\\n\\hline\n\t Cameron Williams    & 7.22 & 11066.80 & 8\\\\\n\t Brittany Hopkins    & 8.11 &  5024.52 & 9\\\\\n\t Amber Spears        & 8.36 & 13365.66 & 9\\\\\n\t Daniel Bates        & 7.16 & 10744.14 & 9\\\\\n\t Megan Tucker        & 8.82 & 11386.56 & 9\\\\\n\t Michael Acosta      & 7.31 & 12112.53 & 9\\\\\n\t Nicole Friedman     & 7.39 &  8615.52 & 9\\\\\n\t Isaiah Noble        & 7.67 & 10526.18 & 9\\\\\n\t Richard Farmer      & 7.77 &  8588.46 & 8\\\\\n\t Emily Little        & 7.82 &  6683.82 & 7\\\\\n\t Michael White       & 7.12 &  7896.65 & 8\\\\\n\t William Burns       & 7.42 &  7673.00 & 7\\\\\n\t Shawn Ramirez       & 8.42 & 10527.52 & 8\\\\\n\t Tabitha Love        & 7.06 & 13498.28 & 9\\\\\n\t Michael Patterson   & 7.34 &  9574.89 & 8\\\\\n\t Donald Barrett      & 7.03 & 10323.07 & 9\\\\\n\t Brenda Walls        & 8.35 & 10877.81 & 8\\\\\n\t Kim Adams           & 7.31 &  8677.28 & 7\\\\\n\t Becky Cardenas      & 7.52 & 13762.79 & 9\\\\\n\t Jason Phillips      & 7.19 &  8418.81 & 6\\\\\n\t Donna Good          & 9.15 & 12713.90 & 8\\\\\n\t Dustin Dodson       & 7.02 &  7761.20 & 9\\\\\n\t Douglas Acosta      & 7.52 &  8801.13 & 6\\\\\n\t Monica Hernandez    & 8.47 &  9347.47 & 8\\\\\n\t Cindy Olson         & 7.66 &  5738.82 & 7\\\\\n\t John Jackson        & 7.92 & 11655.82 & 9\\\\\n\t Robert Allen        & 7.25 & 10241.32 & 7\\\\\n\t Thomas Richardson   & 7.02 & 10445.76 & 8\\\\\n\t Tina Schmidt        & 7.21 & 10668.91 & 8\\\\\n\t Thomas Campbell     & 7.55 &  8931.09 & 7\\\\\n\t Wendy Key           & 7.65 &  9621.04 & 8\\\\\n\t Vanessa Donaldson   & 8.35 & 10697.72 & 8\\\\\n\t Charles Ellison     & 8.62 & 10746.69 & 9\\\\\n\t Alexis Allen        & 7.17 &  7686.13 & 8\\\\\n\t Faith Sanchez       & 7.27 & 11738.88 & 9\\\\\n\t Curtis Phillips     & 7.94 & 12978.81 & 7\\\\\n\t Vanessa Hodge       & 8.60 &  8370.15 & 5\\\\\n\t Kevin Powell        & 7.04 & 16955.76 & 8\\\\\n\t Zachary Sanchez     & 7.10 &  8131.64 & 7\\\\\n\t Amber Evans         & 7.65 & 10348.37 & 6\\\\\n\t Rodney Miller       & 8.25 &  9401.99 & 9\\\\\n\t Christopher Beasley & 7.31 &  8662.18 & 8\\\\\n\t Gina Johnson        & 7.36 &  8261.89 & 9\\\\\n\t Tammy Pope          & 7.01 &  9576.07 & 8\\\\\n\\end{tabular}\n",
            "text/plain": [
              "   Names               Years Total_Purchase Num_Sites\n",
              "1  Cameron Williams    7.22  11066.80       8        \n",
              "2  Brittany Hopkins    8.11   5024.52       9        \n",
              "3  Amber Spears        8.36  13365.66       9        \n",
              "4  Daniel Bates        7.16  10744.14       9        \n",
              "5  Megan Tucker        8.82  11386.56       9        \n",
              "6  Michael Acosta      7.31  12112.53       9        \n",
              "7  Nicole Friedman     7.39   8615.52       9        \n",
              "8  Isaiah Noble        7.67  10526.18       9        \n",
              "9  Richard Farmer      7.77   8588.46       8        \n",
              "10 Emily Little        7.82   6683.82       7        \n",
              "11 Michael White       7.12   7896.65       8        \n",
              "12 William Burns       7.42   7673.00       7        \n",
              "13 Shawn Ramirez       8.42  10527.52       8        \n",
              "14 Tabitha Love        7.06  13498.28       9        \n",
              "15 Michael Patterson   7.34   9574.89       8        \n",
              "16 Donald Barrett      7.03  10323.07       9        \n",
              "17 Brenda Walls        8.35  10877.81       8        \n",
              "18 Kim Adams           7.31   8677.28       7        \n",
              "19 Becky Cardenas      7.52  13762.79       9        \n",
              "20 Jason Phillips      7.19   8418.81       6        \n",
              "21 Donna Good          9.15  12713.90       8        \n",
              "22 Dustin Dodson       7.02   7761.20       9        \n",
              "23 Douglas Acosta      7.52   8801.13       6        \n",
              "24 Monica Hernandez    8.47   9347.47       8        \n",
              "25 Cindy Olson         7.66   5738.82       7        \n",
              "26 John Jackson        7.92  11655.82       9        \n",
              "27 Robert Allen        7.25  10241.32       7        \n",
              "28 Thomas Richardson   7.02  10445.76       8        \n",
              "29 Tina Schmidt        7.21  10668.91       8        \n",
              "30 Thomas Campbell     7.55   8931.09       7        \n",
              "31 Wendy Key           7.65   9621.04       8        \n",
              "32 Vanessa Donaldson   8.35  10697.72       8        \n",
              "33 Charles Ellison     8.62  10746.69       9        \n",
              "34 Alexis Allen        7.17   7686.13       8        \n",
              "35 Faith Sanchez       7.27  11738.88       9        \n",
              "36 Curtis Phillips     7.94  12978.81       7        \n",
              "37 Vanessa Hodge       8.60   8370.15       5        \n",
              "38 Kevin Powell        7.04  16955.76       8        \n",
              "39 Zachary Sanchez     7.10   8131.64       7        \n",
              "40 Amber Evans         7.65  10348.37       6        \n",
              "41 Rodney Miller       8.25   9401.99       9        \n",
              "42 Christopher Beasley 7.31   8662.18       8        \n",
              "43 Gina Johnson        7.36   8261.89       9        \n",
              "44 Tammy Pope          7.01   9576.07       8        "
            ]
          },
          "metadata": {}
        }
      ]
    },
    {
      "cell_type": "code",
      "source": [
        "# Créer de nouvelles colonnes avec mutate\n",
        "dataset %>% mutate(Purchase_Year = Total_Purchase/Years)"
      ],
      "metadata": {
        "colab": {
          "base_uri": "https://localhost:8080/",
          "height": 1000
        },
        "id": "GwQa9bGhLP_a",
        "outputId": "f61aea9c-262a-4c97-fc25-3f92f975152e"
      },
      "execution_count": 132,
      "outputs": [
        {
          "output_type": "display_data",
          "data": {
            "text/html": [
              "<table class=\"dataframe\">\n",
              "<caption>A data.frame: 900 × 11</caption>\n",
              "<thead>\n",
              "\t<tr><th scope=col>Names</th><th scope=col>Age</th><th scope=col>Total_Purchase</th><th scope=col>Account_Manager</th><th scope=col>Years</th><th scope=col>Num_Sites</th><th scope=col>Onboard_date</th><th scope=col>Location</th><th scope=col>Company</th><th scope=col>Churn</th><th scope=col>Purchase_Year</th></tr>\n",
              "\t<tr><th scope=col>&lt;chr&gt;</th><th scope=col>&lt;dbl&gt;</th><th scope=col>&lt;dbl&gt;</th><th scope=col>&lt;int&gt;</th><th scope=col>&lt;dbl&gt;</th><th scope=col>&lt;dbl&gt;</th><th scope=col>&lt;chr&gt;</th><th scope=col>&lt;chr&gt;</th><th scope=col>&lt;chr&gt;</th><th scope=col>&lt;int&gt;</th><th scope=col>&lt;dbl&gt;</th></tr>\n",
              "</thead>\n",
              "<tbody>\n",
              "\t<tr><td>Cameron Williams   </td><td>42</td><td>11066.80</td><td>0</td><td>7.22</td><td> 8</td><td>2013-08-30 07:00:40</td><td>10265 Elizabeth Mission Barkerburgh, AK 89518              </td><td>Harvey LLC                   </td><td>1</td><td>1532.7978</td></tr>\n",
              "\t<tr><td>Kevin Mueller      </td><td>41</td><td>11916.22</td><td>0</td><td>6.50</td><td>11</td><td>2013-08-13 00:38:46</td><td>6157 Frank Gardens Suite 019 Carloshaven, RI 17756         </td><td>Wilson PLC                   </td><td>1</td><td>1833.2646</td></tr>\n",
              "\t<tr><td>Eric Lozano        </td><td>38</td><td>12884.75</td><td>0</td><td>6.67</td><td>12</td><td>2016-06-29 06:20:07</td><td>1331 Keith Court Alyssahaven, DE 90114                     </td><td>Miller, Johnson and Wallace  </td><td>1</td><td>1931.7466</td></tr>\n",
              "\t<tr><td>Phillip White      </td><td>42</td><td> 8010.76</td><td>0</td><td>6.71</td><td>10</td><td>2014-04-22 12:43:12</td><td>13120 Daniel Mount Angelabury, WY 30645-4695               </td><td>Smith Inc                    </td><td>1</td><td>1193.8539</td></tr>\n",
              "\t<tr><td>Cynthia Norton     </td><td>37</td><td> 9191.58</td><td>0</td><td>5.56</td><td> 9</td><td>2016-01-19 15:31:15</td><td>765 Tricia Row Karenshire, MH 71730                        </td><td>Love-Jones                   </td><td>1</td><td>1653.1619</td></tr>\n",
              "\t<tr><td>Jessica Williams   </td><td>48</td><td>10356.02</td><td>0</td><td>5.12</td><td> 8</td><td>2009-03-03 23:13:37</td><td>6187 Olson Mountains East Vincentborough, PR 74359         </td><td>Kelly-Warren                 </td><td>1</td><td>2022.6602</td></tr>\n",
              "\t<tr><td>Eric Butler        </td><td>44</td><td>11331.58</td><td>1</td><td>5.23</td><td>11</td><td>2016-12-05 03:35:43</td><td>4846 Savannah Road West Justin, IA 87713-3460              </td><td>Reynolds-Sheppard            </td><td>1</td><td>2166.6501</td></tr>\n",
              "\t<tr><td>Zachary Walsh      </td><td>32</td><td> 9885.12</td><td>1</td><td>6.92</td><td> 9</td><td>2006-03-09 14:50:20</td><td>25271 Roy Expressway Suite 147 Brownport, FM 59852-6150    </td><td>Singh-Cole                   </td><td>1</td><td>1428.4855</td></tr>\n",
              "\t<tr><td>Ashlee Carr        </td><td>43</td><td>14062.60</td><td>1</td><td>5.46</td><td>11</td><td>2011-09-29 05:47:23</td><td>3725 Caroline Stravenue South Christineview, MA 82059      </td><td>Lopez PLC                    </td><td>1</td><td>2575.5678</td></tr>\n",
              "\t<tr><td>Jennifer Lynch     </td><td>40</td><td> 8066.94</td><td>1</td><td>7.11</td><td>11</td><td>2006-03-28 15:42:45</td><td>363 Sandra Lodge Suite 144 South Ann, WI 51655-7561        </td><td>Reed-Martinez                </td><td>1</td><td>1134.5907</td></tr>\n",
              "\t<tr><td>Paula Harris       </td><td>30</td><td>11575.37</td><td>1</td><td>5.22</td><td> 8</td><td>2016-11-13 13:13:01</td><td>Unit 8120 Box 9160 DPO AA 43432                            </td><td>Briggs, Lamb and Mathews     </td><td>1</td><td>2217.5038</td></tr>\n",
              "\t<tr><td>Bruce Phillips     </td><td>45</td><td> 8771.02</td><td>1</td><td>6.64</td><td>11</td><td>2015-05-28 12:14:03</td><td>Unit 1895 Box 0949 DPO AA 40249                            </td><td>Figueroa-Maynard             </td><td>1</td><td>1320.9367</td></tr>\n",
              "\t<tr><td>Craig Garner       </td><td>45</td><td> 8988.67</td><td>1</td><td>4.84</td><td>11</td><td>2011-02-16 08:10:47</td><td>897 Kelley Overpass Suite 349 West Rebekahport, AZ 44793   </td><td>Abbott-Thompson              </td><td>1</td><td>1857.1632</td></tr>\n",
              "\t<tr><td>Nicole Olson       </td><td>40</td><td> 8283.32</td><td>1</td><td>5.10</td><td>13</td><td>2012-11-22 05:35:03</td><td>11488 Weaver Cape Hernandezberg, WI 63417-8544             </td><td>Smith, Kim and Marshall      </td><td>1</td><td>1624.1804</td></tr>\n",
              "\t<tr><td>Harold Griffin     </td><td>41</td><td> 6569.87</td><td>1</td><td>4.30</td><td>11</td><td>2015-03-28 02:13:44</td><td>1774 Peter Row Apt. 712 New Autumn, MT 18782               </td><td>Snyder, Lee and Morris       </td><td>1</td><td>1527.8767</td></tr>\n",
              "\t<tr><td>James Wright       </td><td>38</td><td>10494.82</td><td>1</td><td>6.81</td><td>12</td><td>2015-07-22 08:38:40</td><td>45408 David Path East Kimberlyshire, HI 54903-6698         </td><td>Sanders-Pierce               </td><td>1</td><td>1541.0896</td></tr>\n",
              "\t<tr><td>Doris Wilkins      </td><td>45</td><td> 8213.41</td><td>1</td><td>7.35</td><td>11</td><td>2006-09-03 06:13:55</td><td>28216 Wright Mount Apt. 356 Alichester, DE 40999-2369      </td><td>Andrews, Adams and Davis     </td><td>1</td><td>1117.4707</td></tr>\n",
              "\t<tr><td>Katherine Carpenter</td><td>43</td><td>11226.88</td><td>0</td><td>8.08</td><td>12</td><td>2006-10-22 04:42:38</td><td>Unit 4948 Box 4814 DPO AP 42669                            </td><td>Morgan, Phillips and Harrell </td><td>1</td><td>1389.4653</td></tr>\n",
              "\t<tr><td>Lindsay Martin     </td><td>53</td><td> 5515.09</td><td>0</td><td>6.85</td><td> 8</td><td>2015-10-07 00:27:10</td><td>69203 Crosby Divide Apt. 878 Parkerview, CO 87064          </td><td>Villanueva LLC               </td><td>1</td><td> 805.1226</td></tr>\n",
              "\t<tr><td>Kathy Curry        </td><td>46</td><td> 8046.40</td><td>1</td><td>5.69</td><td> 8</td><td>2014-11-06 23:47:14</td><td>9569 Caldwell Crescent Tanyaborough, RI 30637              </td><td>Berry, Orr and Cabrera       </td><td>1</td><td>1414.1301</td></tr>\n",
              "\t<tr><td>Dean Miller        </td><td>41</td><td> 9771.22</td><td>0</td><td>5.81</td><td>11</td><td>2013-05-30 00:42:13</td><td>803 Kelli Crossing Apt. 169 Jimenezberg, WV 56530-4240     </td><td>Parks-Bradley                </td><td>1</td><td>1681.7935</td></tr>\n",
              "\t<tr><td>Kevin Ramos        </td><td>56</td><td>12217.95</td><td>1</td><td>5.79</td><td>11</td><td>2016-11-17 14:37:01</td><td>5775 Jared Stream Apt. 881 Port Jenniferfort, CO 63506-4063</td><td>Olsen LLC                    </td><td>1</td><td>2110.1813</td></tr>\n",
              "\t<tr><td>Jennifer Wood      </td><td>35</td><td> 9381.12</td><td>1</td><td>6.78</td><td>11</td><td>2006-03-27 20:52:42</td><td>1493 Phillips Haven Lake William, FM 00995-2870            </td><td>Clark, Campbell and Armstrong</td><td>1</td><td>1383.6460</td></tr>\n",
              "\t<tr><td>Paul Walker        </td><td>41</td><td>10474.94</td><td>0</td><td>6.40</td><td>12</td><td>2012-01-02 05:08:52</td><td>73006 Patty Avenue Apt. 646 New Sarahburgh, NV 24826       </td><td>Dalton LLC                   </td><td>1</td><td>1636.7094</td></tr>\n",
              "\t<tr><td>Lindsey Day        </td><td>55</td><td>11158.50</td><td>1</td><td>4.86</td><td>10</td><td>2007-01-07 01:21:47</td><td>85934 Dakota Mall Timothyville, MI 72421                   </td><td>Thompson, Hansen and Sanchez </td><td>1</td><td>2295.9877</td></tr>\n",
              "\t<tr><td>Steven Hernandez   </td><td>54</td><td> 8207.10</td><td>0</td><td>4.26</td><td>11</td><td>2015-04-05 15:57:24</td><td>14609 Perez Turnpike Bradleyberg, DE 99755                 </td><td>Yates, Martinez and Cox      </td><td>1</td><td>1926.5493</td></tr>\n",
              "\t<tr><td>Danielle Kirk      </td><td>35</td><td>12403.81</td><td>0</td><td>4.42</td><td>11</td><td>2007-07-31 06:39:54</td><td>20117 Johnson Ports Apt. 914 Jenniferfort, DC 40595        </td><td>Reeves-Curtis                </td><td>1</td><td>2806.2919</td></tr>\n",
              "\t<tr><td>Troy Oliver        </td><td>40</td><td>10041.13</td><td>0</td><td>7.61</td><td>11</td><td>2006-07-30 15:27:23</td><td>USCGC Blake FPO AA 66377-6894                              </td><td>Gates Ltd                    </td><td>1</td><td>1319.4652</td></tr>\n",
              "\t<tr><td>Darlene Evans      </td><td>44</td><td>12721.55</td><td>0</td><td>5.18</td><td>11</td><td>2011-04-25 02:53:25</td><td>950 Christina Viaduct Anastad, IL 03324-2274               </td><td>Dunlap and Sons              </td><td>1</td><td>2455.8977</td></tr>\n",
              "\t<tr><td>Mrs. Sarah Morales </td><td>37</td><td> 8284.89</td><td>1</td><td>5.60</td><td>10</td><td>2009-03-25 06:10:01</td><td>8807 Young Village Joneston, AR 56462                      </td><td>Taylor, Allen and Gardner    </td><td>1</td><td>1479.4446</td></tr>\n",
              "\t<tr><td>⋮</td><td>⋮</td><td>⋮</td><td>⋮</td><td>⋮</td><td>⋮</td><td>⋮</td><td>⋮</td><td>⋮</td><td>⋮</td><td>⋮</td></tr>\n",
              "\t<tr><td>Jose Gutierrez  </td><td>51</td><td> 7985.76</td><td>1</td><td>3.48</td><td> 8</td><td>2006-07-28 15:47:41</td><td>481 Andrews Freeway Apt. 222 Lake Alyssaburgh, TN 57832-1720     </td><td>Smith, Phillips and Smith   </td><td>0</td><td>2294.7586</td></tr>\n",
              "\t<tr><td>Sarah Burns     </td><td>35</td><td>11814.59</td><td>0</td><td>5.89</td><td> 6</td><td>2013-06-28 13:22:40</td><td>01740 Cynthia Rest Apt. 545 Bassburgh, MN 95437-1761             </td><td>Frey-Burke                  </td><td>0</td><td>2005.8727</td></tr>\n",
              "\t<tr><td>Dana Bailey     </td><td>52</td><td> 7077.34</td><td>1</td><td>5.60</td><td> 8</td><td>2015-11-08 06:57:18</td><td>61381 Cassandra Cliffs Apt. 605 West Frederickberg, PW 73455-0264</td><td>Gibson, Frost and Rivera    </td><td>0</td><td>1263.8107</td></tr>\n",
              "\t<tr><td>Diana Jackson   </td><td>51</td><td> 9879.37</td><td>0</td><td>3.55</td><td>10</td><td>2008-02-11 07:28:11</td><td>USNS Burnett FPO AA 61045                                        </td><td>Stephens-Chavez             </td><td>0</td><td>2782.9211</td></tr>\n",
              "\t<tr><td>Scott Love      </td><td>28</td><td>11128.95</td><td>1</td><td>5.12</td><td> 8</td><td>2009-04-13 23:47:15</td><td>Unit 7738 Box 0206 DPO AA 88767-0662                             </td><td>Williams-Johnson            </td><td>0</td><td>2173.6230</td></tr>\n",
              "\t<tr><td>Doris Zimmerman </td><td>40</td><td>11575.55</td><td>1</td><td>5.22</td><td> 5</td><td>2015-03-10 20:16:40</td><td>3536 Rivera Springs Suite 771 New Marcusville, HI 22211-1439     </td><td>Mitchell-Adams              </td><td>0</td><td>2217.5383</td></tr>\n",
              "\t<tr><td>Jeffrey Trevino </td><td>37</td><td>13268.55</td><td>0</td><td>3.92</td><td>11</td><td>2016-03-08 21:48:29</td><td>0295 Mason Vista Suite 110 Ryanbury, IA 14087                    </td><td>Price-Ramirez               </td><td>0</td><td>3384.8342</td></tr>\n",
              "\t<tr><td>Anthony Vega    </td><td>44</td><td> 9351.88</td><td>1</td><td>4.32</td><td> 6</td><td>2011-08-16 19:16:12</td><td>PSC 9086, Box 2290 APO AP 24944-0330                             </td><td>Hall Group                  </td><td>0</td><td>2164.7870</td></tr>\n",
              "\t<tr><td>James Owen      </td><td>43</td><td> 9735.41</td><td>0</td><td>6.12</td><td> 8</td><td>2010-10-27 18:11:23</td><td>802 Jeffrey Valleys Kevinbury, WV 86701-9336                     </td><td>Olson, Ortega and Hester    </td><td>0</td><td>1590.7533</td></tr>\n",
              "\t<tr><td>Aaron Meyer     </td><td>45</td><td> 9598.03</td><td>0</td><td>5.00</td><td> 7</td><td>2010-07-17 03:30:38</td><td>35821 Bailey Skyway Alexisstad, NH 81472                         </td><td>Steele, Bates and Lane      </td><td>0</td><td>1919.6060</td></tr>\n",
              "\t<tr><td>Holly Hill      </td><td>43</td><td> 5805.53</td><td>0</td><td>5.44</td><td> 5</td><td>2014-11-27 17:12:25</td><td>6985 Kevin Flat South Debra, CO 13171                            </td><td>Shaw LLC                    </td><td>0</td><td>1067.1930</td></tr>\n",
              "\t<tr><td>Andrew Leonard  </td><td>41</td><td>14099.03</td><td>1</td><td>4.56</td><td> 7</td><td>2016-03-02 16:50:06</td><td>Unit 6154 Box 5113 DPO AP 65306-0703                             </td><td>Cruz, Carter and Washington </td><td>0</td><td>3091.8925</td></tr>\n",
              "\t<tr><td>Jessica Leon    </td><td>49</td><td> 8523.04</td><td>1</td><td>4.15</td><td> 5</td><td>2014-09-03 01:12:14</td><td>PSC 3040, Box 9946 APO AP 11064-1547                             </td><td>Williams-Moreno             </td><td>0</td><td>2053.7446</td></tr>\n",
              "\t<tr><td>Amy Garcia      </td><td>42</td><td> 6406.38</td><td>0</td><td>3.00</td><td> 9</td><td>2007-03-09 23:50:39</td><td>12223 Sean Valley Suite 960 Johnland, IA 33208                   </td><td>Barker Ltd                  </td><td>0</td><td>2135.4600</td></tr>\n",
              "\t<tr><td>John Nixon      </td><td>48</td><td> 5622.50</td><td>0</td><td>6.05</td><td> 7</td><td>2012-07-11 04:58:33</td><td>7186 Justin Locks Apt. 232 Stevenmouth, CT 17609-9525            </td><td>French-Miller               </td><td>0</td><td> 929.3388</td></tr>\n",
              "\t<tr><td>Deanna Henry    </td><td>47</td><td> 6670.37</td><td>0</td><td>2.55</td><td> 9</td><td>2010-03-29 20:16:38</td><td>62894 Summer Village Suite 944 Port Elizabeth, ID 67244-9988     </td><td>Jones, Collins and Adams    </td><td>0</td><td>2615.8314</td></tr>\n",
              "\t<tr><td>Jeremy Singleton</td><td>46</td><td>13547.39</td><td>0</td><td>2.67</td><td> 8</td><td>2012-04-20 23:59:35</td><td>067 Samuel Greens New Prestonchester, DC 50364-5698              </td><td>Mckinney-Thompson           </td><td>0</td><td>5073.9288</td></tr>\n",
              "\t<tr><td>Kara Anderson   </td><td>47</td><td> 9182.81</td><td>1</td><td>6.45</td><td>11</td><td>2012-04-14 02:53:19</td><td>19845 Hudson Mission Michaelmouth, GA 90290                      </td><td>Douglas, Fleming and Munoz  </td><td>0</td><td>1423.6915</td></tr>\n",
              "\t<tr><td>Kelly Braun     </td><td>42</td><td> 9741.19</td><td>1</td><td>3.85</td><td> 9</td><td>2009-12-14 05:47:16</td><td>080 Brewer Ports Suite 299 Erinmouth, TX 28755                   </td><td>Mosley, Tate and Blankenship</td><td>0</td><td>2530.1792</td></tr>\n",
              "\t<tr><td>Amanda Wade     </td><td>39</td><td> 8880.17</td><td>0</td><td>4.00</td><td> 8</td><td>2011-03-05 06:46:38</td><td>869 Kathleen Dam Apt. 113 East Robertshire, SC 50012-1080        </td><td>Jordan, Beasley and Moore   </td><td>0</td><td>2220.0425</td></tr>\n",
              "\t<tr><td>Jason West      </td><td>45</td><td>13122.89</td><td>0</td><td>5.84</td><td> 6</td><td>2016-04-03 12:55:26</td><td>6239 Timothy Overpass Carmenhaven, FM 05708-0772                 </td><td>Santiago-Waller             </td><td>0</td><td>2247.0702</td></tr>\n",
              "\t<tr><td>Adam Moore      </td><td>41</td><td>12659.88</td><td>0</td><td>4.55</td><td> 4</td><td>2010-01-22 19:08:48</td><td>339 Jeffrey River Suite 638 Fergusonville, DC 25987              </td><td>Little, White and Davis     </td><td>0</td><td>2782.3912</td></tr>\n",
              "\t<tr><td>Brandon Ortiz   </td><td>37</td><td> 8286.87</td><td>1</td><td>6.25</td><td> 8</td><td>2007-12-13 12:23:32</td><td>276 Thompson Field Apt. 992 South Victoriaton, SC 12848-8182     </td><td>Ewing Group                 </td><td>0</td><td>1325.8992</td></tr>\n",
              "\t<tr><td>Cindy Marshall  </td><td>37</td><td> 9229.96</td><td>0</td><td>3.65</td><td> 8</td><td>2015-12-30 19:11:01</td><td>393 Stephens Field South Michelleside, MI 26930                  </td><td>Gomez-Clarke                </td><td>0</td><td>2528.7562</td></tr>\n",
              "\t<tr><td>Matthew Barnes  </td><td>45</td><td> 4863.73</td><td>1</td><td>5.17</td><td> 8</td><td>2011-07-19 18:41:42</td><td>00154 Ashley Course Shannonville, UT 52907                       </td><td>Chavez-Howard               </td><td>0</td><td> 940.7602</td></tr>\n",
              "\t<tr><td>Paul Miller     </td><td>42</td><td>12800.82</td><td>1</td><td>3.62</td><td> 8</td><td>2007-12-01 13:29:34</td><td>9316 Julian Fort Suite 328 North Leslie, ME 43961                </td><td>Evans-Lucero                </td><td>0</td><td>3536.1381</td></tr>\n",
              "\t<tr><td>Natalie Hodges  </td><td>52</td><td> 9893.92</td><td>0</td><td>6.91</td><td> 7</td><td>2008-12-28 15:23:58</td><td>8419 William Square Apt. 695 Martinville, RI 34133               </td><td>Perry and Sons              </td><td>0</td><td>1431.8263</td></tr>\n",
              "\t<tr><td>Ana Smith       </td><td>45</td><td>12056.18</td><td>0</td><td>5.46</td><td> 4</td><td>2014-06-20 05:10:09</td><td>Unit 8633 Box 8738 DPO AA 14126-5026                             </td><td>Schneider-Smith             </td><td>0</td><td>2208.0916</td></tr>\n",
              "\t<tr><td>Justin Leonard  </td><td>51</td><td> 6517.93</td><td>1</td><td>5.47</td><td>10</td><td>2012-05-30 00:15:43</td><td>49800 Torres Ways Suite 886 West Bradleybury, LA 05945-2648      </td><td>Robles-Abbott               </td><td>0</td><td>1191.5777</td></tr>\n",
              "\t<tr><td>Joseph Williams </td><td>39</td><td> 9315.60</td><td>1</td><td>5.02</td><td>10</td><td>2010-09-25 12:16:08</td><td>27252 Olivia Burgs Rivasmouth, MN 80121-6348                     </td><td>Davis Group                 </td><td>0</td><td>1855.6972</td></tr>\n",
              "</tbody>\n",
              "</table>\n"
            ],
            "text/markdown": "\nA data.frame: 900 × 11\n\n| Names &lt;chr&gt; | Age &lt;dbl&gt; | Total_Purchase &lt;dbl&gt; | Account_Manager &lt;int&gt; | Years &lt;dbl&gt; | Num_Sites &lt;dbl&gt; | Onboard_date &lt;chr&gt; | Location &lt;chr&gt; | Company &lt;chr&gt; | Churn &lt;int&gt; | Purchase_Year &lt;dbl&gt; |\n|---|---|---|---|---|---|---|---|---|---|---|\n| Cameron Williams    | 42 | 11066.80 | 0 | 7.22 |  8 | 2013-08-30 07:00:40 | 10265 Elizabeth Mission Barkerburgh, AK 89518               | Harvey LLC                    | 1 | 1532.7978 |\n| Kevin Mueller       | 41 | 11916.22 | 0 | 6.50 | 11 | 2013-08-13 00:38:46 | 6157 Frank Gardens Suite 019 Carloshaven, RI 17756          | Wilson PLC                    | 1 | 1833.2646 |\n| Eric Lozano         | 38 | 12884.75 | 0 | 6.67 | 12 | 2016-06-29 06:20:07 | 1331 Keith Court Alyssahaven, DE 90114                      | Miller, Johnson and Wallace   | 1 | 1931.7466 |\n| Phillip White       | 42 |  8010.76 | 0 | 6.71 | 10 | 2014-04-22 12:43:12 | 13120 Daniel Mount Angelabury, WY 30645-4695                | Smith Inc                     | 1 | 1193.8539 |\n| Cynthia Norton      | 37 |  9191.58 | 0 | 5.56 |  9 | 2016-01-19 15:31:15 | 765 Tricia Row Karenshire, MH 71730                         | Love-Jones                    | 1 | 1653.1619 |\n| Jessica Williams    | 48 | 10356.02 | 0 | 5.12 |  8 | 2009-03-03 23:13:37 | 6187 Olson Mountains East Vincentborough, PR 74359          | Kelly-Warren                  | 1 | 2022.6602 |\n| Eric Butler         | 44 | 11331.58 | 1 | 5.23 | 11 | 2016-12-05 03:35:43 | 4846 Savannah Road West Justin, IA 87713-3460               | Reynolds-Sheppard             | 1 | 2166.6501 |\n| Zachary Walsh       | 32 |  9885.12 | 1 | 6.92 |  9 | 2006-03-09 14:50:20 | 25271 Roy Expressway Suite 147 Brownport, FM 59852-6150     | Singh-Cole                    | 1 | 1428.4855 |\n| Ashlee Carr         | 43 | 14062.60 | 1 | 5.46 | 11 | 2011-09-29 05:47:23 | 3725 Caroline Stravenue South Christineview, MA 82059       | Lopez PLC                     | 1 | 2575.5678 |\n| Jennifer Lynch      | 40 |  8066.94 | 1 | 7.11 | 11 | 2006-03-28 15:42:45 | 363 Sandra Lodge Suite 144 South Ann, WI 51655-7561         | Reed-Martinez                 | 1 | 1134.5907 |\n| Paula Harris        | 30 | 11575.37 | 1 | 5.22 |  8 | 2016-11-13 13:13:01 | Unit 8120 Box 9160 DPO AA 43432                             | Briggs, Lamb and Mathews      | 1 | 2217.5038 |\n| Bruce Phillips      | 45 |  8771.02 | 1 | 6.64 | 11 | 2015-05-28 12:14:03 | Unit 1895 Box 0949 DPO AA 40249                             | Figueroa-Maynard              | 1 | 1320.9367 |\n| Craig Garner        | 45 |  8988.67 | 1 | 4.84 | 11 | 2011-02-16 08:10:47 | 897 Kelley Overpass Suite 349 West Rebekahport, AZ 44793    | Abbott-Thompson               | 1 | 1857.1632 |\n| Nicole Olson        | 40 |  8283.32 | 1 | 5.10 | 13 | 2012-11-22 05:35:03 | 11488 Weaver Cape Hernandezberg, WI 63417-8544              | Smith, Kim and Marshall       | 1 | 1624.1804 |\n| Harold Griffin      | 41 |  6569.87 | 1 | 4.30 | 11 | 2015-03-28 02:13:44 | 1774 Peter Row Apt. 712 New Autumn, MT 18782                | Snyder, Lee and Morris        | 1 | 1527.8767 |\n| James Wright        | 38 | 10494.82 | 1 | 6.81 | 12 | 2015-07-22 08:38:40 | 45408 David Path East Kimberlyshire, HI 54903-6698          | Sanders-Pierce                | 1 | 1541.0896 |\n| Doris Wilkins       | 45 |  8213.41 | 1 | 7.35 | 11 | 2006-09-03 06:13:55 | 28216 Wright Mount Apt. 356 Alichester, DE 40999-2369       | Andrews, Adams and Davis      | 1 | 1117.4707 |\n| Katherine Carpenter | 43 | 11226.88 | 0 | 8.08 | 12 | 2006-10-22 04:42:38 | Unit 4948 Box 4814 DPO AP 42669                             | Morgan, Phillips and Harrell  | 1 | 1389.4653 |\n| Lindsay Martin      | 53 |  5515.09 | 0 | 6.85 |  8 | 2015-10-07 00:27:10 | 69203 Crosby Divide Apt. 878 Parkerview, CO 87064           | Villanueva LLC                | 1 |  805.1226 |\n| Kathy Curry         | 46 |  8046.40 | 1 | 5.69 |  8 | 2014-11-06 23:47:14 | 9569 Caldwell Crescent Tanyaborough, RI 30637               | Berry, Orr and Cabrera        | 1 | 1414.1301 |\n| Dean Miller         | 41 |  9771.22 | 0 | 5.81 | 11 | 2013-05-30 00:42:13 | 803 Kelli Crossing Apt. 169 Jimenezberg, WV 56530-4240      | Parks-Bradley                 | 1 | 1681.7935 |\n| Kevin Ramos         | 56 | 12217.95 | 1 | 5.79 | 11 | 2016-11-17 14:37:01 | 5775 Jared Stream Apt. 881 Port Jenniferfort, CO 63506-4063 | Olsen LLC                     | 1 | 2110.1813 |\n| Jennifer Wood       | 35 |  9381.12 | 1 | 6.78 | 11 | 2006-03-27 20:52:42 | 1493 Phillips Haven Lake William, FM 00995-2870             | Clark, Campbell and Armstrong | 1 | 1383.6460 |\n| Paul Walker         | 41 | 10474.94 | 0 | 6.40 | 12 | 2012-01-02 05:08:52 | 73006 Patty Avenue Apt. 646 New Sarahburgh, NV 24826        | Dalton LLC                    | 1 | 1636.7094 |\n| Lindsey Day         | 55 | 11158.50 | 1 | 4.86 | 10 | 2007-01-07 01:21:47 | 85934 Dakota Mall Timothyville, MI 72421                    | Thompson, Hansen and Sanchez  | 1 | 2295.9877 |\n| Steven Hernandez    | 54 |  8207.10 | 0 | 4.26 | 11 | 2015-04-05 15:57:24 | 14609 Perez Turnpike Bradleyberg, DE 99755                  | Yates, Martinez and Cox       | 1 | 1926.5493 |\n| Danielle Kirk       | 35 | 12403.81 | 0 | 4.42 | 11 | 2007-07-31 06:39:54 | 20117 Johnson Ports Apt. 914 Jenniferfort, DC 40595         | Reeves-Curtis                 | 1 | 2806.2919 |\n| Troy Oliver         | 40 | 10041.13 | 0 | 7.61 | 11 | 2006-07-30 15:27:23 | USCGC Blake FPO AA 66377-6894                               | Gates Ltd                     | 1 | 1319.4652 |\n| Darlene Evans       | 44 | 12721.55 | 0 | 5.18 | 11 | 2011-04-25 02:53:25 | 950 Christina Viaduct Anastad, IL 03324-2274                | Dunlap and Sons               | 1 | 2455.8977 |\n| Mrs. Sarah Morales  | 37 |  8284.89 | 1 | 5.60 | 10 | 2009-03-25 06:10:01 | 8807 Young Village Joneston, AR 56462                       | Taylor, Allen and Gardner     | 1 | 1479.4446 |\n| ⋮ | ⋮ | ⋮ | ⋮ | ⋮ | ⋮ | ⋮ | ⋮ | ⋮ | ⋮ | ⋮ |\n| Jose Gutierrez   | 51 |  7985.76 | 1 | 3.48 |  8 | 2006-07-28 15:47:41 | 481 Andrews Freeway Apt. 222 Lake Alyssaburgh, TN 57832-1720      | Smith, Phillips and Smith    | 0 | 2294.7586 |\n| Sarah Burns      | 35 | 11814.59 | 0 | 5.89 |  6 | 2013-06-28 13:22:40 | 01740 Cynthia Rest Apt. 545 Bassburgh, MN 95437-1761              | Frey-Burke                   | 0 | 2005.8727 |\n| Dana Bailey      | 52 |  7077.34 | 1 | 5.60 |  8 | 2015-11-08 06:57:18 | 61381 Cassandra Cliffs Apt. 605 West Frederickberg, PW 73455-0264 | Gibson, Frost and Rivera     | 0 | 1263.8107 |\n| Diana Jackson    | 51 |  9879.37 | 0 | 3.55 | 10 | 2008-02-11 07:28:11 | USNS Burnett FPO AA 61045                                         | Stephens-Chavez              | 0 | 2782.9211 |\n| Scott Love       | 28 | 11128.95 | 1 | 5.12 |  8 | 2009-04-13 23:47:15 | Unit 7738 Box 0206 DPO AA 88767-0662                              | Williams-Johnson             | 0 | 2173.6230 |\n| Doris Zimmerman  | 40 | 11575.55 | 1 | 5.22 |  5 | 2015-03-10 20:16:40 | 3536 Rivera Springs Suite 771 New Marcusville, HI 22211-1439      | Mitchell-Adams               | 0 | 2217.5383 |\n| Jeffrey Trevino  | 37 | 13268.55 | 0 | 3.92 | 11 | 2016-03-08 21:48:29 | 0295 Mason Vista Suite 110 Ryanbury, IA 14087                     | Price-Ramirez                | 0 | 3384.8342 |\n| Anthony Vega     | 44 |  9351.88 | 1 | 4.32 |  6 | 2011-08-16 19:16:12 | PSC 9086, Box 2290 APO AP 24944-0330                              | Hall Group                   | 0 | 2164.7870 |\n| James Owen       | 43 |  9735.41 | 0 | 6.12 |  8 | 2010-10-27 18:11:23 | 802 Jeffrey Valleys Kevinbury, WV 86701-9336                      | Olson, Ortega and Hester     | 0 | 1590.7533 |\n| Aaron Meyer      | 45 |  9598.03 | 0 | 5.00 |  7 | 2010-07-17 03:30:38 | 35821 Bailey Skyway Alexisstad, NH 81472                          | Steele, Bates and Lane       | 0 | 1919.6060 |\n| Holly Hill       | 43 |  5805.53 | 0 | 5.44 |  5 | 2014-11-27 17:12:25 | 6985 Kevin Flat South Debra, CO 13171                             | Shaw LLC                     | 0 | 1067.1930 |\n| Andrew Leonard   | 41 | 14099.03 | 1 | 4.56 |  7 | 2016-03-02 16:50:06 | Unit 6154 Box 5113 DPO AP 65306-0703                              | Cruz, Carter and Washington  | 0 | 3091.8925 |\n| Jessica Leon     | 49 |  8523.04 | 1 | 4.15 |  5 | 2014-09-03 01:12:14 | PSC 3040, Box 9946 APO AP 11064-1547                              | Williams-Moreno              | 0 | 2053.7446 |\n| Amy Garcia       | 42 |  6406.38 | 0 | 3.00 |  9 | 2007-03-09 23:50:39 | 12223 Sean Valley Suite 960 Johnland, IA 33208                    | Barker Ltd                   | 0 | 2135.4600 |\n| John Nixon       | 48 |  5622.50 | 0 | 6.05 |  7 | 2012-07-11 04:58:33 | 7186 Justin Locks Apt. 232 Stevenmouth, CT 17609-9525             | French-Miller                | 0 |  929.3388 |\n| Deanna Henry     | 47 |  6670.37 | 0 | 2.55 |  9 | 2010-03-29 20:16:38 | 62894 Summer Village Suite 944 Port Elizabeth, ID 67244-9988      | Jones, Collins and Adams     | 0 | 2615.8314 |\n| Jeremy Singleton | 46 | 13547.39 | 0 | 2.67 |  8 | 2012-04-20 23:59:35 | 067 Samuel Greens New Prestonchester, DC 50364-5698               | Mckinney-Thompson            | 0 | 5073.9288 |\n| Kara Anderson    | 47 |  9182.81 | 1 | 6.45 | 11 | 2012-04-14 02:53:19 | 19845 Hudson Mission Michaelmouth, GA 90290                       | Douglas, Fleming and Munoz   | 0 | 1423.6915 |\n| Kelly Braun      | 42 |  9741.19 | 1 | 3.85 |  9 | 2009-12-14 05:47:16 | 080 Brewer Ports Suite 299 Erinmouth, TX 28755                    | Mosley, Tate and Blankenship | 0 | 2530.1792 |\n| Amanda Wade      | 39 |  8880.17 | 0 | 4.00 |  8 | 2011-03-05 06:46:38 | 869 Kathleen Dam Apt. 113 East Robertshire, SC 50012-1080         | Jordan, Beasley and Moore    | 0 | 2220.0425 |\n| Jason West       | 45 | 13122.89 | 0 | 5.84 |  6 | 2016-04-03 12:55:26 | 6239 Timothy Overpass Carmenhaven, FM 05708-0772                  | Santiago-Waller              | 0 | 2247.0702 |\n| Adam Moore       | 41 | 12659.88 | 0 | 4.55 |  4 | 2010-01-22 19:08:48 | 339 Jeffrey River Suite 638 Fergusonville, DC 25987               | Little, White and Davis      | 0 | 2782.3912 |\n| Brandon Ortiz    | 37 |  8286.87 | 1 | 6.25 |  8 | 2007-12-13 12:23:32 | 276 Thompson Field Apt. 992 South Victoriaton, SC 12848-8182      | Ewing Group                  | 0 | 1325.8992 |\n| Cindy Marshall   | 37 |  9229.96 | 0 | 3.65 |  8 | 2015-12-30 19:11:01 | 393 Stephens Field South Michelleside, MI 26930                   | Gomez-Clarke                 | 0 | 2528.7562 |\n| Matthew Barnes   | 45 |  4863.73 | 1 | 5.17 |  8 | 2011-07-19 18:41:42 | 00154 Ashley Course Shannonville, UT 52907                        | Chavez-Howard                | 0 |  940.7602 |\n| Paul Miller      | 42 | 12800.82 | 1 | 3.62 |  8 | 2007-12-01 13:29:34 | 9316 Julian Fort Suite 328 North Leslie, ME 43961                 | Evans-Lucero                 | 0 | 3536.1381 |\n| Natalie Hodges   | 52 |  9893.92 | 0 | 6.91 |  7 | 2008-12-28 15:23:58 | 8419 William Square Apt. 695 Martinville, RI 34133                | Perry and Sons               | 0 | 1431.8263 |\n| Ana Smith        | 45 | 12056.18 | 0 | 5.46 |  4 | 2014-06-20 05:10:09 | Unit 8633 Box 8738 DPO AA 14126-5026                              | Schneider-Smith              | 0 | 2208.0916 |\n| Justin Leonard   | 51 |  6517.93 | 1 | 5.47 | 10 | 2012-05-30 00:15:43 | 49800 Torres Ways Suite 886 West Bradleybury, LA 05945-2648       | Robles-Abbott                | 0 | 1191.5777 |\n| Joseph Williams  | 39 |  9315.60 | 1 | 5.02 | 10 | 2010-09-25 12:16:08 | 27252 Olivia Burgs Rivasmouth, MN 80121-6348                      | Davis Group                  | 0 | 1855.6972 |\n\n",
            "text/latex": "A data.frame: 900 × 11\n\\begin{tabular}{lllllllllll}\n Names & Age & Total\\_Purchase & Account\\_Manager & Years & Num\\_Sites & Onboard\\_date & Location & Company & Churn & Purchase\\_Year\\\\\n <chr> & <dbl> & <dbl> & <int> & <dbl> & <dbl> & <chr> & <chr> & <chr> & <int> & <dbl>\\\\\n\\hline\n\t Cameron Williams    & 42 & 11066.80 & 0 & 7.22 &  8 & 2013-08-30 07:00:40 & 10265 Elizabeth Mission Barkerburgh, AK 89518               & Harvey LLC                    & 1 & 1532.7978\\\\\n\t Kevin Mueller       & 41 & 11916.22 & 0 & 6.50 & 11 & 2013-08-13 00:38:46 & 6157 Frank Gardens Suite 019 Carloshaven, RI 17756          & Wilson PLC                    & 1 & 1833.2646\\\\\n\t Eric Lozano         & 38 & 12884.75 & 0 & 6.67 & 12 & 2016-06-29 06:20:07 & 1331 Keith Court Alyssahaven, DE 90114                      & Miller, Johnson and Wallace   & 1 & 1931.7466\\\\\n\t Phillip White       & 42 &  8010.76 & 0 & 6.71 & 10 & 2014-04-22 12:43:12 & 13120 Daniel Mount Angelabury, WY 30645-4695                & Smith Inc                     & 1 & 1193.8539\\\\\n\t Cynthia Norton      & 37 &  9191.58 & 0 & 5.56 &  9 & 2016-01-19 15:31:15 & 765 Tricia Row Karenshire, MH 71730                         & Love-Jones                    & 1 & 1653.1619\\\\\n\t Jessica Williams    & 48 & 10356.02 & 0 & 5.12 &  8 & 2009-03-03 23:13:37 & 6187 Olson Mountains East Vincentborough, PR 74359          & Kelly-Warren                  & 1 & 2022.6602\\\\\n\t Eric Butler         & 44 & 11331.58 & 1 & 5.23 & 11 & 2016-12-05 03:35:43 & 4846 Savannah Road West Justin, IA 87713-3460               & Reynolds-Sheppard             & 1 & 2166.6501\\\\\n\t Zachary Walsh       & 32 &  9885.12 & 1 & 6.92 &  9 & 2006-03-09 14:50:20 & 25271 Roy Expressway Suite 147 Brownport, FM 59852-6150     & Singh-Cole                    & 1 & 1428.4855\\\\\n\t Ashlee Carr         & 43 & 14062.60 & 1 & 5.46 & 11 & 2011-09-29 05:47:23 & 3725 Caroline Stravenue South Christineview, MA 82059       & Lopez PLC                     & 1 & 2575.5678\\\\\n\t Jennifer Lynch      & 40 &  8066.94 & 1 & 7.11 & 11 & 2006-03-28 15:42:45 & 363 Sandra Lodge Suite 144 South Ann, WI 51655-7561         & Reed-Martinez                 & 1 & 1134.5907\\\\\n\t Paula Harris        & 30 & 11575.37 & 1 & 5.22 &  8 & 2016-11-13 13:13:01 & Unit 8120 Box 9160 DPO AA 43432                             & Briggs, Lamb and Mathews      & 1 & 2217.5038\\\\\n\t Bruce Phillips      & 45 &  8771.02 & 1 & 6.64 & 11 & 2015-05-28 12:14:03 & Unit 1895 Box 0949 DPO AA 40249                             & Figueroa-Maynard              & 1 & 1320.9367\\\\\n\t Craig Garner        & 45 &  8988.67 & 1 & 4.84 & 11 & 2011-02-16 08:10:47 & 897 Kelley Overpass Suite 349 West Rebekahport, AZ 44793    & Abbott-Thompson               & 1 & 1857.1632\\\\\n\t Nicole Olson        & 40 &  8283.32 & 1 & 5.10 & 13 & 2012-11-22 05:35:03 & 11488 Weaver Cape Hernandezberg, WI 63417-8544              & Smith, Kim and Marshall       & 1 & 1624.1804\\\\\n\t Harold Griffin      & 41 &  6569.87 & 1 & 4.30 & 11 & 2015-03-28 02:13:44 & 1774 Peter Row Apt. 712 New Autumn, MT 18782                & Snyder, Lee and Morris        & 1 & 1527.8767\\\\\n\t James Wright        & 38 & 10494.82 & 1 & 6.81 & 12 & 2015-07-22 08:38:40 & 45408 David Path East Kimberlyshire, HI 54903-6698          & Sanders-Pierce                & 1 & 1541.0896\\\\\n\t Doris Wilkins       & 45 &  8213.41 & 1 & 7.35 & 11 & 2006-09-03 06:13:55 & 28216 Wright Mount Apt. 356 Alichester, DE 40999-2369       & Andrews, Adams and Davis      & 1 & 1117.4707\\\\\n\t Katherine Carpenter & 43 & 11226.88 & 0 & 8.08 & 12 & 2006-10-22 04:42:38 & Unit 4948 Box 4814 DPO AP 42669                             & Morgan, Phillips and Harrell  & 1 & 1389.4653\\\\\n\t Lindsay Martin      & 53 &  5515.09 & 0 & 6.85 &  8 & 2015-10-07 00:27:10 & 69203 Crosby Divide Apt. 878 Parkerview, CO 87064           & Villanueva LLC                & 1 &  805.1226\\\\\n\t Kathy Curry         & 46 &  8046.40 & 1 & 5.69 &  8 & 2014-11-06 23:47:14 & 9569 Caldwell Crescent Tanyaborough, RI 30637               & Berry, Orr and Cabrera        & 1 & 1414.1301\\\\\n\t Dean Miller         & 41 &  9771.22 & 0 & 5.81 & 11 & 2013-05-30 00:42:13 & 803 Kelli Crossing Apt. 169 Jimenezberg, WV 56530-4240      & Parks-Bradley                 & 1 & 1681.7935\\\\\n\t Kevin Ramos         & 56 & 12217.95 & 1 & 5.79 & 11 & 2016-11-17 14:37:01 & 5775 Jared Stream Apt. 881 Port Jenniferfort, CO 63506-4063 & Olsen LLC                     & 1 & 2110.1813\\\\\n\t Jennifer Wood       & 35 &  9381.12 & 1 & 6.78 & 11 & 2006-03-27 20:52:42 & 1493 Phillips Haven Lake William, FM 00995-2870             & Clark, Campbell and Armstrong & 1 & 1383.6460\\\\\n\t Paul Walker         & 41 & 10474.94 & 0 & 6.40 & 12 & 2012-01-02 05:08:52 & 73006 Patty Avenue Apt. 646 New Sarahburgh, NV 24826        & Dalton LLC                    & 1 & 1636.7094\\\\\n\t Lindsey Day         & 55 & 11158.50 & 1 & 4.86 & 10 & 2007-01-07 01:21:47 & 85934 Dakota Mall Timothyville, MI 72421                    & Thompson, Hansen and Sanchez  & 1 & 2295.9877\\\\\n\t Steven Hernandez    & 54 &  8207.10 & 0 & 4.26 & 11 & 2015-04-05 15:57:24 & 14609 Perez Turnpike Bradleyberg, DE 99755                  & Yates, Martinez and Cox       & 1 & 1926.5493\\\\\n\t Danielle Kirk       & 35 & 12403.81 & 0 & 4.42 & 11 & 2007-07-31 06:39:54 & 20117 Johnson Ports Apt. 914 Jenniferfort, DC 40595         & Reeves-Curtis                 & 1 & 2806.2919\\\\\n\t Troy Oliver         & 40 & 10041.13 & 0 & 7.61 & 11 & 2006-07-30 15:27:23 & USCGC Blake FPO AA 66377-6894                               & Gates Ltd                     & 1 & 1319.4652\\\\\n\t Darlene Evans       & 44 & 12721.55 & 0 & 5.18 & 11 & 2011-04-25 02:53:25 & 950 Christina Viaduct Anastad, IL 03324-2274                & Dunlap and Sons               & 1 & 2455.8977\\\\\n\t Mrs. Sarah Morales  & 37 &  8284.89 & 1 & 5.60 & 10 & 2009-03-25 06:10:01 & 8807 Young Village Joneston, AR 56462                       & Taylor, Allen and Gardner     & 1 & 1479.4446\\\\\n\t ⋮ & ⋮ & ⋮ & ⋮ & ⋮ & ⋮ & ⋮ & ⋮ & ⋮ & ⋮ & ⋮\\\\\n\t Jose Gutierrez   & 51 &  7985.76 & 1 & 3.48 &  8 & 2006-07-28 15:47:41 & 481 Andrews Freeway Apt. 222 Lake Alyssaburgh, TN 57832-1720      & Smith, Phillips and Smith    & 0 & 2294.7586\\\\\n\t Sarah Burns      & 35 & 11814.59 & 0 & 5.89 &  6 & 2013-06-28 13:22:40 & 01740 Cynthia Rest Apt. 545 Bassburgh, MN 95437-1761              & Frey-Burke                   & 0 & 2005.8727\\\\\n\t Dana Bailey      & 52 &  7077.34 & 1 & 5.60 &  8 & 2015-11-08 06:57:18 & 61381 Cassandra Cliffs Apt. 605 West Frederickberg, PW 73455-0264 & Gibson, Frost and Rivera     & 0 & 1263.8107\\\\\n\t Diana Jackson    & 51 &  9879.37 & 0 & 3.55 & 10 & 2008-02-11 07:28:11 & USNS Burnett FPO AA 61045                                         & Stephens-Chavez              & 0 & 2782.9211\\\\\n\t Scott Love       & 28 & 11128.95 & 1 & 5.12 &  8 & 2009-04-13 23:47:15 & Unit 7738 Box 0206 DPO AA 88767-0662                              & Williams-Johnson             & 0 & 2173.6230\\\\\n\t Doris Zimmerman  & 40 & 11575.55 & 1 & 5.22 &  5 & 2015-03-10 20:16:40 & 3536 Rivera Springs Suite 771 New Marcusville, HI 22211-1439      & Mitchell-Adams               & 0 & 2217.5383\\\\\n\t Jeffrey Trevino  & 37 & 13268.55 & 0 & 3.92 & 11 & 2016-03-08 21:48:29 & 0295 Mason Vista Suite 110 Ryanbury, IA 14087                     & Price-Ramirez                & 0 & 3384.8342\\\\\n\t Anthony Vega     & 44 &  9351.88 & 1 & 4.32 &  6 & 2011-08-16 19:16:12 & PSC 9086, Box 2290 APO AP 24944-0330                              & Hall Group                   & 0 & 2164.7870\\\\\n\t James Owen       & 43 &  9735.41 & 0 & 6.12 &  8 & 2010-10-27 18:11:23 & 802 Jeffrey Valleys Kevinbury, WV 86701-9336                      & Olson, Ortega and Hester     & 0 & 1590.7533\\\\\n\t Aaron Meyer      & 45 &  9598.03 & 0 & 5.00 &  7 & 2010-07-17 03:30:38 & 35821 Bailey Skyway Alexisstad, NH 81472                          & Steele, Bates and Lane       & 0 & 1919.6060\\\\\n\t Holly Hill       & 43 &  5805.53 & 0 & 5.44 &  5 & 2014-11-27 17:12:25 & 6985 Kevin Flat South Debra, CO 13171                             & Shaw LLC                     & 0 & 1067.1930\\\\\n\t Andrew Leonard   & 41 & 14099.03 & 1 & 4.56 &  7 & 2016-03-02 16:50:06 & Unit 6154 Box 5113 DPO AP 65306-0703                              & Cruz, Carter and Washington  & 0 & 3091.8925\\\\\n\t Jessica Leon     & 49 &  8523.04 & 1 & 4.15 &  5 & 2014-09-03 01:12:14 & PSC 3040, Box 9946 APO AP 11064-1547                              & Williams-Moreno              & 0 & 2053.7446\\\\\n\t Amy Garcia       & 42 &  6406.38 & 0 & 3.00 &  9 & 2007-03-09 23:50:39 & 12223 Sean Valley Suite 960 Johnland, IA 33208                    & Barker Ltd                   & 0 & 2135.4600\\\\\n\t John Nixon       & 48 &  5622.50 & 0 & 6.05 &  7 & 2012-07-11 04:58:33 & 7186 Justin Locks Apt. 232 Stevenmouth, CT 17609-9525             & French-Miller                & 0 &  929.3388\\\\\n\t Deanna Henry     & 47 &  6670.37 & 0 & 2.55 &  9 & 2010-03-29 20:16:38 & 62894 Summer Village Suite 944 Port Elizabeth, ID 67244-9988      & Jones, Collins and Adams     & 0 & 2615.8314\\\\\n\t Jeremy Singleton & 46 & 13547.39 & 0 & 2.67 &  8 & 2012-04-20 23:59:35 & 067 Samuel Greens New Prestonchester, DC 50364-5698               & Mckinney-Thompson            & 0 & 5073.9288\\\\\n\t Kara Anderson    & 47 &  9182.81 & 1 & 6.45 & 11 & 2012-04-14 02:53:19 & 19845 Hudson Mission Michaelmouth, GA 90290                       & Douglas, Fleming and Munoz   & 0 & 1423.6915\\\\\n\t Kelly Braun      & 42 &  9741.19 & 1 & 3.85 &  9 & 2009-12-14 05:47:16 & 080 Brewer Ports Suite 299 Erinmouth, TX 28755                    & Mosley, Tate and Blankenship & 0 & 2530.1792\\\\\n\t Amanda Wade      & 39 &  8880.17 & 0 & 4.00 &  8 & 2011-03-05 06:46:38 & 869 Kathleen Dam Apt. 113 East Robertshire, SC 50012-1080         & Jordan, Beasley and Moore    & 0 & 2220.0425\\\\\n\t Jason West       & 45 & 13122.89 & 0 & 5.84 &  6 & 2016-04-03 12:55:26 & 6239 Timothy Overpass Carmenhaven, FM 05708-0772                  & Santiago-Waller              & 0 & 2247.0702\\\\\n\t Adam Moore       & 41 & 12659.88 & 0 & 4.55 &  4 & 2010-01-22 19:08:48 & 339 Jeffrey River Suite 638 Fergusonville, DC 25987               & Little, White and Davis      & 0 & 2782.3912\\\\\n\t Brandon Ortiz    & 37 &  8286.87 & 1 & 6.25 &  8 & 2007-12-13 12:23:32 & 276 Thompson Field Apt. 992 South Victoriaton, SC 12848-8182      & Ewing Group                  & 0 & 1325.8992\\\\\n\t Cindy Marshall   & 37 &  9229.96 & 0 & 3.65 &  8 & 2015-12-30 19:11:01 & 393 Stephens Field South Michelleside, MI 26930                   & Gomez-Clarke                 & 0 & 2528.7562\\\\\n\t Matthew Barnes   & 45 &  4863.73 & 1 & 5.17 &  8 & 2011-07-19 18:41:42 & 00154 Ashley Course Shannonville, UT 52907                        & Chavez-Howard                & 0 &  940.7602\\\\\n\t Paul Miller      & 42 & 12800.82 & 1 & 3.62 &  8 & 2007-12-01 13:29:34 & 9316 Julian Fort Suite 328 North Leslie, ME 43961                 & Evans-Lucero                 & 0 & 3536.1381\\\\\n\t Natalie Hodges   & 52 &  9893.92 & 0 & 6.91 &  7 & 2008-12-28 15:23:58 & 8419 William Square Apt. 695 Martinville, RI 34133                & Perry and Sons               & 0 & 1431.8263\\\\\n\t Ana Smith        & 45 & 12056.18 & 0 & 5.46 &  4 & 2014-06-20 05:10:09 & Unit 8633 Box 8738 DPO AA 14126-5026                              & Schneider-Smith              & 0 & 2208.0916\\\\\n\t Justin Leonard   & 51 &  6517.93 & 1 & 5.47 & 10 & 2012-05-30 00:15:43 & 49800 Torres Ways Suite 886 West Bradleybury, LA 05945-2648       & Robles-Abbott                & 0 & 1191.5777\\\\\n\t Joseph Williams  & 39 &  9315.60 & 1 & 5.02 & 10 & 2010-09-25 12:16:08 & 27252 Olivia Burgs Rivasmouth, MN 80121-6348                      & Davis Group                  & 0 & 1855.6972\\\\\n\\end{tabular}\n",
            "text/plain": [
              "    Names               Age Total_Purchase Account_Manager Years Num_Sites\n",
              "1   Cameron Williams    42  11066.80       0               7.22   8       \n",
              "2   Kevin Mueller       41  11916.22       0               6.50  11       \n",
              "3   Eric Lozano         38  12884.75       0               6.67  12       \n",
              "4   Phillip White       42   8010.76       0               6.71  10       \n",
              "5   Cynthia Norton      37   9191.58       0               5.56   9       \n",
              "6   Jessica Williams    48  10356.02       0               5.12   8       \n",
              "7   Eric Butler         44  11331.58       1               5.23  11       \n",
              "8   Zachary Walsh       32   9885.12       1               6.92   9       \n",
              "9   Ashlee Carr         43  14062.60       1               5.46  11       \n",
              "10  Jennifer Lynch      40   8066.94       1               7.11  11       \n",
              "11  Paula Harris        30  11575.37       1               5.22   8       \n",
              "12  Bruce Phillips      45   8771.02       1               6.64  11       \n",
              "13  Craig Garner        45   8988.67       1               4.84  11       \n",
              "14  Nicole Olson        40   8283.32       1               5.10  13       \n",
              "15  Harold Griffin      41   6569.87       1               4.30  11       \n",
              "16  James Wright        38  10494.82       1               6.81  12       \n",
              "17  Doris Wilkins       45   8213.41       1               7.35  11       \n",
              "18  Katherine Carpenter 43  11226.88       0               8.08  12       \n",
              "19  Lindsay Martin      53   5515.09       0               6.85   8       \n",
              "20  Kathy Curry         46   8046.40       1               5.69   8       \n",
              "21  Dean Miller         41   9771.22       0               5.81  11       \n",
              "22  Kevin Ramos         56  12217.95       1               5.79  11       \n",
              "23  Jennifer Wood       35   9381.12       1               6.78  11       \n",
              "24  Paul Walker         41  10474.94       0               6.40  12       \n",
              "25  Lindsey Day         55  11158.50       1               4.86  10       \n",
              "26  Steven Hernandez    54   8207.10       0               4.26  11       \n",
              "27  Danielle Kirk       35  12403.81       0               4.42  11       \n",
              "28  Troy Oliver         40  10041.13       0               7.61  11       \n",
              "29  Darlene Evans       44  12721.55       0               5.18  11       \n",
              "30  Mrs. Sarah Morales  37   8284.89       1               5.60  10       \n",
              "⋮   ⋮                   ⋮   ⋮              ⋮               ⋮     ⋮        \n",
              "871 Jose Gutierrez      51   7985.76       1               3.48   8       \n",
              "872 Sarah Burns         35  11814.59       0               5.89   6       \n",
              "873 Dana Bailey         52   7077.34       1               5.60   8       \n",
              "874 Diana Jackson       51   9879.37       0               3.55  10       \n",
              "875 Scott Love          28  11128.95       1               5.12   8       \n",
              "876 Doris Zimmerman     40  11575.55       1               5.22   5       \n",
              "877 Jeffrey Trevino     37  13268.55       0               3.92  11       \n",
              "878 Anthony Vega        44   9351.88       1               4.32   6       \n",
              "879 James Owen          43   9735.41       0               6.12   8       \n",
              "880 Aaron Meyer         45   9598.03       0               5.00   7       \n",
              "881 Holly Hill          43   5805.53       0               5.44   5       \n",
              "882 Andrew Leonard      41  14099.03       1               4.56   7       \n",
              "883 Jessica Leon        49   8523.04       1               4.15   5       \n",
              "884 Amy Garcia          42   6406.38       0               3.00   9       \n",
              "885 John Nixon          48   5622.50       0               6.05   7       \n",
              "886 Deanna Henry        47   6670.37       0               2.55   9       \n",
              "887 Jeremy Singleton    46  13547.39       0               2.67   8       \n",
              "888 Kara Anderson       47   9182.81       1               6.45  11       \n",
              "889 Kelly Braun         42   9741.19       1               3.85   9       \n",
              "890 Amanda Wade         39   8880.17       0               4.00   8       \n",
              "891 Jason West          45  13122.89       0               5.84   6       \n",
              "892 Adam Moore          41  12659.88       0               4.55   4       \n",
              "893 Brandon Ortiz       37   8286.87       1               6.25   8       \n",
              "894 Cindy Marshall      37   9229.96       0               3.65   8       \n",
              "895 Matthew Barnes      45   4863.73       1               5.17   8       \n",
              "896 Paul Miller         42  12800.82       1               3.62   8       \n",
              "897 Natalie Hodges      52   9893.92       0               6.91   7       \n",
              "898 Ana Smith           45  12056.18       0               5.46   4       \n",
              "899 Justin Leonard      51   6517.93       1               5.47  10       \n",
              "900 Joseph Williams     39   9315.60       1               5.02  10       \n",
              "    Onboard_date       \n",
              "1   2013-08-30 07:00:40\n",
              "2   2013-08-13 00:38:46\n",
              "3   2016-06-29 06:20:07\n",
              "4   2014-04-22 12:43:12\n",
              "5   2016-01-19 15:31:15\n",
              "6   2009-03-03 23:13:37\n",
              "7   2016-12-05 03:35:43\n",
              "8   2006-03-09 14:50:20\n",
              "9   2011-09-29 05:47:23\n",
              "10  2006-03-28 15:42:45\n",
              "11  2016-11-13 13:13:01\n",
              "12  2015-05-28 12:14:03\n",
              "13  2011-02-16 08:10:47\n",
              "14  2012-11-22 05:35:03\n",
              "15  2015-03-28 02:13:44\n",
              "16  2015-07-22 08:38:40\n",
              "17  2006-09-03 06:13:55\n",
              "18  2006-10-22 04:42:38\n",
              "19  2015-10-07 00:27:10\n",
              "20  2014-11-06 23:47:14\n",
              "21  2013-05-30 00:42:13\n",
              "22  2016-11-17 14:37:01\n",
              "23  2006-03-27 20:52:42\n",
              "24  2012-01-02 05:08:52\n",
              "25  2007-01-07 01:21:47\n",
              "26  2015-04-05 15:57:24\n",
              "27  2007-07-31 06:39:54\n",
              "28  2006-07-30 15:27:23\n",
              "29  2011-04-25 02:53:25\n",
              "30  2009-03-25 06:10:01\n",
              "⋮   ⋮                  \n",
              "871 2006-07-28 15:47:41\n",
              "872 2013-06-28 13:22:40\n",
              "873 2015-11-08 06:57:18\n",
              "874 2008-02-11 07:28:11\n",
              "875 2009-04-13 23:47:15\n",
              "876 2015-03-10 20:16:40\n",
              "877 2016-03-08 21:48:29\n",
              "878 2011-08-16 19:16:12\n",
              "879 2010-10-27 18:11:23\n",
              "880 2010-07-17 03:30:38\n",
              "881 2014-11-27 17:12:25\n",
              "882 2016-03-02 16:50:06\n",
              "883 2014-09-03 01:12:14\n",
              "884 2007-03-09 23:50:39\n",
              "885 2012-07-11 04:58:33\n",
              "886 2010-03-29 20:16:38\n",
              "887 2012-04-20 23:59:35\n",
              "888 2012-04-14 02:53:19\n",
              "889 2009-12-14 05:47:16\n",
              "890 2011-03-05 06:46:38\n",
              "891 2016-04-03 12:55:26\n",
              "892 2010-01-22 19:08:48\n",
              "893 2007-12-13 12:23:32\n",
              "894 2015-12-30 19:11:01\n",
              "895 2011-07-19 18:41:42\n",
              "896 2007-12-01 13:29:34\n",
              "897 2008-12-28 15:23:58\n",
              "898 2014-06-20 05:10:09\n",
              "899 2012-05-30 00:15:43\n",
              "900 2010-09-25 12:16:08\n",
              "    Location                                                         \n",
              "1   10265 Elizabeth Mission Barkerburgh, AK 89518                    \n",
              "2   6157 Frank Gardens Suite 019 Carloshaven, RI 17756               \n",
              "3   1331 Keith Court Alyssahaven, DE 90114                           \n",
              "4   13120 Daniel Mount Angelabury, WY 30645-4695                     \n",
              "5   765 Tricia Row Karenshire, MH 71730                              \n",
              "6   6187 Olson Mountains East Vincentborough, PR 74359               \n",
              "7   4846 Savannah Road West Justin, IA 87713-3460                    \n",
              "8   25271 Roy Expressway Suite 147 Brownport, FM 59852-6150          \n",
              "9   3725 Caroline Stravenue South Christineview, MA 82059            \n",
              "10  363 Sandra Lodge Suite 144 South Ann, WI 51655-7561              \n",
              "11  Unit 8120 Box 9160 DPO AA 43432                                  \n",
              "12  Unit 1895 Box 0949 DPO AA 40249                                  \n",
              "13  897 Kelley Overpass Suite 349 West Rebekahport, AZ 44793         \n",
              "14  11488 Weaver Cape Hernandezberg, WI 63417-8544                   \n",
              "15  1774 Peter Row Apt. 712 New Autumn, MT 18782                     \n",
              "16  45408 David Path East Kimberlyshire, HI 54903-6698               \n",
              "17  28216 Wright Mount Apt. 356 Alichester, DE 40999-2369            \n",
              "18  Unit 4948 Box 4814 DPO AP 42669                                  \n",
              "19  69203 Crosby Divide Apt. 878 Parkerview, CO 87064                \n",
              "20  9569 Caldwell Crescent Tanyaborough, RI 30637                    \n",
              "21  803 Kelli Crossing Apt. 169 Jimenezberg, WV 56530-4240           \n",
              "22  5775 Jared Stream Apt. 881 Port Jenniferfort, CO 63506-4063      \n",
              "23  1493 Phillips Haven Lake William, FM 00995-2870                  \n",
              "24  73006 Patty Avenue Apt. 646 New Sarahburgh, NV 24826             \n",
              "25  85934 Dakota Mall Timothyville, MI 72421                         \n",
              "26  14609 Perez Turnpike Bradleyberg, DE 99755                       \n",
              "27  20117 Johnson Ports Apt. 914 Jenniferfort, DC 40595              \n",
              "28  USCGC Blake FPO AA 66377-6894                                    \n",
              "29  950 Christina Viaduct Anastad, IL 03324-2274                     \n",
              "30  8807 Young Village Joneston, AR 56462                            \n",
              "⋮   ⋮                                                                \n",
              "871 481 Andrews Freeway Apt. 222 Lake Alyssaburgh, TN 57832-1720     \n",
              "872 01740 Cynthia Rest Apt. 545 Bassburgh, MN 95437-1761             \n",
              "873 61381 Cassandra Cliffs Apt. 605 West Frederickberg, PW 73455-0264\n",
              "874 USNS Burnett FPO AA 61045                                        \n",
              "875 Unit 7738 Box 0206 DPO AA 88767-0662                             \n",
              "876 3536 Rivera Springs Suite 771 New Marcusville, HI 22211-1439     \n",
              "877 0295 Mason Vista Suite 110 Ryanbury, IA 14087                    \n",
              "878 PSC 9086, Box 2290 APO AP 24944-0330                             \n",
              "879 802 Jeffrey Valleys Kevinbury, WV 86701-9336                     \n",
              "880 35821 Bailey Skyway Alexisstad, NH 81472                         \n",
              "881 6985 Kevin Flat South Debra, CO 13171                            \n",
              "882 Unit 6154 Box 5113 DPO AP 65306-0703                             \n",
              "883 PSC 3040, Box 9946 APO AP 11064-1547                             \n",
              "884 12223 Sean Valley Suite 960 Johnland, IA 33208                   \n",
              "885 7186 Justin Locks Apt. 232 Stevenmouth, CT 17609-9525            \n",
              "886 62894 Summer Village Suite 944 Port Elizabeth, ID 67244-9988     \n",
              "887 067 Samuel Greens New Prestonchester, DC 50364-5698              \n",
              "888 19845 Hudson Mission Michaelmouth, GA 90290                      \n",
              "889 080 Brewer Ports Suite 299 Erinmouth, TX 28755                   \n",
              "890 869 Kathleen Dam Apt. 113 East Robertshire, SC 50012-1080        \n",
              "891 6239 Timothy Overpass Carmenhaven, FM 05708-0772                 \n",
              "892 339 Jeffrey River Suite 638 Fergusonville, DC 25987              \n",
              "893 276 Thompson Field Apt. 992 South Victoriaton, SC 12848-8182     \n",
              "894 393 Stephens Field South Michelleside, MI 26930                  \n",
              "895 00154 Ashley Course Shannonville, UT 52907                       \n",
              "896 9316 Julian Fort Suite 328 North Leslie, ME 43961                \n",
              "897 8419 William Square Apt. 695 Martinville, RI 34133               \n",
              "898 Unit 8633 Box 8738 DPO AA 14126-5026                             \n",
              "899 49800 Torres Ways Suite 886 West Bradleybury, LA 05945-2648      \n",
              "900 27252 Olivia Burgs Rivasmouth, MN 80121-6348                     \n",
              "    Company                       Churn Purchase_Year\n",
              "1   Harvey LLC                    1     1532.7978    \n",
              "2   Wilson PLC                    1     1833.2646    \n",
              "3   Miller, Johnson and Wallace   1     1931.7466    \n",
              "4   Smith Inc                     1     1193.8539    \n",
              "5   Love-Jones                    1     1653.1619    \n",
              "6   Kelly-Warren                  1     2022.6602    \n",
              "7   Reynolds-Sheppard             1     2166.6501    \n",
              "8   Singh-Cole                    1     1428.4855    \n",
              "9   Lopez PLC                     1     2575.5678    \n",
              "10  Reed-Martinez                 1     1134.5907    \n",
              "11  Briggs, Lamb and Mathews      1     2217.5038    \n",
              "12  Figueroa-Maynard              1     1320.9367    \n",
              "13  Abbott-Thompson               1     1857.1632    \n",
              "14  Smith, Kim and Marshall       1     1624.1804    \n",
              "15  Snyder, Lee and Morris        1     1527.8767    \n",
              "16  Sanders-Pierce                1     1541.0896    \n",
              "17  Andrews, Adams and Davis      1     1117.4707    \n",
              "18  Morgan, Phillips and Harrell  1     1389.4653    \n",
              "19  Villanueva LLC                1      805.1226    \n",
              "20  Berry, Orr and Cabrera        1     1414.1301    \n",
              "21  Parks-Bradley                 1     1681.7935    \n",
              "22  Olsen LLC                     1     2110.1813    \n",
              "23  Clark, Campbell and Armstrong 1     1383.6460    \n",
              "24  Dalton LLC                    1     1636.7094    \n",
              "25  Thompson, Hansen and Sanchez  1     2295.9877    \n",
              "26  Yates, Martinez and Cox       1     1926.5493    \n",
              "27  Reeves-Curtis                 1     2806.2919    \n",
              "28  Gates Ltd                     1     1319.4652    \n",
              "29  Dunlap and Sons               1     2455.8977    \n",
              "30  Taylor, Allen and Gardner     1     1479.4446    \n",
              "⋮   ⋮                             ⋮     ⋮            \n",
              "871 Smith, Phillips and Smith     0     2294.7586    \n",
              "872 Frey-Burke                    0     2005.8727    \n",
              "873 Gibson, Frost and Rivera      0     1263.8107    \n",
              "874 Stephens-Chavez               0     2782.9211    \n",
              "875 Williams-Johnson              0     2173.6230    \n",
              "876 Mitchell-Adams                0     2217.5383    \n",
              "877 Price-Ramirez                 0     3384.8342    \n",
              "878 Hall Group                    0     2164.7870    \n",
              "879 Olson, Ortega and Hester      0     1590.7533    \n",
              "880 Steele, Bates and Lane        0     1919.6060    \n",
              "881 Shaw LLC                      0     1067.1930    \n",
              "882 Cruz, Carter and Washington   0     3091.8925    \n",
              "883 Williams-Moreno               0     2053.7446    \n",
              "884 Barker Ltd                    0     2135.4600    \n",
              "885 French-Miller                 0      929.3388    \n",
              "886 Jones, Collins and Adams      0     2615.8314    \n",
              "887 Mckinney-Thompson             0     5073.9288    \n",
              "888 Douglas, Fleming and Munoz    0     1423.6915    \n",
              "889 Mosley, Tate and Blankenship  0     2530.1792    \n",
              "890 Jordan, Beasley and Moore     0     2220.0425    \n",
              "891 Santiago-Waller               0     2247.0702    \n",
              "892 Little, White and Davis       0     2782.3912    \n",
              "893 Ewing Group                   0     1325.8992    \n",
              "894 Gomez-Clarke                  0     2528.7562    \n",
              "895 Chavez-Howard                 0      940.7602    \n",
              "896 Evans-Lucero                  0     3536.1381    \n",
              "897 Perry and Sons                0     1431.8263    \n",
              "898 Schneider-Smith               0     2208.0916    \n",
              "899 Robles-Abbott                 0     1191.5777    \n",
              "900 Davis Group                   0     1855.6972    "
            ]
          },
          "metadata": {}
        }
      ]
    },
    {
      "cell_type": "code",
      "source": [
        "# Trier un dataframe à partir des valeurs d'une colonne\n",
        "dataset %>% arrange(desc(Num_Sites))"
      ],
      "metadata": {
        "colab": {
          "base_uri": "https://localhost:8080/",
          "height": 1000
        },
        "id": "sPRGGuuDL_uM",
        "outputId": "0af73e2e-c026-44dd-f475-69e0732c268a"
      },
      "execution_count": 134,
      "outputs": [
        {
          "output_type": "display_data",
          "data": {
            "text/html": [
              "<table class=\"dataframe\">\n",
              "<caption>A data.frame: 900 × 10</caption>\n",
              "<thead>\n",
              "\t<tr><th scope=col>Names</th><th scope=col>Age</th><th scope=col>Total_Purchase</th><th scope=col>Account_Manager</th><th scope=col>Years</th><th scope=col>Num_Sites</th><th scope=col>Onboard_date</th><th scope=col>Location</th><th scope=col>Company</th><th scope=col>Churn</th></tr>\n",
              "\t<tr><th scope=col>&lt;chr&gt;</th><th scope=col>&lt;dbl&gt;</th><th scope=col>&lt;dbl&gt;</th><th scope=col>&lt;int&gt;</th><th scope=col>&lt;dbl&gt;</th><th scope=col>&lt;dbl&gt;</th><th scope=col>&lt;chr&gt;</th><th scope=col>&lt;chr&gt;</th><th scope=col>&lt;chr&gt;</th><th scope=col>&lt;int&gt;</th></tr>\n",
              "</thead>\n",
              "<tbody>\n",
              "\t<tr><td>Daniel Bartlett    </td><td>45</td><td> 6749.49</td><td>0</td><td>5.88</td><td>14</td><td>2006-08-19 17:13:19</td><td>353 Gregory Spur Mariaburgh, KY 66125                        </td><td>Owens Group                     </td><td>1</td></tr>\n",
              "\t<tr><td>Brian Young        </td><td>49</td><td>10522.21</td><td>0</td><td>7.25</td><td>14</td><td>2014-11-08 00:40:36</td><td>Unit 6711 Box 7964 DPO AA 27820                              </td><td>Munoz Ltd                       </td><td>1</td></tr>\n",
              "\t<tr><td>Eric Kelley        </td><td>43</td><td>10271.19</td><td>1</td><td>5.31</td><td>14</td><td>2011-07-19 10:28:53</td><td>98472 Meghan Mall Port Lauren, LA 49472                      </td><td>Santos, Hoffman and Harper      </td><td>1</td></tr>\n",
              "\t<tr><td>Katie Sutton       </td><td>40</td><td>11611.51</td><td>1</td><td>5.64</td><td>14</td><td>2010-06-19 16:02:16</td><td>564 Amanda Park Apt. 388 Watsonport, NJ 61471-7559           </td><td>Patrick Inc                     </td><td>1</td></tr>\n",
              "\t<tr><td>Douglas Joseph     </td><td>44</td><td> 8474.11</td><td>0</td><td>6.61</td><td>14</td><td>2012-10-01 08:10:23</td><td>Unit 9630 Box 8710 DPO AP 69319                              </td><td>Clark PLC                       </td><td>1</td></tr>\n",
              "\t<tr><td>James Contreras    </td><td>46</td><td>11119.11</td><td>1</td><td>3.51</td><td>14</td><td>2008-12-08 09:23:02</td><td>10454 David Greens South Jenniferbury, FM 87283-5336         </td><td>Taylor-Robbins                  </td><td>0</td></tr>\n",
              "\t<tr><td>Nicole Olson       </td><td>40</td><td> 8283.32</td><td>1</td><td>5.10</td><td>13</td><td>2012-11-22 05:35:03</td><td>11488 Weaver Cape Hernandezberg, WI 63417-8544               </td><td>Smith, Kim and Marshall         </td><td>1</td></tr>\n",
              "\t<tr><td>Ryan Weaver        </td><td>39</td><td>10110.40</td><td>1</td><td>5.78</td><td>13</td><td>2009-03-10 21:58:42</td><td>8306 Nicole Lane Moranmouth, PR 36299                        </td><td>Keith, Richardson and Thomas    </td><td>1</td></tr>\n",
              "\t<tr><td>Laurie Green       </td><td>51</td><td> 8100.43</td><td>1</td><td>4.92</td><td>13</td><td>2006-01-14 01:47:07</td><td>74631 Kyle Mountain Apt. 268 Andrewmouth, MI 55255           </td><td>Callahan, Hinton and Murray     </td><td>1</td></tr>\n",
              "\t<tr><td>Tina King          </td><td>40</td><td> 8625.96</td><td>1</td><td>6.27</td><td>13</td><td>2008-08-07 01:50:30</td><td>80203 Brandon Hill Apt. 353 New Luisport, VA 65076           </td><td>Franco-Jones                    </td><td>1</td></tr>\n",
              "\t<tr><td>April Freeman      </td><td>41</td><td> 9923.79</td><td>1</td><td>4.75</td><td>13</td><td>2011-08-28 03:41:36</td><td>16914 Oconnell Forge Apt. 477 Atkinsonmouth, MD 32666        </td><td>Larson, Ross and Ward           </td><td>1</td></tr>\n",
              "\t<tr><td>James Newman       </td><td>35</td><td> 9766.95</td><td>1</td><td>4.59</td><td>13</td><td>2008-02-29 14:17:57</td><td>1317 Dillon Gardens Michaelville, ME 91569-7889              </td><td>Griffin, Tucker and Lee         </td><td>1</td></tr>\n",
              "\t<tr><td>Stephanie Gonzales </td><td>36</td><td>11550.29</td><td>0</td><td>6.46</td><td>13</td><td>2014-01-13 05:18:56</td><td>437 Alex Glens Melindaburgh, ID 78010-8240                   </td><td>Young-Dunn                      </td><td>1</td></tr>\n",
              "\t<tr><td>Randall Weber      </td><td>34</td><td>12983.26</td><td>1</td><td>6.53</td><td>13</td><td>2007-10-14 20:54:33</td><td>447 Lane Street Apt. 689 East Christopher, MI 80796          </td><td>Torres, Villanueva and Velasquez</td><td>1</td></tr>\n",
              "\t<tr><td>Eric Lozano        </td><td>38</td><td>12884.75</td><td>0</td><td>6.67</td><td>12</td><td>2016-06-29 06:20:07</td><td>1331 Keith Court Alyssahaven, DE 90114                       </td><td>Miller, Johnson and Wallace     </td><td>1</td></tr>\n",
              "\t<tr><td>James Wright       </td><td>38</td><td>10494.82</td><td>1</td><td>6.81</td><td>12</td><td>2015-07-22 08:38:40</td><td>45408 David Path East Kimberlyshire, HI 54903-6698           </td><td>Sanders-Pierce                  </td><td>1</td></tr>\n",
              "\t<tr><td>Katherine Carpenter</td><td>43</td><td>11226.88</td><td>0</td><td>8.08</td><td>12</td><td>2006-10-22 04:42:38</td><td>Unit 4948 Box 4814 DPO AP 42669                              </td><td>Morgan, Phillips and Harrell    </td><td>1</td></tr>\n",
              "\t<tr><td>Paul Walker        </td><td>41</td><td>10474.94</td><td>0</td><td>6.40</td><td>12</td><td>2012-01-02 05:08:52</td><td>73006 Patty Avenue Apt. 646 New Sarahburgh, NV 24826         </td><td>Dalton LLC                      </td><td>1</td></tr>\n",
              "\t<tr><td>Joseph Harrell     </td><td>44</td><td> 9814.22</td><td>1</td><td>5.45</td><td>12</td><td>2010-01-23 07:15:58</td><td>USCGC Bell FPO AE 94532                                      </td><td>Fitzgerald, Sherman and Lowe    </td><td>1</td></tr>\n",
              "\t<tr><td>Heidi Munoz        </td><td>38</td><td>11887.39</td><td>0</td><td>5.83</td><td>12</td><td>2009-10-15 17:14:01</td><td>USCGC Mason FPO AA 96632-5067                                </td><td>Mckinney-Rogers                 </td><td>1</td></tr>\n",
              "\t<tr><td>Thomas Sawyer      </td><td>48</td><td>10367.08</td><td>1</td><td>6.45</td><td>12</td><td>2008-10-06 17:15:00</td><td>8113 Rodriguez Court Sheribury, SC 88474                     </td><td>Lopez, Kelly and Armstrong      </td><td>1</td></tr>\n",
              "\t<tr><td>Erin Rivera        </td><td>37</td><td> 8198.06</td><td>1</td><td>5.04</td><td>12</td><td>2016-11-06 01:13:12</td><td>34727 Randy Prairie Apt. 275 South Pamelashire, AS 63214-4216</td><td>Wilkins, White and Martin       </td><td>1</td></tr>\n",
              "\t<tr><td>Raymond Berry      </td><td>41</td><td> 7777.37</td><td>0</td><td>4.81</td><td>12</td><td>2014-01-20 08:53:20</td><td>75210 Mark Mill Apt. 397 Donnamouth, MA 40404-7466           </td><td>Evans, Logan and Wilson         </td><td>1</td></tr>\n",
              "\t<tr><td>Patrick Bell       </td><td>41</td><td>11699.26</td><td>0</td><td>6.99</td><td>12</td><td>2010-03-31 14:45:01</td><td>93345 Monique Tunnel Apt. 431 North Chase, NJ 30518          </td><td>Clark-Kramer                    </td><td>1</td></tr>\n",
              "\t<tr><td>George Archer      </td><td>37</td><td> 8736.06</td><td>1</td><td>5.51</td><td>12</td><td>2014-12-23 19:38:52</td><td>5645 Henderson Streets Brandystad, CA 92343                  </td><td>Smith Inc                       </td><td>1</td></tr>\n",
              "\t<tr><td>Amanda Roberts     </td><td>43</td><td> 8601.01</td><td>0</td><td>5.65</td><td>12</td><td>2007-02-03 17:52:51</td><td>PSC 9561, Box 4071 APO AA 92200-5783                         </td><td>Evans LLC                       </td><td>1</td></tr>\n",
              "\t<tr><td>Adam Waters        </td><td>40</td><td>11185.62</td><td>0</td><td>6.26</td><td>12</td><td>2006-03-06 18:36:47</td><td>6040 Juan Forge Parrishville, NJ 27948                       </td><td>Reed Ltd                        </td><td>1</td></tr>\n",
              "\t<tr><td>Amy Griffin        </td><td>48</td><td> 4771.65</td><td>0</td><td>3.77</td><td>12</td><td>2007-06-19 04:30:13</td><td>062 Trevor Falls Suite 665 North Mathewchester, MH 93744     </td><td>Larson-Hall                     </td><td>1</td></tr>\n",
              "\t<tr><td>Carla Patterson    </td><td>58</td><td>12376.37</td><td>0</td><td>6.01</td><td>12</td><td>2007-12-08 08:05:11</td><td>350 Gregory Isle South Tinaland, WI 44398                    </td><td>Pittman, Watts and Fitzgerald   </td><td>1</td></tr>\n",
              "\t<tr><td>Jennifer King      </td><td>43</td><td> 8024.08</td><td>0</td><td>4.08</td><td>12</td><td>2016-02-20 07:00:09</td><td>44850 Dennis Meadows Suite 044 Dariusland, IL 05918          </td><td>Hunter, Reyes and Rivera        </td><td>1</td></tr>\n",
              "\t<tr><td>⋮</td><td>⋮</td><td>⋮</td><td>⋮</td><td>⋮</td><td>⋮</td><td>⋮</td><td>⋮</td><td>⋮</td><td>⋮</td></tr>\n",
              "\t<tr><td>Anthony Vega         </td><td>44</td><td> 9351.88</td><td>1</td><td>4.32</td><td>6</td><td>2011-08-16 19:16:12</td><td>PSC 9086, Box 2290 APO AP 24944-0330                         </td><td>Hall Group                      </td><td>0</td></tr>\n",
              "\t<tr><td>Jason West           </td><td>45</td><td>13122.89</td><td>0</td><td>5.84</td><td>6</td><td>2016-04-03 12:55:26</td><td>6239 Timothy Overpass Carmenhaven, FM 05708-0772             </td><td>Santiago-Waller                 </td><td>0</td></tr>\n",
              "\t<tr><td>Dr. Michael Contreras</td><td>45</td><td>10364.82</td><td>0</td><td>5.93</td><td>5</td><td>2016-08-22 05:47:48</td><td>53891 Paula Corners Apt. 946 West Michael, ME 42796-1668     </td><td>Holt-Rogers                     </td><td>0</td></tr>\n",
              "\t<tr><td>Beverly Perry        </td><td>38</td><td>12893.47</td><td>1</td><td>5.69</td><td>5</td><td>2012-11-20 05:53:31</td><td>3145 Cruz Mill North Deborahstad, AR 02085                   </td><td>Mathis Ltd                      </td><td>0</td></tr>\n",
              "\t<tr><td>Rodney Evans         </td><td>49</td><td> 8092.13</td><td>0</td><td>6.32</td><td>5</td><td>2011-10-22 19:12:36</td><td>025 Ricky Ford East John, AS 71101-1423                      </td><td>Simmons Inc                     </td><td>0</td></tr>\n",
              "\t<tr><td>Terry Diaz           </td><td>46</td><td>11401.63</td><td>0</td><td>6.13</td><td>5</td><td>2014-06-30 15:46:07</td><td>USNV Rose FPO AP 67907-1654                                  </td><td>Charles, Cruz and Marshall      </td><td>0</td></tr>\n",
              "\t<tr><td>Austin Melendez      </td><td>44</td><td>12155.91</td><td>1</td><td>4.11</td><td>5</td><td>2009-07-30 18:11:19</td><td>697 Mcdowell Pike Lake Phillip, LA 32009-7853                </td><td>Carlson, Ramos and Johnson      </td><td>0</td></tr>\n",
              "\t<tr><td>Timothy Mcdonald     </td><td>52</td><td>11093.87</td><td>0</td><td>4.38</td><td>5</td><td>2016-09-30 14:28:53</td><td>6685 Marie Unions Suite 385 West Kevinfort, MS 77092-9463    </td><td>Smith-Hawkins                   </td><td>0</td></tr>\n",
              "\t<tr><td>Michael Brown        </td><td>47</td><td> 9365.92</td><td>1</td><td>4.37</td><td>5</td><td>2013-06-10 21:51:47</td><td>4972 Michael Village Suite 788 West Rachelstad, NH 04946-6243</td><td>Smith, Diaz and Warren          </td><td>0</td></tr>\n",
              "\t<tr><td>Tammy Williams       </td><td>52</td><td> 9065.28</td><td>0</td><td>3.99</td><td>5</td><td>2009-12-13 18:17:02</td><td>6720 Barbara Square Christopherchester, UT 54226             </td><td>Lawrence-Johnson                </td><td>0</td></tr>\n",
              "\t<tr><td>Kenneth Graham       </td><td>50</td><td> 9641.61</td><td>0</td><td>3.09</td><td>5</td><td>2010-06-09 21:23:11</td><td>43996 Parks Spring Hooperland, TX 05090-6018                 </td><td>King-Atkinson                   </td><td>0</td></tr>\n",
              "\t<tr><td>Dominique Kemp       </td><td>40</td><td>10370.72</td><td>1</td><td>4.35</td><td>5</td><td>2016-03-28 02:06:48</td><td>478 James Spurs North Thomas, MT 77158-1870                  </td><td>Richardson Inc                  </td><td>0</td></tr>\n",
              "\t<tr><td>Duane Mcdonald       </td><td>55</td><td> 8280.03</td><td>0</td><td>6.33</td><td>5</td><td>2013-07-31 03:51:53</td><td>USNV Nielsen FPO AA 31326                                    </td><td>Armstrong-Hicks                 </td><td>0</td></tr>\n",
              "\t<tr><td>Amy Riddle           </td><td>45</td><td> 8389.84</td><td>1</td><td>6.81</td><td>5</td><td>2009-08-19 08:06:04</td><td>4964 Page Estate East Richardmouth, OK 43652                 </td><td>Parker PLC                      </td><td>0</td></tr>\n",
              "\t<tr><td>Kayla Reeves         </td><td>38</td><td>  100.00</td><td>0</td><td>5.27</td><td>5</td><td>2006-10-03 09:01:48</td><td>1511 Porter Drive Amberberg, NC 44608                        </td><td>Stewart-Lopez                   </td><td>0</td></tr>\n",
              "\t<tr><td>Lauren Nelson        </td><td>40</td><td> 7490.92</td><td>0</td><td>4.75</td><td>5</td><td>2013-08-05 20:26:59</td><td>341 Benjamin Knolls Robertview, ND 28469-9018                </td><td>Hall Inc                        </td><td>0</td></tr>\n",
              "\t<tr><td>Cheryl Hayes         </td><td>51</td><td>10776.82</td><td>0</td><td>5.10</td><td>5</td><td>2007-01-05 20:48:18</td><td>667 Diaz Row Garnerview, IN 81368-5410                       </td><td>Hill, Roberts and Melendez      </td><td>0</td></tr>\n",
              "\t<tr><td>Vanessa Hodge        </td><td>38</td><td> 8370.15</td><td>0</td><td>8.60</td><td>5</td><td>2009-01-24 14:58:51</td><td>29252 Powell Brook Suite 931 Port Scottland, MT 15769-3539   </td><td>Li Ltd                          </td><td>0</td></tr>\n",
              "\t<tr><td>Whitney Kennedy      </td><td>42</td><td>10442.37</td><td>0</td><td>5.58</td><td>5</td><td>2006-05-04 12:31:49</td><td>6414 Jesus Knoll Apt. 139 Downsshire, VT 78464               </td><td>Bates-Underwood                 </td><td>0</td></tr>\n",
              "\t<tr><td>Cynthia Wood         </td><td>49</td><td>12681.35</td><td>0</td><td>3.68</td><td>5</td><td>2014-05-24 05:29:40</td><td>589 Mary Vista Lake Craig, CO 88641                          </td><td>Washington, Mcdaniel and Lambert</td><td>0</td></tr>\n",
              "\t<tr><td>Bradley Bennett      </td><td>41</td><td> 8143.38</td><td>1</td><td>2.64</td><td>5</td><td>2008-11-11 18:59:37</td><td>04046 Shelby Rapid Blackport, KS 68644                       </td><td>Fisher, Moore and Miles         </td><td>0</td></tr>\n",
              "\t<tr><td>Doris Zimmerman      </td><td>40</td><td>11575.55</td><td>1</td><td>5.22</td><td>5</td><td>2015-03-10 20:16:40</td><td>3536 Rivera Springs Suite 771 New Marcusville, HI 22211-1439 </td><td>Mitchell-Adams                  </td><td>0</td></tr>\n",
              "\t<tr><td>Holly Hill           </td><td>43</td><td> 5805.53</td><td>0</td><td>5.44</td><td>5</td><td>2014-11-27 17:12:25</td><td>6985 Kevin Flat South Debra, CO 13171                        </td><td>Shaw LLC                        </td><td>0</td></tr>\n",
              "\t<tr><td>Jessica Leon         </td><td>49</td><td> 8523.04</td><td>1</td><td>4.15</td><td>5</td><td>2014-09-03 01:12:14</td><td>PSC 3040, Box 9946 APO AP 11064-1547                         </td><td>Williams-Moreno                 </td><td>0</td></tr>\n",
              "\t<tr><td>Jason Santana        </td><td>39</td><td> 9408.96</td><td>1</td><td>3.83</td><td>4</td><td>2011-09-30 06:15:01</td><td>8072 Kathy Harbors Apt. 845 Normanburgh, MA 46572-1532       </td><td>Gonzalez LLC                    </td><td>0</td></tr>\n",
              "\t<tr><td>Monica Todd          </td><td>35</td><td>11255.38</td><td>0</td><td>6.28</td><td>4</td><td>2007-04-04 08:32:31</td><td>104 Ruben Rapid Apt. 107 New Andrea, FM 58602                </td><td>Peterson PLC                    </td><td>0</td></tr>\n",
              "\t<tr><td>Adam Moore           </td><td>41</td><td>12659.88</td><td>0</td><td>4.55</td><td>4</td><td>2010-01-22 19:08:48</td><td>339 Jeffrey River Suite 638 Fergusonville, DC 25987          </td><td>Little, White and Davis         </td><td>0</td></tr>\n",
              "\t<tr><td>Ana Smith            </td><td>45</td><td>12056.18</td><td>0</td><td>5.46</td><td>4</td><td>2014-06-20 05:10:09</td><td>Unit 8633 Box 8738 DPO AA 14126-5026                         </td><td>Schneider-Smith                 </td><td>0</td></tr>\n",
              "\t<tr><td>Regina Kirby         </td><td>41</td><td>10921.54</td><td>0</td><td>5.07</td><td>3</td><td>2015-09-04 11:32:49</td><td>310 Amy Underpass Suite 089 Lake Kevin, DC 23138-4553        </td><td>Schaefer-Berry                  </td><td>0</td></tr>\n",
              "\t<tr><td>James Stevens        </td><td>44</td><td>12400.33</td><td>1</td><td>5.18</td><td>3</td><td>2007-07-18 07:06:46</td><td>USNV Johnson FPO AA 53865-7362                               </td><td>Sims-Cole                       </td><td>0</td></tr>\n",
              "</tbody>\n",
              "</table>\n"
            ],
            "text/markdown": "\nA data.frame: 900 × 10\n\n| Names &lt;chr&gt; | Age &lt;dbl&gt; | Total_Purchase &lt;dbl&gt; | Account_Manager &lt;int&gt; | Years &lt;dbl&gt; | Num_Sites &lt;dbl&gt; | Onboard_date &lt;chr&gt; | Location &lt;chr&gt; | Company &lt;chr&gt; | Churn &lt;int&gt; |\n|---|---|---|---|---|---|---|---|---|---|\n| Daniel Bartlett     | 45 |  6749.49 | 0 | 5.88 | 14 | 2006-08-19 17:13:19 | 353 Gregory Spur Mariaburgh, KY 66125                         | Owens Group                      | 1 |\n| Brian Young         | 49 | 10522.21 | 0 | 7.25 | 14 | 2014-11-08 00:40:36 | Unit 6711 Box 7964 DPO AA 27820                               | Munoz Ltd                        | 1 |\n| Eric Kelley         | 43 | 10271.19 | 1 | 5.31 | 14 | 2011-07-19 10:28:53 | 98472 Meghan Mall Port Lauren, LA 49472                       | Santos, Hoffman and Harper       | 1 |\n| Katie Sutton        | 40 | 11611.51 | 1 | 5.64 | 14 | 2010-06-19 16:02:16 | 564 Amanda Park Apt. 388 Watsonport, NJ 61471-7559            | Patrick Inc                      | 1 |\n| Douglas Joseph      | 44 |  8474.11 | 0 | 6.61 | 14 | 2012-10-01 08:10:23 | Unit 9630 Box 8710 DPO AP 69319                               | Clark PLC                        | 1 |\n| James Contreras     | 46 | 11119.11 | 1 | 3.51 | 14 | 2008-12-08 09:23:02 | 10454 David Greens South Jenniferbury, FM 87283-5336          | Taylor-Robbins                   | 0 |\n| Nicole Olson        | 40 |  8283.32 | 1 | 5.10 | 13 | 2012-11-22 05:35:03 | 11488 Weaver Cape Hernandezberg, WI 63417-8544                | Smith, Kim and Marshall          | 1 |\n| Ryan Weaver         | 39 | 10110.40 | 1 | 5.78 | 13 | 2009-03-10 21:58:42 | 8306 Nicole Lane Moranmouth, PR 36299                         | Keith, Richardson and Thomas     | 1 |\n| Laurie Green        | 51 |  8100.43 | 1 | 4.92 | 13 | 2006-01-14 01:47:07 | 74631 Kyle Mountain Apt. 268 Andrewmouth, MI 55255            | Callahan, Hinton and Murray      | 1 |\n| Tina King           | 40 |  8625.96 | 1 | 6.27 | 13 | 2008-08-07 01:50:30 | 80203 Brandon Hill Apt. 353 New Luisport, VA 65076            | Franco-Jones                     | 1 |\n| April Freeman       | 41 |  9923.79 | 1 | 4.75 | 13 | 2011-08-28 03:41:36 | 16914 Oconnell Forge Apt. 477 Atkinsonmouth, MD 32666         | Larson, Ross and Ward            | 1 |\n| James Newman        | 35 |  9766.95 | 1 | 4.59 | 13 | 2008-02-29 14:17:57 | 1317 Dillon Gardens Michaelville, ME 91569-7889               | Griffin, Tucker and Lee          | 1 |\n| Stephanie Gonzales  | 36 | 11550.29 | 0 | 6.46 | 13 | 2014-01-13 05:18:56 | 437 Alex Glens Melindaburgh, ID 78010-8240                    | Young-Dunn                       | 1 |\n| Randall Weber       | 34 | 12983.26 | 1 | 6.53 | 13 | 2007-10-14 20:54:33 | 447 Lane Street Apt. 689 East Christopher, MI 80796           | Torres, Villanueva and Velasquez | 1 |\n| Eric Lozano         | 38 | 12884.75 | 0 | 6.67 | 12 | 2016-06-29 06:20:07 | 1331 Keith Court Alyssahaven, DE 90114                        | Miller, Johnson and Wallace      | 1 |\n| James Wright        | 38 | 10494.82 | 1 | 6.81 | 12 | 2015-07-22 08:38:40 | 45408 David Path East Kimberlyshire, HI 54903-6698            | Sanders-Pierce                   | 1 |\n| Katherine Carpenter | 43 | 11226.88 | 0 | 8.08 | 12 | 2006-10-22 04:42:38 | Unit 4948 Box 4814 DPO AP 42669                               | Morgan, Phillips and Harrell     | 1 |\n| Paul Walker         | 41 | 10474.94 | 0 | 6.40 | 12 | 2012-01-02 05:08:52 | 73006 Patty Avenue Apt. 646 New Sarahburgh, NV 24826          | Dalton LLC                       | 1 |\n| Joseph Harrell      | 44 |  9814.22 | 1 | 5.45 | 12 | 2010-01-23 07:15:58 | USCGC Bell FPO AE 94532                                       | Fitzgerald, Sherman and Lowe     | 1 |\n| Heidi Munoz         | 38 | 11887.39 | 0 | 5.83 | 12 | 2009-10-15 17:14:01 | USCGC Mason FPO AA 96632-5067                                 | Mckinney-Rogers                  | 1 |\n| Thomas Sawyer       | 48 | 10367.08 | 1 | 6.45 | 12 | 2008-10-06 17:15:00 | 8113 Rodriguez Court Sheribury, SC 88474                      | Lopez, Kelly and Armstrong       | 1 |\n| Erin Rivera         | 37 |  8198.06 | 1 | 5.04 | 12 | 2016-11-06 01:13:12 | 34727 Randy Prairie Apt. 275 South Pamelashire, AS 63214-4216 | Wilkins, White and Martin        | 1 |\n| Raymond Berry       | 41 |  7777.37 | 0 | 4.81 | 12 | 2014-01-20 08:53:20 | 75210 Mark Mill Apt. 397 Donnamouth, MA 40404-7466            | Evans, Logan and Wilson          | 1 |\n| Patrick Bell        | 41 | 11699.26 | 0 | 6.99 | 12 | 2010-03-31 14:45:01 | 93345 Monique Tunnel Apt. 431 North Chase, NJ 30518           | Clark-Kramer                     | 1 |\n| George Archer       | 37 |  8736.06 | 1 | 5.51 | 12 | 2014-12-23 19:38:52 | 5645 Henderson Streets Brandystad, CA 92343                   | Smith Inc                        | 1 |\n| Amanda Roberts      | 43 |  8601.01 | 0 | 5.65 | 12 | 2007-02-03 17:52:51 | PSC 9561, Box 4071 APO AA 92200-5783                          | Evans LLC                        | 1 |\n| Adam Waters         | 40 | 11185.62 | 0 | 6.26 | 12 | 2006-03-06 18:36:47 | 6040 Juan Forge Parrishville, NJ 27948                        | Reed Ltd                         | 1 |\n| Amy Griffin         | 48 |  4771.65 | 0 | 3.77 | 12 | 2007-06-19 04:30:13 | 062 Trevor Falls Suite 665 North Mathewchester, MH 93744      | Larson-Hall                      | 1 |\n| Carla Patterson     | 58 | 12376.37 | 0 | 6.01 | 12 | 2007-12-08 08:05:11 | 350 Gregory Isle South Tinaland, WI 44398                     | Pittman, Watts and Fitzgerald    | 1 |\n| Jennifer King       | 43 |  8024.08 | 0 | 4.08 | 12 | 2016-02-20 07:00:09 | 44850 Dennis Meadows Suite 044 Dariusland, IL 05918           | Hunter, Reyes and Rivera         | 1 |\n| ⋮ | ⋮ | ⋮ | ⋮ | ⋮ | ⋮ | ⋮ | ⋮ | ⋮ | ⋮ |\n| Anthony Vega          | 44 |  9351.88 | 1 | 4.32 | 6 | 2011-08-16 19:16:12 | PSC 9086, Box 2290 APO AP 24944-0330                          | Hall Group                       | 0 |\n| Jason West            | 45 | 13122.89 | 0 | 5.84 | 6 | 2016-04-03 12:55:26 | 6239 Timothy Overpass Carmenhaven, FM 05708-0772              | Santiago-Waller                  | 0 |\n| Dr. Michael Contreras | 45 | 10364.82 | 0 | 5.93 | 5 | 2016-08-22 05:47:48 | 53891 Paula Corners Apt. 946 West Michael, ME 42796-1668      | Holt-Rogers                      | 0 |\n| Beverly Perry         | 38 | 12893.47 | 1 | 5.69 | 5 | 2012-11-20 05:53:31 | 3145 Cruz Mill North Deborahstad, AR 02085                    | Mathis Ltd                       | 0 |\n| Rodney Evans          | 49 |  8092.13 | 0 | 6.32 | 5 | 2011-10-22 19:12:36 | 025 Ricky Ford East John, AS 71101-1423                       | Simmons Inc                      | 0 |\n| Terry Diaz            | 46 | 11401.63 | 0 | 6.13 | 5 | 2014-06-30 15:46:07 | USNV Rose FPO AP 67907-1654                                   | Charles, Cruz and Marshall       | 0 |\n| Austin Melendez       | 44 | 12155.91 | 1 | 4.11 | 5 | 2009-07-30 18:11:19 | 697 Mcdowell Pike Lake Phillip, LA 32009-7853                 | Carlson, Ramos and Johnson       | 0 |\n| Timothy Mcdonald      | 52 | 11093.87 | 0 | 4.38 | 5 | 2016-09-30 14:28:53 | 6685 Marie Unions Suite 385 West Kevinfort, MS 77092-9463     | Smith-Hawkins                    | 0 |\n| Michael Brown         | 47 |  9365.92 | 1 | 4.37 | 5 | 2013-06-10 21:51:47 | 4972 Michael Village Suite 788 West Rachelstad, NH 04946-6243 | Smith, Diaz and Warren           | 0 |\n| Tammy Williams        | 52 |  9065.28 | 0 | 3.99 | 5 | 2009-12-13 18:17:02 | 6720 Barbara Square Christopherchester, UT 54226              | Lawrence-Johnson                 | 0 |\n| Kenneth Graham        | 50 |  9641.61 | 0 | 3.09 | 5 | 2010-06-09 21:23:11 | 43996 Parks Spring Hooperland, TX 05090-6018                  | King-Atkinson                    | 0 |\n| Dominique Kemp        | 40 | 10370.72 | 1 | 4.35 | 5 | 2016-03-28 02:06:48 | 478 James Spurs North Thomas, MT 77158-1870                   | Richardson Inc                   | 0 |\n| Duane Mcdonald        | 55 |  8280.03 | 0 | 6.33 | 5 | 2013-07-31 03:51:53 | USNV Nielsen FPO AA 31326                                     | Armstrong-Hicks                  | 0 |\n| Amy Riddle            | 45 |  8389.84 | 1 | 6.81 | 5 | 2009-08-19 08:06:04 | 4964 Page Estate East Richardmouth, OK 43652                  | Parker PLC                       | 0 |\n| Kayla Reeves          | 38 |   100.00 | 0 | 5.27 | 5 | 2006-10-03 09:01:48 | 1511 Porter Drive Amberberg, NC 44608                         | Stewart-Lopez                    | 0 |\n| Lauren Nelson         | 40 |  7490.92 | 0 | 4.75 | 5 | 2013-08-05 20:26:59 | 341 Benjamin Knolls Robertview, ND 28469-9018                 | Hall Inc                         | 0 |\n| Cheryl Hayes          | 51 | 10776.82 | 0 | 5.10 | 5 | 2007-01-05 20:48:18 | 667 Diaz Row Garnerview, IN 81368-5410                        | Hill, Roberts and Melendez       | 0 |\n| Vanessa Hodge         | 38 |  8370.15 | 0 | 8.60 | 5 | 2009-01-24 14:58:51 | 29252 Powell Brook Suite 931 Port Scottland, MT 15769-3539    | Li Ltd                           | 0 |\n| Whitney Kennedy       | 42 | 10442.37 | 0 | 5.58 | 5 | 2006-05-04 12:31:49 | 6414 Jesus Knoll Apt. 139 Downsshire, VT 78464                | Bates-Underwood                  | 0 |\n| Cynthia Wood          | 49 | 12681.35 | 0 | 3.68 | 5 | 2014-05-24 05:29:40 | 589 Mary Vista Lake Craig, CO 88641                           | Washington, Mcdaniel and Lambert | 0 |\n| Bradley Bennett       | 41 |  8143.38 | 1 | 2.64 | 5 | 2008-11-11 18:59:37 | 04046 Shelby Rapid Blackport, KS 68644                        | Fisher, Moore and Miles          | 0 |\n| Doris Zimmerman       | 40 | 11575.55 | 1 | 5.22 | 5 | 2015-03-10 20:16:40 | 3536 Rivera Springs Suite 771 New Marcusville, HI 22211-1439  | Mitchell-Adams                   | 0 |\n| Holly Hill            | 43 |  5805.53 | 0 | 5.44 | 5 | 2014-11-27 17:12:25 | 6985 Kevin Flat South Debra, CO 13171                         | Shaw LLC                         | 0 |\n| Jessica Leon          | 49 |  8523.04 | 1 | 4.15 | 5 | 2014-09-03 01:12:14 | PSC 3040, Box 9946 APO AP 11064-1547                          | Williams-Moreno                  | 0 |\n| Jason Santana         | 39 |  9408.96 | 1 | 3.83 | 4 | 2011-09-30 06:15:01 | 8072 Kathy Harbors Apt. 845 Normanburgh, MA 46572-1532        | Gonzalez LLC                     | 0 |\n| Monica Todd           | 35 | 11255.38 | 0 | 6.28 | 4 | 2007-04-04 08:32:31 | 104 Ruben Rapid Apt. 107 New Andrea, FM 58602                 | Peterson PLC                     | 0 |\n| Adam Moore            | 41 | 12659.88 | 0 | 4.55 | 4 | 2010-01-22 19:08:48 | 339 Jeffrey River Suite 638 Fergusonville, DC 25987           | Little, White and Davis          | 0 |\n| Ana Smith             | 45 | 12056.18 | 0 | 5.46 | 4 | 2014-06-20 05:10:09 | Unit 8633 Box 8738 DPO AA 14126-5026                          | Schneider-Smith                  | 0 |\n| Regina Kirby          | 41 | 10921.54 | 0 | 5.07 | 3 | 2015-09-04 11:32:49 | 310 Amy Underpass Suite 089 Lake Kevin, DC 23138-4553         | Schaefer-Berry                   | 0 |\n| James Stevens         | 44 | 12400.33 | 1 | 5.18 | 3 | 2007-07-18 07:06:46 | USNV Johnson FPO AA 53865-7362                                | Sims-Cole                        | 0 |\n\n",
            "text/latex": "A data.frame: 900 × 10\n\\begin{tabular}{llllllllll}\n Names & Age & Total\\_Purchase & Account\\_Manager & Years & Num\\_Sites & Onboard\\_date & Location & Company & Churn\\\\\n <chr> & <dbl> & <dbl> & <int> & <dbl> & <dbl> & <chr> & <chr> & <chr> & <int>\\\\\n\\hline\n\t Daniel Bartlett     & 45 &  6749.49 & 0 & 5.88 & 14 & 2006-08-19 17:13:19 & 353 Gregory Spur Mariaburgh, KY 66125                         & Owens Group                      & 1\\\\\n\t Brian Young         & 49 & 10522.21 & 0 & 7.25 & 14 & 2014-11-08 00:40:36 & Unit 6711 Box 7964 DPO AA 27820                               & Munoz Ltd                        & 1\\\\\n\t Eric Kelley         & 43 & 10271.19 & 1 & 5.31 & 14 & 2011-07-19 10:28:53 & 98472 Meghan Mall Port Lauren, LA 49472                       & Santos, Hoffman and Harper       & 1\\\\\n\t Katie Sutton        & 40 & 11611.51 & 1 & 5.64 & 14 & 2010-06-19 16:02:16 & 564 Amanda Park Apt. 388 Watsonport, NJ 61471-7559            & Patrick Inc                      & 1\\\\\n\t Douglas Joseph      & 44 &  8474.11 & 0 & 6.61 & 14 & 2012-10-01 08:10:23 & Unit 9630 Box 8710 DPO AP 69319                               & Clark PLC                        & 1\\\\\n\t James Contreras     & 46 & 11119.11 & 1 & 3.51 & 14 & 2008-12-08 09:23:02 & 10454 David Greens South Jenniferbury, FM 87283-5336          & Taylor-Robbins                   & 0\\\\\n\t Nicole Olson        & 40 &  8283.32 & 1 & 5.10 & 13 & 2012-11-22 05:35:03 & 11488 Weaver Cape Hernandezberg, WI 63417-8544                & Smith, Kim and Marshall          & 1\\\\\n\t Ryan Weaver         & 39 & 10110.40 & 1 & 5.78 & 13 & 2009-03-10 21:58:42 & 8306 Nicole Lane Moranmouth, PR 36299                         & Keith, Richardson and Thomas     & 1\\\\\n\t Laurie Green        & 51 &  8100.43 & 1 & 4.92 & 13 & 2006-01-14 01:47:07 & 74631 Kyle Mountain Apt. 268 Andrewmouth, MI 55255            & Callahan, Hinton and Murray      & 1\\\\\n\t Tina King           & 40 &  8625.96 & 1 & 6.27 & 13 & 2008-08-07 01:50:30 & 80203 Brandon Hill Apt. 353 New Luisport, VA 65076            & Franco-Jones                     & 1\\\\\n\t April Freeman       & 41 &  9923.79 & 1 & 4.75 & 13 & 2011-08-28 03:41:36 & 16914 Oconnell Forge Apt. 477 Atkinsonmouth, MD 32666         & Larson, Ross and Ward            & 1\\\\\n\t James Newman        & 35 &  9766.95 & 1 & 4.59 & 13 & 2008-02-29 14:17:57 & 1317 Dillon Gardens Michaelville, ME 91569-7889               & Griffin, Tucker and Lee          & 1\\\\\n\t Stephanie Gonzales  & 36 & 11550.29 & 0 & 6.46 & 13 & 2014-01-13 05:18:56 & 437 Alex Glens Melindaburgh, ID 78010-8240                    & Young-Dunn                       & 1\\\\\n\t Randall Weber       & 34 & 12983.26 & 1 & 6.53 & 13 & 2007-10-14 20:54:33 & 447 Lane Street Apt. 689 East Christopher, MI 80796           & Torres, Villanueva and Velasquez & 1\\\\\n\t Eric Lozano         & 38 & 12884.75 & 0 & 6.67 & 12 & 2016-06-29 06:20:07 & 1331 Keith Court Alyssahaven, DE 90114                        & Miller, Johnson and Wallace      & 1\\\\\n\t James Wright        & 38 & 10494.82 & 1 & 6.81 & 12 & 2015-07-22 08:38:40 & 45408 David Path East Kimberlyshire, HI 54903-6698            & Sanders-Pierce                   & 1\\\\\n\t Katherine Carpenter & 43 & 11226.88 & 0 & 8.08 & 12 & 2006-10-22 04:42:38 & Unit 4948 Box 4814 DPO AP 42669                               & Morgan, Phillips and Harrell     & 1\\\\\n\t Paul Walker         & 41 & 10474.94 & 0 & 6.40 & 12 & 2012-01-02 05:08:52 & 73006 Patty Avenue Apt. 646 New Sarahburgh, NV 24826          & Dalton LLC                       & 1\\\\\n\t Joseph Harrell      & 44 &  9814.22 & 1 & 5.45 & 12 & 2010-01-23 07:15:58 & USCGC Bell FPO AE 94532                                       & Fitzgerald, Sherman and Lowe     & 1\\\\\n\t Heidi Munoz         & 38 & 11887.39 & 0 & 5.83 & 12 & 2009-10-15 17:14:01 & USCGC Mason FPO AA 96632-5067                                 & Mckinney-Rogers                  & 1\\\\\n\t Thomas Sawyer       & 48 & 10367.08 & 1 & 6.45 & 12 & 2008-10-06 17:15:00 & 8113 Rodriguez Court Sheribury, SC 88474                      & Lopez, Kelly and Armstrong       & 1\\\\\n\t Erin Rivera         & 37 &  8198.06 & 1 & 5.04 & 12 & 2016-11-06 01:13:12 & 34727 Randy Prairie Apt. 275 South Pamelashire, AS 63214-4216 & Wilkins, White and Martin        & 1\\\\\n\t Raymond Berry       & 41 &  7777.37 & 0 & 4.81 & 12 & 2014-01-20 08:53:20 & 75210 Mark Mill Apt. 397 Donnamouth, MA 40404-7466            & Evans, Logan and Wilson          & 1\\\\\n\t Patrick Bell        & 41 & 11699.26 & 0 & 6.99 & 12 & 2010-03-31 14:45:01 & 93345 Monique Tunnel Apt. 431 North Chase, NJ 30518           & Clark-Kramer                     & 1\\\\\n\t George Archer       & 37 &  8736.06 & 1 & 5.51 & 12 & 2014-12-23 19:38:52 & 5645 Henderson Streets Brandystad, CA 92343                   & Smith Inc                        & 1\\\\\n\t Amanda Roberts      & 43 &  8601.01 & 0 & 5.65 & 12 & 2007-02-03 17:52:51 & PSC 9561, Box 4071 APO AA 92200-5783                          & Evans LLC                        & 1\\\\\n\t Adam Waters         & 40 & 11185.62 & 0 & 6.26 & 12 & 2006-03-06 18:36:47 & 6040 Juan Forge Parrishville, NJ 27948                        & Reed Ltd                         & 1\\\\\n\t Amy Griffin         & 48 &  4771.65 & 0 & 3.77 & 12 & 2007-06-19 04:30:13 & 062 Trevor Falls Suite 665 North Mathewchester, MH 93744      & Larson-Hall                      & 1\\\\\n\t Carla Patterson     & 58 & 12376.37 & 0 & 6.01 & 12 & 2007-12-08 08:05:11 & 350 Gregory Isle South Tinaland, WI 44398                     & Pittman, Watts and Fitzgerald    & 1\\\\\n\t Jennifer King       & 43 &  8024.08 & 0 & 4.08 & 12 & 2016-02-20 07:00:09 & 44850 Dennis Meadows Suite 044 Dariusland, IL 05918           & Hunter, Reyes and Rivera         & 1\\\\\n\t ⋮ & ⋮ & ⋮ & ⋮ & ⋮ & ⋮ & ⋮ & ⋮ & ⋮ & ⋮\\\\\n\t Anthony Vega          & 44 &  9351.88 & 1 & 4.32 & 6 & 2011-08-16 19:16:12 & PSC 9086, Box 2290 APO AP 24944-0330                          & Hall Group                       & 0\\\\\n\t Jason West            & 45 & 13122.89 & 0 & 5.84 & 6 & 2016-04-03 12:55:26 & 6239 Timothy Overpass Carmenhaven, FM 05708-0772              & Santiago-Waller                  & 0\\\\\n\t Dr. Michael Contreras & 45 & 10364.82 & 0 & 5.93 & 5 & 2016-08-22 05:47:48 & 53891 Paula Corners Apt. 946 West Michael, ME 42796-1668      & Holt-Rogers                      & 0\\\\\n\t Beverly Perry         & 38 & 12893.47 & 1 & 5.69 & 5 & 2012-11-20 05:53:31 & 3145 Cruz Mill North Deborahstad, AR 02085                    & Mathis Ltd                       & 0\\\\\n\t Rodney Evans          & 49 &  8092.13 & 0 & 6.32 & 5 & 2011-10-22 19:12:36 & 025 Ricky Ford East John, AS 71101-1423                       & Simmons Inc                      & 0\\\\\n\t Terry Diaz            & 46 & 11401.63 & 0 & 6.13 & 5 & 2014-06-30 15:46:07 & USNV Rose FPO AP 67907-1654                                   & Charles, Cruz and Marshall       & 0\\\\\n\t Austin Melendez       & 44 & 12155.91 & 1 & 4.11 & 5 & 2009-07-30 18:11:19 & 697 Mcdowell Pike Lake Phillip, LA 32009-7853                 & Carlson, Ramos and Johnson       & 0\\\\\n\t Timothy Mcdonald      & 52 & 11093.87 & 0 & 4.38 & 5 & 2016-09-30 14:28:53 & 6685 Marie Unions Suite 385 West Kevinfort, MS 77092-9463     & Smith-Hawkins                    & 0\\\\\n\t Michael Brown         & 47 &  9365.92 & 1 & 4.37 & 5 & 2013-06-10 21:51:47 & 4972 Michael Village Suite 788 West Rachelstad, NH 04946-6243 & Smith, Diaz and Warren           & 0\\\\\n\t Tammy Williams        & 52 &  9065.28 & 0 & 3.99 & 5 & 2009-12-13 18:17:02 & 6720 Barbara Square Christopherchester, UT 54226              & Lawrence-Johnson                 & 0\\\\\n\t Kenneth Graham        & 50 &  9641.61 & 0 & 3.09 & 5 & 2010-06-09 21:23:11 & 43996 Parks Spring Hooperland, TX 05090-6018                  & King-Atkinson                    & 0\\\\\n\t Dominique Kemp        & 40 & 10370.72 & 1 & 4.35 & 5 & 2016-03-28 02:06:48 & 478 James Spurs North Thomas, MT 77158-1870                   & Richardson Inc                   & 0\\\\\n\t Duane Mcdonald        & 55 &  8280.03 & 0 & 6.33 & 5 & 2013-07-31 03:51:53 & USNV Nielsen FPO AA 31326                                     & Armstrong-Hicks                  & 0\\\\\n\t Amy Riddle            & 45 &  8389.84 & 1 & 6.81 & 5 & 2009-08-19 08:06:04 & 4964 Page Estate East Richardmouth, OK 43652                  & Parker PLC                       & 0\\\\\n\t Kayla Reeves          & 38 &   100.00 & 0 & 5.27 & 5 & 2006-10-03 09:01:48 & 1511 Porter Drive Amberberg, NC 44608                         & Stewart-Lopez                    & 0\\\\\n\t Lauren Nelson         & 40 &  7490.92 & 0 & 4.75 & 5 & 2013-08-05 20:26:59 & 341 Benjamin Knolls Robertview, ND 28469-9018                 & Hall Inc                         & 0\\\\\n\t Cheryl Hayes          & 51 & 10776.82 & 0 & 5.10 & 5 & 2007-01-05 20:48:18 & 667 Diaz Row Garnerview, IN 81368-5410                        & Hill, Roberts and Melendez       & 0\\\\\n\t Vanessa Hodge         & 38 &  8370.15 & 0 & 8.60 & 5 & 2009-01-24 14:58:51 & 29252 Powell Brook Suite 931 Port Scottland, MT 15769-3539    & Li Ltd                           & 0\\\\\n\t Whitney Kennedy       & 42 & 10442.37 & 0 & 5.58 & 5 & 2006-05-04 12:31:49 & 6414 Jesus Knoll Apt. 139 Downsshire, VT 78464                & Bates-Underwood                  & 0\\\\\n\t Cynthia Wood          & 49 & 12681.35 & 0 & 3.68 & 5 & 2014-05-24 05:29:40 & 589 Mary Vista Lake Craig, CO 88641                           & Washington, Mcdaniel and Lambert & 0\\\\\n\t Bradley Bennett       & 41 &  8143.38 & 1 & 2.64 & 5 & 2008-11-11 18:59:37 & 04046 Shelby Rapid Blackport, KS 68644                        & Fisher, Moore and Miles          & 0\\\\\n\t Doris Zimmerman       & 40 & 11575.55 & 1 & 5.22 & 5 & 2015-03-10 20:16:40 & 3536 Rivera Springs Suite 771 New Marcusville, HI 22211-1439  & Mitchell-Adams                   & 0\\\\\n\t Holly Hill            & 43 &  5805.53 & 0 & 5.44 & 5 & 2014-11-27 17:12:25 & 6985 Kevin Flat South Debra, CO 13171                         & Shaw LLC                         & 0\\\\\n\t Jessica Leon          & 49 &  8523.04 & 1 & 4.15 & 5 & 2014-09-03 01:12:14 & PSC 3040, Box 9946 APO AP 11064-1547                          & Williams-Moreno                  & 0\\\\\n\t Jason Santana         & 39 &  9408.96 & 1 & 3.83 & 4 & 2011-09-30 06:15:01 & 8072 Kathy Harbors Apt. 845 Normanburgh, MA 46572-1532        & Gonzalez LLC                     & 0\\\\\n\t Monica Todd           & 35 & 11255.38 & 0 & 6.28 & 4 & 2007-04-04 08:32:31 & 104 Ruben Rapid Apt. 107 New Andrea, FM 58602                 & Peterson PLC                     & 0\\\\\n\t Adam Moore            & 41 & 12659.88 & 0 & 4.55 & 4 & 2010-01-22 19:08:48 & 339 Jeffrey River Suite 638 Fergusonville, DC 25987           & Little, White and Davis          & 0\\\\\n\t Ana Smith             & 45 & 12056.18 & 0 & 5.46 & 4 & 2014-06-20 05:10:09 & Unit 8633 Box 8738 DPO AA 14126-5026                          & Schneider-Smith                  & 0\\\\\n\t Regina Kirby          & 41 & 10921.54 & 0 & 5.07 & 3 & 2015-09-04 11:32:49 & 310 Amy Underpass Suite 089 Lake Kevin, DC 23138-4553         & Schaefer-Berry                   & 0\\\\\n\t James Stevens         & 44 & 12400.33 & 1 & 5.18 & 3 & 2007-07-18 07:06:46 & USNV Johnson FPO AA 53865-7362                                & Sims-Cole                        & 0\\\\\n\\end{tabular}\n",
            "text/plain": [
              "    Names                 Age Total_Purchase Account_Manager Years Num_Sites\n",
              "1   Daniel Bartlett       45   6749.49       0               5.88  14       \n",
              "2   Brian Young           49  10522.21       0               7.25  14       \n",
              "3   Eric Kelley           43  10271.19       1               5.31  14       \n",
              "4   Katie Sutton          40  11611.51       1               5.64  14       \n",
              "5   Douglas Joseph        44   8474.11       0               6.61  14       \n",
              "6   James Contreras       46  11119.11       1               3.51  14       \n",
              "7   Nicole Olson          40   8283.32       1               5.10  13       \n",
              "8   Ryan Weaver           39  10110.40       1               5.78  13       \n",
              "9   Laurie Green          51   8100.43       1               4.92  13       \n",
              "10  Tina King             40   8625.96       1               6.27  13       \n",
              "11  April Freeman         41   9923.79       1               4.75  13       \n",
              "12  James Newman          35   9766.95       1               4.59  13       \n",
              "13  Stephanie Gonzales    36  11550.29       0               6.46  13       \n",
              "14  Randall Weber         34  12983.26       1               6.53  13       \n",
              "15  Eric Lozano           38  12884.75       0               6.67  12       \n",
              "16  James Wright          38  10494.82       1               6.81  12       \n",
              "17  Katherine Carpenter   43  11226.88       0               8.08  12       \n",
              "18  Paul Walker           41  10474.94       0               6.40  12       \n",
              "19  Joseph Harrell        44   9814.22       1               5.45  12       \n",
              "20  Heidi Munoz           38  11887.39       0               5.83  12       \n",
              "21  Thomas Sawyer         48  10367.08       1               6.45  12       \n",
              "22  Erin Rivera           37   8198.06       1               5.04  12       \n",
              "23  Raymond Berry         41   7777.37       0               4.81  12       \n",
              "24  Patrick Bell          41  11699.26       0               6.99  12       \n",
              "25  George Archer         37   8736.06       1               5.51  12       \n",
              "26  Amanda Roberts        43   8601.01       0               5.65  12       \n",
              "27  Adam Waters           40  11185.62       0               6.26  12       \n",
              "28  Amy Griffin           48   4771.65       0               3.77  12       \n",
              "29  Carla Patterson       58  12376.37       0               6.01  12       \n",
              "30  Jennifer King         43   8024.08       0               4.08  12       \n",
              "⋮   ⋮                     ⋮   ⋮              ⋮               ⋮     ⋮        \n",
              "871 Anthony Vega          44   9351.88       1               4.32  6        \n",
              "872 Jason West            45  13122.89       0               5.84  6        \n",
              "873 Dr. Michael Contreras 45  10364.82       0               5.93  5        \n",
              "874 Beverly Perry         38  12893.47       1               5.69  5        \n",
              "875 Rodney Evans          49   8092.13       0               6.32  5        \n",
              "876 Terry Diaz            46  11401.63       0               6.13  5        \n",
              "877 Austin Melendez       44  12155.91       1               4.11  5        \n",
              "878 Timothy Mcdonald      52  11093.87       0               4.38  5        \n",
              "879 Michael Brown         47   9365.92       1               4.37  5        \n",
              "880 Tammy Williams        52   9065.28       0               3.99  5        \n",
              "881 Kenneth Graham        50   9641.61       0               3.09  5        \n",
              "882 Dominique Kemp        40  10370.72       1               4.35  5        \n",
              "883 Duane Mcdonald        55   8280.03       0               6.33  5        \n",
              "884 Amy Riddle            45   8389.84       1               6.81  5        \n",
              "885 Kayla Reeves          38    100.00       0               5.27  5        \n",
              "886 Lauren Nelson         40   7490.92       0               4.75  5        \n",
              "887 Cheryl Hayes          51  10776.82       0               5.10  5        \n",
              "888 Vanessa Hodge         38   8370.15       0               8.60  5        \n",
              "889 Whitney Kennedy       42  10442.37       0               5.58  5        \n",
              "890 Cynthia Wood          49  12681.35       0               3.68  5        \n",
              "891 Bradley Bennett       41   8143.38       1               2.64  5        \n",
              "892 Doris Zimmerman       40  11575.55       1               5.22  5        \n",
              "893 Holly Hill            43   5805.53       0               5.44  5        \n",
              "894 Jessica Leon          49   8523.04       1               4.15  5        \n",
              "895 Jason Santana         39   9408.96       1               3.83  4        \n",
              "896 Monica Todd           35  11255.38       0               6.28  4        \n",
              "897 Adam Moore            41  12659.88       0               4.55  4        \n",
              "898 Ana Smith             45  12056.18       0               5.46  4        \n",
              "899 Regina Kirby          41  10921.54       0               5.07  3        \n",
              "900 James Stevens         44  12400.33       1               5.18  3        \n",
              "    Onboard_date       \n",
              "1   2006-08-19 17:13:19\n",
              "2   2014-11-08 00:40:36\n",
              "3   2011-07-19 10:28:53\n",
              "4   2010-06-19 16:02:16\n",
              "5   2012-10-01 08:10:23\n",
              "6   2008-12-08 09:23:02\n",
              "7   2012-11-22 05:35:03\n",
              "8   2009-03-10 21:58:42\n",
              "9   2006-01-14 01:47:07\n",
              "10  2008-08-07 01:50:30\n",
              "11  2011-08-28 03:41:36\n",
              "12  2008-02-29 14:17:57\n",
              "13  2014-01-13 05:18:56\n",
              "14  2007-10-14 20:54:33\n",
              "15  2016-06-29 06:20:07\n",
              "16  2015-07-22 08:38:40\n",
              "17  2006-10-22 04:42:38\n",
              "18  2012-01-02 05:08:52\n",
              "19  2010-01-23 07:15:58\n",
              "20  2009-10-15 17:14:01\n",
              "21  2008-10-06 17:15:00\n",
              "22  2016-11-06 01:13:12\n",
              "23  2014-01-20 08:53:20\n",
              "24  2010-03-31 14:45:01\n",
              "25  2014-12-23 19:38:52\n",
              "26  2007-02-03 17:52:51\n",
              "27  2006-03-06 18:36:47\n",
              "28  2007-06-19 04:30:13\n",
              "29  2007-12-08 08:05:11\n",
              "30  2016-02-20 07:00:09\n",
              "⋮   ⋮                  \n",
              "871 2011-08-16 19:16:12\n",
              "872 2016-04-03 12:55:26\n",
              "873 2016-08-22 05:47:48\n",
              "874 2012-11-20 05:53:31\n",
              "875 2011-10-22 19:12:36\n",
              "876 2014-06-30 15:46:07\n",
              "877 2009-07-30 18:11:19\n",
              "878 2016-09-30 14:28:53\n",
              "879 2013-06-10 21:51:47\n",
              "880 2009-12-13 18:17:02\n",
              "881 2010-06-09 21:23:11\n",
              "882 2016-03-28 02:06:48\n",
              "883 2013-07-31 03:51:53\n",
              "884 2009-08-19 08:06:04\n",
              "885 2006-10-03 09:01:48\n",
              "886 2013-08-05 20:26:59\n",
              "887 2007-01-05 20:48:18\n",
              "888 2009-01-24 14:58:51\n",
              "889 2006-05-04 12:31:49\n",
              "890 2014-05-24 05:29:40\n",
              "891 2008-11-11 18:59:37\n",
              "892 2015-03-10 20:16:40\n",
              "893 2014-11-27 17:12:25\n",
              "894 2014-09-03 01:12:14\n",
              "895 2011-09-30 06:15:01\n",
              "896 2007-04-04 08:32:31\n",
              "897 2010-01-22 19:08:48\n",
              "898 2014-06-20 05:10:09\n",
              "899 2015-09-04 11:32:49\n",
              "900 2007-07-18 07:06:46\n",
              "    Location                                                     \n",
              "1   353 Gregory Spur Mariaburgh, KY 66125                        \n",
              "2   Unit 6711 Box 7964 DPO AA 27820                              \n",
              "3   98472 Meghan Mall Port Lauren, LA 49472                      \n",
              "4   564 Amanda Park Apt. 388 Watsonport, NJ 61471-7559           \n",
              "5   Unit 9630 Box 8710 DPO AP 69319                              \n",
              "6   10454 David Greens South Jenniferbury, FM 87283-5336         \n",
              "7   11488 Weaver Cape Hernandezberg, WI 63417-8544               \n",
              "8   8306 Nicole Lane Moranmouth, PR 36299                        \n",
              "9   74631 Kyle Mountain Apt. 268 Andrewmouth, MI 55255           \n",
              "10  80203 Brandon Hill Apt. 353 New Luisport, VA 65076           \n",
              "11  16914 Oconnell Forge Apt. 477 Atkinsonmouth, MD 32666        \n",
              "12  1317 Dillon Gardens Michaelville, ME 91569-7889              \n",
              "13  437 Alex Glens Melindaburgh, ID 78010-8240                   \n",
              "14  447 Lane Street Apt. 689 East Christopher, MI 80796          \n",
              "15  1331 Keith Court Alyssahaven, DE 90114                       \n",
              "16  45408 David Path East Kimberlyshire, HI 54903-6698           \n",
              "17  Unit 4948 Box 4814 DPO AP 42669                              \n",
              "18  73006 Patty Avenue Apt. 646 New Sarahburgh, NV 24826         \n",
              "19  USCGC Bell FPO AE 94532                                      \n",
              "20  USCGC Mason FPO AA 96632-5067                                \n",
              "21  8113 Rodriguez Court Sheribury, SC 88474                     \n",
              "22  34727 Randy Prairie Apt. 275 South Pamelashire, AS 63214-4216\n",
              "23  75210 Mark Mill Apt. 397 Donnamouth, MA 40404-7466           \n",
              "24  93345 Monique Tunnel Apt. 431 North Chase, NJ 30518          \n",
              "25  5645 Henderson Streets Brandystad, CA 92343                  \n",
              "26  PSC 9561, Box 4071 APO AA 92200-5783                         \n",
              "27  6040 Juan Forge Parrishville, NJ 27948                       \n",
              "28  062 Trevor Falls Suite 665 North Mathewchester, MH 93744     \n",
              "29  350 Gregory Isle South Tinaland, WI 44398                    \n",
              "30  44850 Dennis Meadows Suite 044 Dariusland, IL 05918          \n",
              "⋮   ⋮                                                            \n",
              "871 PSC 9086, Box 2290 APO AP 24944-0330                         \n",
              "872 6239 Timothy Overpass Carmenhaven, FM 05708-0772             \n",
              "873 53891 Paula Corners Apt. 946 West Michael, ME 42796-1668     \n",
              "874 3145 Cruz Mill North Deborahstad, AR 02085                   \n",
              "875 025 Ricky Ford East John, AS 71101-1423                      \n",
              "876 USNV Rose FPO AP 67907-1654                                  \n",
              "877 697 Mcdowell Pike Lake Phillip, LA 32009-7853                \n",
              "878 6685 Marie Unions Suite 385 West Kevinfort, MS 77092-9463    \n",
              "879 4972 Michael Village Suite 788 West Rachelstad, NH 04946-6243\n",
              "880 6720 Barbara Square Christopherchester, UT 54226             \n",
              "881 43996 Parks Spring Hooperland, TX 05090-6018                 \n",
              "882 478 James Spurs North Thomas, MT 77158-1870                  \n",
              "883 USNV Nielsen FPO AA 31326                                    \n",
              "884 4964 Page Estate East Richardmouth, OK 43652                 \n",
              "885 1511 Porter Drive Amberberg, NC 44608                        \n",
              "886 341 Benjamin Knolls Robertview, ND 28469-9018                \n",
              "887 667 Diaz Row Garnerview, IN 81368-5410                       \n",
              "888 29252 Powell Brook Suite 931 Port Scottland, MT 15769-3539   \n",
              "889 6414 Jesus Knoll Apt. 139 Downsshire, VT 78464               \n",
              "890 589 Mary Vista Lake Craig, CO 88641                          \n",
              "891 04046 Shelby Rapid Blackport, KS 68644                       \n",
              "892 3536 Rivera Springs Suite 771 New Marcusville, HI 22211-1439 \n",
              "893 6985 Kevin Flat South Debra, CO 13171                        \n",
              "894 PSC 3040, Box 9946 APO AP 11064-1547                         \n",
              "895 8072 Kathy Harbors Apt. 845 Normanburgh, MA 46572-1532       \n",
              "896 104 Ruben Rapid Apt. 107 New Andrea, FM 58602                \n",
              "897 339 Jeffrey River Suite 638 Fergusonville, DC 25987          \n",
              "898 Unit 8633 Box 8738 DPO AA 14126-5026                         \n",
              "899 310 Amy Underpass Suite 089 Lake Kevin, DC 23138-4553        \n",
              "900 USNV Johnson FPO AA 53865-7362                               \n",
              "    Company                          Churn\n",
              "1   Owens Group                      1    \n",
              "2   Munoz Ltd                        1    \n",
              "3   Santos, Hoffman and Harper       1    \n",
              "4   Patrick Inc                      1    \n",
              "5   Clark PLC                        1    \n",
              "6   Taylor-Robbins                   0    \n",
              "7   Smith, Kim and Marshall          1    \n",
              "8   Keith, Richardson and Thomas     1    \n",
              "9   Callahan, Hinton and Murray      1    \n",
              "10  Franco-Jones                     1    \n",
              "11  Larson, Ross and Ward            1    \n",
              "12  Griffin, Tucker and Lee          1    \n",
              "13  Young-Dunn                       1    \n",
              "14  Torres, Villanueva and Velasquez 1    \n",
              "15  Miller, Johnson and Wallace      1    \n",
              "16  Sanders-Pierce                   1    \n",
              "17  Morgan, Phillips and Harrell     1    \n",
              "18  Dalton LLC                       1    \n",
              "19  Fitzgerald, Sherman and Lowe     1    \n",
              "20  Mckinney-Rogers                  1    \n",
              "21  Lopez, Kelly and Armstrong       1    \n",
              "22  Wilkins, White and Martin        1    \n",
              "23  Evans, Logan and Wilson          1    \n",
              "24  Clark-Kramer                     1    \n",
              "25  Smith Inc                        1    \n",
              "26  Evans LLC                        1    \n",
              "27  Reed Ltd                         1    \n",
              "28  Larson-Hall                      1    \n",
              "29  Pittman, Watts and Fitzgerald    1    \n",
              "30  Hunter, Reyes and Rivera         1    \n",
              "⋮   ⋮                                ⋮    \n",
              "871 Hall Group                       0    \n",
              "872 Santiago-Waller                  0    \n",
              "873 Holt-Rogers                      0    \n",
              "874 Mathis Ltd                       0    \n",
              "875 Simmons Inc                      0    \n",
              "876 Charles, Cruz and Marshall       0    \n",
              "877 Carlson, Ramos and Johnson       0    \n",
              "878 Smith-Hawkins                    0    \n",
              "879 Smith, Diaz and Warren           0    \n",
              "880 Lawrence-Johnson                 0    \n",
              "881 King-Atkinson                    0    \n",
              "882 Richardson Inc                   0    \n",
              "883 Armstrong-Hicks                  0    \n",
              "884 Parker PLC                       0    \n",
              "885 Stewart-Lopez                    0    \n",
              "886 Hall Inc                         0    \n",
              "887 Hill, Roberts and Melendez       0    \n",
              "888 Li Ltd                           0    \n",
              "889 Bates-Underwood                  0    \n",
              "890 Washington, Mcdaniel and Lambert 0    \n",
              "891 Fisher, Moore and Miles          0    \n",
              "892 Mitchell-Adams                   0    \n",
              "893 Shaw LLC                         0    \n",
              "894 Williams-Moreno                  0    \n",
              "895 Gonzalez LLC                     0    \n",
              "896 Peterson PLC                     0    \n",
              "897 Little, White and Davis          0    \n",
              "898 Schneider-Smith                  0    \n",
              "899 Schaefer-Berry                   0    \n",
              "900 Sims-Cole                        0    "
            ]
          },
          "metadata": {}
        }
      ]
    },
    {
      "cell_type": "code",
      "source": [
        "# Réaliser des opérations sur un dataframe avec group_by\n",
        "dataset %>% group_by(Churn) %>% summarise(mean(Num_Sites))"
      ],
      "metadata": {
        "colab": {
          "base_uri": "https://localhost:8080/",
          "height": 161
        },
        "id": "p1cU_H8kMuTo",
        "outputId": "df9119a6-a9c3-492e-8d24-879e7604d59c"
      },
      "execution_count": 137,
      "outputs": [
        {
          "output_type": "display_data",
          "data": {
            "text/html": [
              "<table class=\"dataframe\">\n",
              "<caption>A tibble: 2 × 2</caption>\n",
              "<thead>\n",
              "\t<tr><th scope=col>Churn</th><th scope=col>mean(Num_Sites)</th></tr>\n",
              "\t<tr><th scope=col>&lt;int&gt;</th><th scope=col>&lt;dbl&gt;</th></tr>\n",
              "</thead>\n",
              "<tbody>\n",
              "\t<tr><td>0</td><td> 8.173333</td></tr>\n",
              "\t<tr><td>1</td><td>10.660000</td></tr>\n",
              "</tbody>\n",
              "</table>\n"
            ],
            "text/markdown": "\nA tibble: 2 × 2\n\n| Churn &lt;int&gt; | mean(Num_Sites) &lt;dbl&gt; |\n|---|---|\n| 0 |  8.173333 |\n| 1 | 10.660000 |\n\n",
            "text/latex": "A tibble: 2 × 2\n\\begin{tabular}{ll}\n Churn & mean(Num\\_Sites)\\\\\n <int> & <dbl>\\\\\n\\hline\n\t 0 &  8.173333\\\\\n\t 1 & 10.660000\\\\\n\\end{tabular}\n",
            "text/plain": [
              "  Churn mean(Num_Sites)\n",
              "1 0      8.173333      \n",
              "2 1     10.660000      "
            ]
          },
          "metadata": {}
        }
      ]
    }
  ]
}