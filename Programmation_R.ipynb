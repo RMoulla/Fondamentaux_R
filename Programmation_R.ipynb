{
  "nbformat": 4,
  "nbformat_minor": 0,
  "metadata": {
    "colab": {
      "provenance": [],
      "authorship_tag": "ABX9TyMk0wO3OuY5cv3XB+7BA06G",
      "include_colab_link": true
    },
    "kernelspec": {
      "name": "ir",
      "display_name": "R"
    },
    "language_info": {
      "name": "R"
    }
  },
  "cells": [
    {
      "cell_type": "markdown",
      "metadata": {
        "id": "view-in-github",
        "colab_type": "text"
      },
      "source": [
        "<a href=\"https://colab.research.google.com/github/RMoulla/Fondamentaux_R/blob/main/Programmation_R.ipynb\" target=\"_parent\"><img src=\"https://colab.research.google.com/assets/colab-badge.svg\" alt=\"Open In Colab\"/></a>"
      ]
    },
    {
      "cell_type": "markdown",
      "source": [
        "# **Fondamentaux de R**"
      ],
      "metadata": {
        "id": "q5fvMqTpr8wk"
      }
    },
    {
      "cell_type": "markdown",
      "source": [
        "## Scalaires"
      ],
      "metadata": {
        "id": "ZN_mSxhhyMHt"
      }
    },
    {
      "cell_type": "code",
      "execution_count": null,
      "metadata": {
        "colab": {
          "base_uri": "https://localhost:8080/",
          "height": 34
        },
        "id": "WDfhtv4dr3J1",
        "outputId": "708a20d5-c8a5-41d1-9b80-c4bf556561aa"
      },
      "outputs": [
        {
          "output_type": "display_data",
          "data": {
            "text/html": [
              "10"
            ],
            "text/markdown": "10",
            "text/latex": "10",
            "text/plain": [
              "[1] 10"
            ]
          },
          "metadata": {}
        }
      ],
      "source": [
        "# Assignation\n",
        "x <- 10\n",
        "x"
      ]
    },
    {
      "cell_type": "code",
      "source": [
        "# Assignation\n",
        "y = 20\n",
        "y"
      ],
      "metadata": {
        "colab": {
          "base_uri": "https://localhost:8080/",
          "height": 34
        },
        "id": "eoqxQX_SykyC",
        "outputId": "bd3ca048-60fe-433a-ec49-4e5ccf1bc41a"
      },
      "execution_count": null,
      "outputs": [
        {
          "output_type": "display_data",
          "data": {
            "text/html": [
              "20"
            ],
            "text/markdown": "20",
            "text/latex": "20",
            "text/plain": [
              "[1] 20"
            ]
          },
          "metadata": {}
        }
      ]
    },
    {
      "cell_type": "code",
      "source": [
        "# Classe d'un objet\n",
        "class(x)"
      ],
      "metadata": {
        "colab": {
          "base_uri": "https://localhost:8080/",
          "height": 34
        },
        "id": "1W4UV6doy2dR",
        "outputId": "2b4fa71b-434a-41e4-b45d-3bfb454a44c1"
      },
      "execution_count": null,
      "outputs": [
        {
          "output_type": "display_data",
          "data": {
            "text/html": [
              "'numeric'"
            ],
            "text/markdown": "'numeric'",
            "text/latex": "'numeric'",
            "text/plain": [
              "[1] \"numeric\""
            ]
          },
          "metadata": {}
        }
      ]
    },
    {
      "cell_type": "code",
      "source": [
        "# Addition\n",
        "x + y"
      ],
      "metadata": {
        "colab": {
          "base_uri": "https://localhost:8080/",
          "height": 34
        },
        "id": "kX_kOsF3y8rB",
        "outputId": "4b597797-0fb6-459d-fa78-16fe926b5387"
      },
      "execution_count": null,
      "outputs": [
        {
          "output_type": "display_data",
          "data": {
            "text/html": [
              "30"
            ],
            "text/markdown": "30",
            "text/latex": "30",
            "text/plain": [
              "[1] 30"
            ]
          },
          "metadata": {}
        }
      ]
    },
    {
      "cell_type": "markdown",
      "source": [
        "## Vecteurs"
      ],
      "metadata": {
        "id": "JSmD8V6szUwa"
      }
    },
    {
      "cell_type": "code",
      "source": [
        "# Créer un vecteur avec c\n",
        "vec <- c(12, 20, 40, 18)\n",
        "vec"
      ],
      "metadata": {
        "colab": {
          "base_uri": "https://localhost:8080/",
          "height": 34
        },
        "id": "-GbiGiE4zZmx",
        "outputId": "2af7303e-3ce0-4a72-dcec-ee4c38665fbf"
      },
      "execution_count": null,
      "outputs": [
        {
          "output_type": "display_data",
          "data": {
            "text/html": [
              "<style>\n",
              ".list-inline {list-style: none; margin:0; padding: 0}\n",
              ".list-inline>li {display: inline-block}\n",
              ".list-inline>li:not(:last-child)::after {content: \"\\00b7\"; padding: 0 .5ex}\n",
              "</style>\n",
              "<ol class=list-inline><li>12</li><li>20</li><li>40</li><li>18</li></ol>\n"
            ],
            "text/markdown": "1. 12\n2. 20\n3. 40\n4. 18\n\n\n",
            "text/latex": "\\begin{enumerate*}\n\\item 12\n\\item 20\n\\item 40\n\\item 18\n\\end{enumerate*}\n",
            "text/plain": [
              "[1] 12 20 40 18"
            ]
          },
          "metadata": {}
        }
      ]
    },
    {
      "cell_type": "code",
      "source": [
        "# Créer un vecteur séquentiel\n",
        "vec_seq <- 1:5\n",
        "vec_seq"
      ],
      "metadata": {
        "colab": {
          "base_uri": "https://localhost:8080/",
          "height": 34
        },
        "id": "noj_fskOzrdq",
        "outputId": "b9110cfd-2648-48c0-d9e7-1326218b1b1f"
      },
      "execution_count": null,
      "outputs": [
        {
          "output_type": "display_data",
          "data": {
            "text/html": [
              "<style>\n",
              ".list-inline {list-style: none; margin:0; padding: 0}\n",
              ".list-inline>li {display: inline-block}\n",
              ".list-inline>li:not(:last-child)::after {content: \"\\00b7\"; padding: 0 .5ex}\n",
              "</style>\n",
              "<ol class=list-inline><li>1</li><li>2</li><li>3</li><li>4</li><li>5</li></ol>\n"
            ],
            "text/markdown": "1. 1\n2. 2\n3. 3\n4. 4\n5. 5\n\n\n",
            "text/latex": "\\begin{enumerate*}\n\\item 1\n\\item 2\n\\item 3\n\\item 4\n\\item 5\n\\end{enumerate*}\n",
            "text/plain": [
              "[1] 1 2 3 4 5"
            ]
          },
          "metadata": {}
        }
      ]
    },
    {
      "cell_type": "code",
      "source": [
        "# Créer un vecteur séquentiel avec seq\n",
        "vec_seq2 <- seq(1, 10, 2)\n",
        "vec_seq2"
      ],
      "metadata": {
        "colab": {
          "base_uri": "https://localhost:8080/",
          "height": 34
        },
        "id": "v-XE4l3Uz3TE",
        "outputId": "8ce24a33-470d-410c-c73c-0b43f3c73a90"
      },
      "execution_count": null,
      "outputs": [
        {
          "output_type": "display_data",
          "data": {
            "text/html": [
              "<style>\n",
              ".list-inline {list-style: none; margin:0; padding: 0}\n",
              ".list-inline>li {display: inline-block}\n",
              ".list-inline>li:not(:last-child)::after {content: \"\\00b7\"; padding: 0 .5ex}\n",
              "</style>\n",
              "<ol class=list-inline><li>1</li><li>3</li><li>5</li><li>7</li><li>9</li></ol>\n"
            ],
            "text/markdown": "1. 1\n2. 3\n3. 5\n4. 7\n5. 9\n\n\n",
            "text/latex": "\\begin{enumerate*}\n\\item 1\n\\item 3\n\\item 5\n\\item 7\n\\item 9\n\\end{enumerate*}\n",
            "text/plain": [
              "[1] 1 3 5 7 9"
            ]
          },
          "metadata": {}
        }
      ]
    },
    {
      "cell_type": "code",
      "source": [
        "# Accéder à un élément d'un vecteur\n",
        "vec[1]"
      ],
      "metadata": {
        "colab": {
          "base_uri": "https://localhost:8080/",
          "height": 34
        },
        "id": "NVtuv5Y70TSb",
        "outputId": "3d0bc858-4712-4dd7-bc18-b2c4097871a4"
      },
      "execution_count": null,
      "outputs": [
        {
          "output_type": "display_data",
          "data": {
            "text/html": [
              "12"
            ],
            "text/markdown": "12",
            "text/latex": "12",
            "text/plain": [
              "[1] 12"
            ]
          },
          "metadata": {}
        }
      ]
    },
    {
      "cell_type": "code",
      "source": [
        "# Accéder à une séquence d'un vecteur\n",
        "vec[1:3]"
      ],
      "metadata": {
        "colab": {
          "base_uri": "https://localhost:8080/",
          "height": 34
        },
        "id": "k2DJgWBd0nVp",
        "outputId": "2219bb03-35df-4a62-af31-3a8f32cfd81e"
      },
      "execution_count": null,
      "outputs": [
        {
          "output_type": "display_data",
          "data": {
            "text/html": [
              "<style>\n",
              ".list-inline {list-style: none; margin:0; padding: 0}\n",
              ".list-inline>li {display: inline-block}\n",
              ".list-inline>li:not(:last-child)::after {content: \"\\00b7\"; padding: 0 .5ex}\n",
              "</style>\n",
              "<ol class=list-inline><li>12</li><li>20</li><li>40</li></ol>\n"
            ],
            "text/markdown": "1. 12\n2. 20\n3. 40\n\n\n",
            "text/latex": "\\begin{enumerate*}\n\\item 12\n\\item 20\n\\item 40\n\\end{enumerate*}\n",
            "text/plain": [
              "[1] 12 20 40"
            ]
          },
          "metadata": {}
        }
      ]
    },
    {
      "cell_type": "code",
      "source": [
        "# Accéder à un ensemble d'éléments d'un vecteur\n",
        "vec[c(1,3)]"
      ],
      "metadata": {
        "colab": {
          "base_uri": "https://localhost:8080/",
          "height": 34
        },
        "id": "nxFS4Cmc3yIr",
        "outputId": "eece6d62-47a6-4bbe-dcae-433c9d69e49e"
      },
      "execution_count": null,
      "outputs": [
        {
          "output_type": "display_data",
          "data": {
            "text/html": [
              "<style>\n",
              ".list-inline {list-style: none; margin:0; padding: 0}\n",
              ".list-inline>li {display: inline-block}\n",
              ".list-inline>li:not(:last-child)::after {content: \"\\00b7\"; padding: 0 .5ex}\n",
              "</style>\n",
              "<ol class=list-inline><li>12</li><li>40</li></ol>\n"
            ],
            "text/markdown": "1. 12\n2. 40\n\n\n",
            "text/latex": "\\begin{enumerate*}\n\\item 12\n\\item 40\n\\end{enumerate*}\n",
            "text/plain": [
              "[1] 12 40"
            ]
          },
          "metadata": {}
        }
      ]
    },
    {
      "cell_type": "code",
      "source": [
        "# Accéder à tous les éléments sauf un\n",
        "vec[-1]"
      ],
      "metadata": {
        "colab": {
          "base_uri": "https://localhost:8080/",
          "height": 34
        },
        "id": "vSrJ0oBS4TEo",
        "outputId": "09822e7b-8f59-4122-e8af-3c5b6289d7c6"
      },
      "execution_count": null,
      "outputs": [
        {
          "output_type": "display_data",
          "data": {
            "text/html": [
              "<style>\n",
              ".list-inline {list-style: none; margin:0; padding: 0}\n",
              ".list-inline>li {display: inline-block}\n",
              ".list-inline>li:not(:last-child)::after {content: \"\\00b7\"; padding: 0 .5ex}\n",
              "</style>\n",
              "<ol class=list-inline><li>20</li><li>40</li><li>18</li></ol>\n"
            ],
            "text/markdown": "1. 20\n2. 40\n3. 18\n\n\n",
            "text/latex": "\\begin{enumerate*}\n\\item 20\n\\item 40\n\\item 18\n\\end{enumerate*}\n",
            "text/plain": [
              "[1] 20 40 18"
            ]
          },
          "metadata": {}
        }
      ]
    },
    {
      "cell_type": "code",
      "source": [
        "# Accéder à des éléments avec une condition\n",
        "vec[vec > 15]"
      ],
      "metadata": {
        "colab": {
          "base_uri": "https://localhost:8080/",
          "height": 34
        },
        "id": "RhtivoOu4otv",
        "outputId": "3a603226-5bb5-41ef-94b6-c4231d42f0c5"
      },
      "execution_count": null,
      "outputs": [
        {
          "output_type": "display_data",
          "data": {
            "text/html": [
              "<style>\n",
              ".list-inline {list-style: none; margin:0; padding: 0}\n",
              ".list-inline>li {display: inline-block}\n",
              ".list-inline>li:not(:last-child)::after {content: \"\\00b7\"; padding: 0 .5ex}\n",
              "</style>\n",
              "<ol class=list-inline><li>20</li><li>40</li><li>18</li></ol>\n"
            ],
            "text/markdown": "1. 20\n2. 40\n3. 18\n\n\n",
            "text/latex": "\\begin{enumerate*}\n\\item 20\n\\item 40\n\\item 18\n\\end{enumerate*}\n",
            "text/plain": [
              "[1] 20 40 18"
            ]
          },
          "metadata": {}
        }
      ]
    },
    {
      "cell_type": "code",
      "source": [
        "# Puissance d'un vecteur\n",
        "vec^2"
      ],
      "metadata": {
        "colab": {
          "base_uri": "https://localhost:8080/",
          "height": 34
        },
        "id": "S2Gyqysm5M7M",
        "outputId": "bee77541-bc49-4eeb-bde8-d468ea690404"
      },
      "execution_count": null,
      "outputs": [
        {
          "output_type": "display_data",
          "data": {
            "text/html": [
              "<style>\n",
              ".list-inline {list-style: none; margin:0; padding: 0}\n",
              ".list-inline>li {display: inline-block}\n",
              ".list-inline>li:not(:last-child)::after {content: \"\\00b7\"; padding: 0 .5ex}\n",
              "</style>\n",
              "<ol class=list-inline><li>144</li><li>400</li><li>1600</li><li>324</li></ol>\n"
            ],
            "text/markdown": "1. 144\n2. 400\n3. 1600\n4. 324\n\n\n",
            "text/latex": "\\begin{enumerate*}\n\\item 144\n\\item 400\n\\item 1600\n\\item 324\n\\end{enumerate*}\n",
            "text/plain": [
              "[1]  144  400 1600  324"
            ]
          },
          "metadata": {}
        }
      ]
    },
    {
      "cell_type": "code",
      "source": [
        "# Addition de deux vecteur\n",
        "vec1 = 1:5\n",
        "vec2 = 6:10\n",
        "\n",
        "vec1 + vec2"
      ],
      "metadata": {
        "colab": {
          "base_uri": "https://localhost:8080/",
          "height": 34
        },
        "id": "cEWcaoMo5ZDD",
        "outputId": "f6c65a58-46ba-4866-fc6a-2e6d2f8f64be"
      },
      "execution_count": null,
      "outputs": [
        {
          "output_type": "display_data",
          "data": {
            "text/html": [
              "<style>\n",
              ".list-inline {list-style: none; margin:0; padding: 0}\n",
              ".list-inline>li {display: inline-block}\n",
              ".list-inline>li:not(:last-child)::after {content: \"\\00b7\"; padding: 0 .5ex}\n",
              "</style>\n",
              "<ol class=list-inline><li>7</li><li>9</li><li>11</li><li>13</li><li>15</li></ol>\n"
            ],
            "text/markdown": "1. 7\n2. 9\n3. 11\n4. 13\n5. 15\n\n\n",
            "text/latex": "\\begin{enumerate*}\n\\item 7\n\\item 9\n\\item 11\n\\item 13\n\\item 15\n\\end{enumerate*}\n",
            "text/plain": [
              "[1]  7  9 11 13 15"
            ]
          },
          "metadata": {}
        }
      ]
    },
    {
      "cell_type": "code",
      "source": [
        "# Multiplication de deux vecteurs\n",
        "vec1*vec2"
      ],
      "metadata": {
        "colab": {
          "base_uri": "https://localhost:8080/",
          "height": 34
        },
        "id": "O7fFYTlE50gc",
        "outputId": "99702ed0-3453-4e51-c15c-439fed9ce51b"
      },
      "execution_count": null,
      "outputs": [
        {
          "output_type": "display_data",
          "data": {
            "text/html": [
              "<style>\n",
              ".list-inline {list-style: none; margin:0; padding: 0}\n",
              ".list-inline>li {display: inline-block}\n",
              ".list-inline>li:not(:last-child)::after {content: \"\\00b7\"; padding: 0 .5ex}\n",
              "</style>\n",
              "<ol class=list-inline><li>6</li><li>14</li><li>24</li><li>36</li><li>50</li></ol>\n"
            ],
            "text/markdown": "1. 6\n2. 14\n3. 24\n4. 36\n5. 50\n\n\n",
            "text/latex": "\\begin{enumerate*}\n\\item 6\n\\item 14\n\\item 24\n\\item 36\n\\item 50\n\\end{enumerate*}\n",
            "text/plain": [
              "[1]  6 14 24 36 50"
            ]
          },
          "metadata": {}
        }
      ]
    },
    {
      "cell_type": "code",
      "source": [
        "# Broadcasting\n",
        "vec1 + 1"
      ],
      "metadata": {
        "colab": {
          "base_uri": "https://localhost:8080/",
          "height": 34
        },
        "id": "tA1HvDLS6TgE",
        "outputId": "f714ae17-62cc-40d4-d741-b964fcfb7ba1"
      },
      "execution_count": null,
      "outputs": [
        {
          "output_type": "display_data",
          "data": {
            "text/html": [
              "<style>\n",
              ".list-inline {list-style: none; margin:0; padding: 0}\n",
              ".list-inline>li {display: inline-block}\n",
              ".list-inline>li:not(:last-child)::after {content: \"\\00b7\"; padding: 0 .5ex}\n",
              "</style>\n",
              "<ol class=list-inline><li>2</li><li>3</li><li>4</li><li>5</li><li>6</li></ol>\n"
            ],
            "text/markdown": "1. 2\n2. 3\n3. 4\n4. 5\n5. 6\n\n\n",
            "text/latex": "\\begin{enumerate*}\n\\item 2\n\\item 3\n\\item 4\n\\item 5\n\\item 6\n\\end{enumerate*}\n",
            "text/plain": [
              "[1] 2 3 4 5 6"
            ]
          },
          "metadata": {}
        }
      ]
    },
    {
      "cell_type": "code",
      "source": [
        "# Longeur d'un vecteur\n",
        "length(vec)"
      ],
      "metadata": {
        "colab": {
          "base_uri": "https://localhost:8080/",
          "height": 34
        },
        "id": "7hIXmlsU60G7",
        "outputId": "eb35eda7-8320-47d6-e8ef-8e55a82a8192"
      },
      "execution_count": null,
      "outputs": [
        {
          "output_type": "display_data",
          "data": {
            "text/html": [
              "4"
            ],
            "text/markdown": "4",
            "text/latex": "4",
            "text/plain": [
              "[1] 4"
            ]
          },
          "metadata": {}
        }
      ]
    },
    {
      "cell_type": "code",
      "source": [
        "# Somme des éléments d'un vecteur\n",
        "sum(vec)"
      ],
      "metadata": {
        "colab": {
          "base_uri": "https://localhost:8080/",
          "height": 34
        },
        "id": "ossbCpTm67pi",
        "outputId": "43a52693-db33-491f-ba6e-ec3564e314f5"
      },
      "execution_count": null,
      "outputs": [
        {
          "output_type": "display_data",
          "data": {
            "text/html": [
              "90"
            ],
            "text/markdown": "90",
            "text/latex": "90",
            "text/plain": [
              "[1] 90"
            ]
          },
          "metadata": {}
        }
      ]
    },
    {
      "cell_type": "code",
      "source": [
        "# Maximum d'un vecteur\n",
        "max(vec)"
      ],
      "metadata": {
        "colab": {
          "base_uri": "https://localhost:8080/",
          "height": 34
        },
        "id": "rx9H2KOx7ELg",
        "outputId": "c439eaa9-733a-4a98-c019-e6a6939409da"
      },
      "execution_count": null,
      "outputs": [
        {
          "output_type": "display_data",
          "data": {
            "text/html": [
              "40"
            ],
            "text/markdown": "40",
            "text/latex": "40",
            "text/plain": [
              "[1] 40"
            ]
          },
          "metadata": {}
        }
      ]
    },
    {
      "cell_type": "code",
      "source": [
        "# minimum d'un vecteur\n",
        "min(vec)"
      ],
      "metadata": {
        "colab": {
          "base_uri": "https://localhost:8080/",
          "height": 34
        },
        "id": "-5Gi2gik7I2T",
        "outputId": "18325fd0-8d9d-4fc6-a09f-ec1c74a9fb01"
      },
      "execution_count": null,
      "outputs": [
        {
          "output_type": "display_data",
          "data": {
            "text/html": [
              "12"
            ],
            "text/markdown": "12",
            "text/latex": "12",
            "text/plain": [
              "[1] 12"
            ]
          },
          "metadata": {}
        }
      ]
    },
    {
      "cell_type": "code",
      "source": [
        "# Trier les éléments d'un vecteur\n",
        "sort(vec)"
      ],
      "metadata": {
        "colab": {
          "base_uri": "https://localhost:8080/",
          "height": 34
        },
        "id": "c5T0l0qU7RAv",
        "outputId": "9f22bdc7-cba8-4247-f8c5-6363375b57b5"
      },
      "execution_count": null,
      "outputs": [
        {
          "output_type": "display_data",
          "data": {
            "text/html": [
              "<style>\n",
              ".list-inline {list-style: none; margin:0; padding: 0}\n",
              ".list-inline>li {display: inline-block}\n",
              ".list-inline>li:not(:last-child)::after {content: \"\\00b7\"; padding: 0 .5ex}\n",
              "</style>\n",
              "<ol class=list-inline><li>12</li><li>18</li><li>20</li><li>40</li></ol>\n"
            ],
            "text/markdown": "1. 12\n2. 18\n3. 20\n4. 40\n\n\n",
            "text/latex": "\\begin{enumerate*}\n\\item 12\n\\item 18\n\\item 20\n\\item 40\n\\end{enumerate*}\n",
            "text/plain": [
              "[1] 12 18 20 40"
            ]
          },
          "metadata": {}
        }
      ]
    },
    {
      "cell_type": "code",
      "source": [
        "# Trier les éléments d'un vecteur par ordre décroissant\n",
        "sort(vec, decreasing = TRUE)"
      ],
      "metadata": {
        "colab": {
          "base_uri": "https://localhost:8080/",
          "height": 34
        },
        "id": "Pki2y6VE7cXH",
        "outputId": "e9e33dfb-19dc-41bf-c5b1-b71f92afac86"
      },
      "execution_count": null,
      "outputs": [
        {
          "output_type": "display_data",
          "data": {
            "text/html": [
              "<style>\n",
              ".list-inline {list-style: none; margin:0; padding: 0}\n",
              ".list-inline>li {display: inline-block}\n",
              ".list-inline>li:not(:last-child)::after {content: \"\\00b7\"; padding: 0 .5ex}\n",
              "</style>\n",
              "<ol class=list-inline><li>40</li><li>20</li><li>18</li><li>12</li></ol>\n"
            ],
            "text/markdown": "1. 40\n2. 20\n3. 18\n4. 12\n\n\n",
            "text/latex": "\\begin{enumerate*}\n\\item 40\n\\item 20\n\\item 18\n\\item 12\n\\end{enumerate*}\n",
            "text/plain": [
              "[1] 40 20 18 12"
            ]
          },
          "metadata": {}
        }
      ]
    },
    {
      "cell_type": "markdown",
      "source": [
        "## Les listes"
      ],
      "metadata": {
        "id": "78MI95nY9AFJ"
      }
    },
    {
      "cell_type": "code",
      "source": [
        "# Créer une liste\n",
        "mylist <- list('A', 2, 'B')\n",
        "mylist"
      ],
      "metadata": {
        "colab": {
          "base_uri": "https://localhost:8080/",
          "height": 97
        },
        "id": "PnEV3Iy_9Laa",
        "outputId": "550d1c8b-fecb-4b7d-e4f9-72b72d7c8b51"
      },
      "execution_count": null,
      "outputs": [
        {
          "output_type": "display_data",
          "data": {
            "text/html": [
              "<ol>\n",
              "\t<li>'A'</li>\n",
              "\t<li>2</li>\n",
              "\t<li>'B'</li>\n",
              "</ol>\n"
            ],
            "text/markdown": "1. 'A'\n2. 2\n3. 'B'\n\n\n",
            "text/latex": "\\begin{enumerate}\n\\item 'A'\n\\item 2\n\\item 'B'\n\\end{enumerate}\n",
            "text/plain": [
              "[[1]]\n",
              "[1] \"A\"\n",
              "\n",
              "[[2]]\n",
              "[1] 2\n",
              "\n",
              "[[3]]\n",
              "[1] \"B\"\n"
            ]
          },
          "metadata": {}
        }
      ]
    },
    {
      "cell_type": "code",
      "source": [
        "# Accéder à un élément d'une liste avec son index\n",
        "mylist[1]"
      ],
      "metadata": {
        "colab": {
          "base_uri": "https://localhost:8080/",
          "height": 62
        },
        "id": "XgtDdOYk9aqV",
        "outputId": "a3566f85-840c-46e4-8cd7-63ec72c550bd"
      },
      "execution_count": null,
      "outputs": [
        {
          "output_type": "display_data",
          "data": {
            "text/html": [
              "<ol>\n",
              "\t<li>'A'</li>\n",
              "</ol>\n"
            ],
            "text/markdown": "1. 'A'\n\n\n",
            "text/latex": "\\begin{enumerate}\n\\item 'A'\n\\end{enumerate}\n",
            "text/plain": [
              "[[1]]\n",
              "[1] \"A\"\n"
            ]
          },
          "metadata": {}
        }
      ]
    },
    {
      "cell_type": "code",
      "source": [
        "## Accéder à un éléments avec son index\n",
        "mylist[[1]]"
      ],
      "metadata": {
        "colab": {
          "base_uri": "https://localhost:8080/",
          "height": 34
        },
        "id": "jpjpMgU_9nEj",
        "outputId": "f3df43f3-efbe-4576-b373-5b72baaf48a7"
      },
      "execution_count": null,
      "outputs": [
        {
          "output_type": "display_data",
          "data": {
            "text/html": [
              "'A'"
            ],
            "text/markdown": "'A'",
            "text/latex": "'A'",
            "text/plain": [
              "[1] \"A\""
            ]
          },
          "metadata": {}
        }
      ]
    },
    {
      "cell_type": "code",
      "source": [
        "# Créer une liste avec des clés et des valeurs\n",
        "mylist_dict <- list(nom = 'A', valeur = 2, prénom = 'B')\n",
        "mylist_dict"
      ],
      "metadata": {
        "colab": {
          "base_uri": "https://localhost:8080/",
          "height": 149
        },
        "id": "TnudTegL98c0",
        "outputId": "a6c52766-b0fa-4c16-ae3e-eb99cbca356f"
      },
      "execution_count": null,
      "outputs": [
        {
          "output_type": "display_data",
          "data": {
            "text/html": [
              "<dl>\n",
              "\t<dt>$nom</dt>\n",
              "\t\t<dd>'A'</dd>\n",
              "\t<dt>$valeur</dt>\n",
              "\t\t<dd>2</dd>\n",
              "\t<dt>$prénom</dt>\n",
              "\t\t<dd>'B'</dd>\n",
              "</dl>\n"
            ],
            "text/markdown": "$nom\n:   'A'\n$valeur\n:   2\n$prénom\n:   'B'\n\n\n",
            "text/latex": "\\begin{description}\n\\item[\\$nom] 'A'\n\\item[\\$valeur] 2\n\\item[\\$prénom] 'B'\n\\end{description}\n",
            "text/plain": [
              "$nom\n",
              "[1] \"A\"\n",
              "\n",
              "$valeur\n",
              "[1] 2\n",
              "\n",
              "$prénom\n",
              "[1] \"B\"\n"
            ]
          },
          "metadata": {}
        }
      ]
    },
    {
      "cell_type": "code",
      "source": [
        "# Accéder à des éléments d'une liste avec leurs clés\n",
        "mylist_dict[c(\"nom\", \"valeur\")]"
      ],
      "metadata": {
        "colab": {
          "base_uri": "https://localhost:8080/",
          "height": 114
        },
        "id": "Psq9ILvz-Zgd",
        "outputId": "048e9f13-c700-4fda-d1e3-d8f38182709d"
      },
      "execution_count": null,
      "outputs": [
        {
          "output_type": "display_data",
          "data": {
            "text/html": [
              "<dl>\n",
              "\t<dt>$nom</dt>\n",
              "\t\t<dd>'A'</dd>\n",
              "\t<dt>$valeur</dt>\n",
              "\t\t<dd>2</dd>\n",
              "</dl>\n"
            ],
            "text/markdown": "$nom\n:   'A'\n$valeur\n:   2\n\n\n",
            "text/latex": "\\begin{description}\n\\item[\\$nom] 'A'\n\\item[\\$valeur] 2\n\\end{description}\n",
            "text/plain": [
              "$nom\n",
              "[1] \"A\"\n",
              "\n",
              "$valeur\n",
              "[1] 2\n"
            ]
          },
          "metadata": {}
        }
      ]
    },
    {
      "cell_type": "code",
      "source": [
        "# Accéder à des éléments d'une liste avec leurs clés\n",
        "mylist_dict[[\"nom\"]]"
      ],
      "metadata": {
        "colab": {
          "base_uri": "https://localhost:8080/",
          "height": 34
        },
        "id": "mICRfejF-7ys",
        "outputId": "d8d560f0-f20a-40e4-8828-5e3b81b2a14a"
      },
      "execution_count": null,
      "outputs": [
        {
          "output_type": "display_data",
          "data": {
            "text/html": [
              "'A'"
            ],
            "text/markdown": "'A'",
            "text/latex": "'A'",
            "text/plain": [
              "[1] \"A\""
            ]
          },
          "metadata": {}
        }
      ]
    },
    {
      "cell_type": "code",
      "source": [
        "# Accéder à des éléments d'une liste avec leurs clés\n",
        "mylist_dict$`prénom`"
      ],
      "metadata": {
        "colab": {
          "base_uri": "https://localhost:8080/",
          "height": 34
        },
        "id": "xW5ztY6jABAx",
        "outputId": "935bf761-01e0-414c-e7a1-82cc8a213b81"
      },
      "execution_count": null,
      "outputs": [
        {
          "output_type": "display_data",
          "data": {
            "text/html": [
              "'B'"
            ],
            "text/markdown": "'B'",
            "text/latex": "'B'",
            "text/plain": [
              "[1] \"B\""
            ]
          },
          "metadata": {}
        }
      ]
    },
    {
      "cell_type": "code",
      "source": [
        "# Modifier un élément d'une liste\n",
        "mylist_dict$valeur <- 18\n",
        "mylist_dict"
      ],
      "metadata": {
        "colab": {
          "base_uri": "https://localhost:8080/",
          "height": 149
        },
        "id": "Y2DIYj4cATUJ",
        "outputId": "1a680e8e-44dc-459d-f1f3-cd1063217a25"
      },
      "execution_count": null,
      "outputs": [
        {
          "output_type": "display_data",
          "data": {
            "text/html": [
              "<dl>\n",
              "\t<dt>$nom</dt>\n",
              "\t\t<dd>'A'</dd>\n",
              "\t<dt>$valeur</dt>\n",
              "\t\t<dd>18</dd>\n",
              "\t<dt>$prénom</dt>\n",
              "\t\t<dd>'B'</dd>\n",
              "</dl>\n"
            ],
            "text/markdown": "$nom\n:   'A'\n$valeur\n:   18\n$prénom\n:   'B'\n\n\n",
            "text/latex": "\\begin{description}\n\\item[\\$nom] 'A'\n\\item[\\$valeur] 18\n\\item[\\$prénom] 'B'\n\\end{description}\n",
            "text/plain": [
              "$nom\n",
              "[1] \"A\"\n",
              "\n",
              "$valeur\n",
              "[1] 18\n",
              "\n",
              "$prénom\n",
              "[1] \"B\"\n"
            ]
          },
          "metadata": {}
        }
      ]
    },
    {
      "cell_type": "markdown",
      "source": [
        "## Conditions avec if et else"
      ],
      "metadata": {
        "id": "jMXNHnzEHlYZ"
      }
    },
    {
      "cell_type": "code",
      "source": [
        "# Exemple simple de condition if\n",
        "\n",
        "x <- 10\n",
        "\n",
        "if (x > 5){\n",
        "  print(\"x est supérieur à 5\")\n",
        "}"
      ],
      "metadata": {
        "colab": {
          "base_uri": "https://localhost:8080/"
        },
        "id": "eU7OydQtHvM4",
        "outputId": "d8cad133-250f-42e7-a41e-2dff186cb490"
      },
      "execution_count": null,
      "outputs": [
        {
          "output_type": "stream",
          "name": "stdout",
          "text": [
            "[1] \"x est supérieur à 5\"\n"
          ]
        }
      ]
    },
    {
      "cell_type": "code",
      "source": [
        "# Exemple de condition avec if et else\n",
        "\n",
        "x <- 1\n",
        "\n",
        "if (x > 5){\n",
        "  print(\"x est supérieur à 5\")\n",
        "} else {\n",
        "  print(\"x est inférieur ou égal à 5\")\n",
        "}"
      ],
      "metadata": {
        "colab": {
          "base_uri": "https://localhost:8080/"
        },
        "id": "AFmmZiZ1IzL1",
        "outputId": "2f382df2-e97f-4338-ce2a-6eed0e7f4d55"
      },
      "execution_count": null,
      "outputs": [
        {
          "output_type": "stream",
          "name": "stdout",
          "text": [
            "[1] \"x est inférieur ou égal à 5\"\n"
          ]
        }
      ]
    },
    {
      "cell_type": "code",
      "source": [
        "# Exemple de condition avec if et else plus complexe\n",
        "\n",
        "x <- 3\n",
        "\n",
        "if (x > 5){\n",
        "  print(\"x est supérieur à 5\")\n",
        "} else if (x > 2) {\n",
        "  print(\"x est supérieur à 2\")\n",
        "} else {\n",
        "  print(\"x est inférieur ou égal à 2\")\n",
        "}"
      ],
      "metadata": {
        "colab": {
          "base_uri": "https://localhost:8080/"
        },
        "id": "zHizOAdjJdR-",
        "outputId": "ff6f99df-6de1-4613-a37b-bcc024a5cb82"
      },
      "execution_count": null,
      "outputs": [
        {
          "output_type": "stream",
          "name": "stdout",
          "text": [
            "[1] \"x est supérieur à 2\"\n"
          ]
        }
      ]
    },
    {
      "cell_type": "code",
      "source": [
        "# Exemple de condition avec if et else plus complexe\n",
        "\n",
        "x <- 2\n",
        "\n",
        "if (x > 5){\n",
        "  print(\"x est supérieur à 5\")\n",
        "} else if (x == 2) {\n",
        "  print(\"x est égal à 2\")\n",
        "} else {\n",
        "  print(\"x est inférieur à 5\")\n",
        "}"
      ],
      "metadata": {
        "colab": {
          "base_uri": "https://localhost:8080/"
        },
        "id": "_hObjxpZKfxm",
        "outputId": "a1b9907b-9ac6-49ae-d669-4ab27182e97c"
      },
      "execution_count": null,
      "outputs": [
        {
          "output_type": "stream",
          "name": "stdout",
          "text": [
            "[1] \"x est égal à 2\"\n"
          ]
        }
      ]
    },
    {
      "cell_type": "code",
      "source": [
        "# Raccourci pour les vecteurs avec ifelse\n",
        "\n",
        "notes = c(8, 9, 12, 18)\n",
        "\n",
        "ifelse(notes >= 10, \"Admis\", \"Ajourné\")"
      ],
      "metadata": {
        "colab": {
          "base_uri": "https://localhost:8080/",
          "height": 34
        },
        "id": "kdFTFyH2LjQD",
        "outputId": "27f27424-e16b-4198-efa3-b5eab6eae182"
      },
      "execution_count": null,
      "outputs": [
        {
          "output_type": "display_data",
          "data": {
            "text/html": [
              "<style>\n",
              ".list-inline {list-style: none; margin:0; padding: 0}\n",
              ".list-inline>li {display: inline-block}\n",
              ".list-inline>li:not(:last-child)::after {content: \"\\00b7\"; padding: 0 .5ex}\n",
              "</style>\n",
              "<ol class=list-inline><li>'Ajourné'</li><li>'Ajourné'</li><li>'Admis'</li><li>'Admis'</li></ol>\n"
            ],
            "text/markdown": "1. 'Ajourné'\n2. 'Ajourné'\n3. 'Admis'\n4. 'Admis'\n\n\n",
            "text/latex": "\\begin{enumerate*}\n\\item 'Ajourné'\n\\item 'Ajourné'\n\\item 'Admis'\n\\item 'Admis'\n\\end{enumerate*}\n",
            "text/plain": [
              "[1] \"Ajourné\" \"Ajourné\" \"Admis\"   \"Admis\"  "
            ]
          },
          "metadata": {}
        }
      ]
    },
    {
      "cell_type": "markdown",
      "source": [
        "## Boucles for"
      ],
      "metadata": {
        "id": "8f2cYmGxMqJX"
      }
    },
    {
      "cell_type": "code",
      "source": [
        "# Parcourir une liste\n",
        "\n",
        "malist = 1:5\n",
        "\n",
        "for (i in malist){\n",
        "  print(i^2)\n",
        "}"
      ],
      "metadata": {
        "colab": {
          "base_uri": "https://localhost:8080/"
        },
        "id": "KznUC3sPMxrJ",
        "outputId": "14e7a9fa-7726-447d-edd6-9cf84fc9fc0e"
      },
      "execution_count": null,
      "outputs": [
        {
          "output_type": "stream",
          "name": "stdout",
          "text": [
            "[1] 1\n",
            "[1] 4\n",
            "[1] 9\n",
            "[1] 16\n",
            "[1] 25\n"
          ]
        }
      ]
    },
    {
      "cell_type": "code",
      "source": [
        "# Parcourir une liste et sauvegarder des éléments dans une autre liste\n",
        "malist <- 1:5\n",
        "malist_carré <- c()\n",
        "for (i in malist){\n",
        "  malist_carré[i] <- i^2\n",
        "}\n",
        "\n",
        "malist_carré"
      ],
      "metadata": {
        "colab": {
          "base_uri": "https://localhost:8080/",
          "height": 34
        },
        "id": "wmeW4ugVNhi1",
        "outputId": "19540ac9-7de8-4fcc-b005-c5ef3e80bfb1"
      },
      "execution_count": null,
      "outputs": [
        {
          "output_type": "display_data",
          "data": {
            "text/html": [
              "<style>\n",
              ".list-inline {list-style: none; margin:0; padding: 0}\n",
              ".list-inline>li {display: inline-block}\n",
              ".list-inline>li:not(:last-child)::after {content: \"\\00b7\"; padding: 0 .5ex}\n",
              "</style>\n",
              "<ol class=list-inline><li>1</li><li>4</li><li>9</li><li>16</li><li>25</li></ol>\n"
            ],
            "text/markdown": "1. 1\n2. 4\n3. 9\n4. 16\n5. 25\n\n\n",
            "text/latex": "\\begin{enumerate*}\n\\item 1\n\\item 4\n\\item 9\n\\item 16\n\\item 25\n\\end{enumerate*}\n",
            "text/plain": [
              "[1]  1  4  9 16 25"
            ]
          },
          "metadata": {}
        }
      ]
    },
    {
      "cell_type": "code",
      "source": [
        "# Parcourir une liste de chaîne de caractères\n",
        "\n",
        "prénoms <- c(\"Bob\", \"Alice\", \"Tom\", \"Aline\")\n",
        "\n",
        "for (prénom in prénoms){\n",
        "  print(prénom)\n",
        "}"
      ],
      "metadata": {
        "colab": {
          "base_uri": "https://localhost:8080/"
        },
        "id": "xO0_2-61O7sn",
        "outputId": "61f47d36-6761-4683-c0d0-fb8d3de37cf6"
      },
      "execution_count": null,
      "outputs": [
        {
          "output_type": "stream",
          "name": "stdout",
          "text": [
            "[1] \"Bob\"\n",
            "[1] \"Alice\"\n",
            "[1] \"Tom\"\n",
            "[1] \"Aline\"\n"
          ]
        }
      ]
    },
    {
      "cell_type": "code",
      "source": [
        "# Boucle for avec conditions\n",
        "\n",
        "notes = c(8, 9, 12, 18)\n",
        "\n",
        "for (note in notes){\n",
        "  if (note >= 10){\n",
        "    print(\"Admis\")\n",
        "  } else {\n",
        "    print(\"Ajourné\")\n",
        "  }\n",
        "}\n"
      ],
      "metadata": {
        "colab": {
          "base_uri": "https://localhost:8080/"
        },
        "id": "BG4tFkf-PwvE",
        "outputId": "71bcc725-ada4-494d-c681-b0e20563a700"
      },
      "execution_count": null,
      "outputs": [
        {
          "output_type": "stream",
          "name": "stdout",
          "text": [
            "[1] \"Ajourné\"\n",
            "[1] \"Ajourné\"\n",
            "[1] \"Admis\"\n",
            "[1] \"Admis\"\n"
          ]
        }
      ]
    },
    {
      "cell_type": "markdown",
      "source": [
        "## Boucle while"
      ],
      "metadata": {
        "id": "iXExAkU4RURK"
      }
    },
    {
      "cell_type": "code",
      "source": [
        "# Boucle while très simple\n",
        "\n",
        "x <- 0\n",
        "\n",
        "while (x < 5){\n",
        "  print(x^2)\n",
        "  x <- x + 1\n",
        "}"
      ],
      "metadata": {
        "colab": {
          "base_uri": "https://localhost:8080/"
        },
        "id": "Yo_ijJgURSkR",
        "outputId": "1d45e8f0-af3a-4a02-f551-636a0675e449"
      },
      "execution_count": null,
      "outputs": [
        {
          "output_type": "stream",
          "name": "stdout",
          "text": [
            "[1] 0\n",
            "[1] 1\n",
            "[1] 4\n",
            "[1] 9\n",
            "[1] 16\n"
          ]
        }
      ]
    },
    {
      "cell_type": "markdown",
      "source": [
        "## Les dataframes\n",
        "\n"
      ],
      "metadata": {
        "id": "Dc_VUtCqTFeL"
      }
    },
    {
      "cell_type": "code",
      "source": [
        "# Créer un dataframe à partir de listes\n",
        "\n",
        "noms <- c(\"Alice\", \"Bob\", \"Tom\", \"Aline\")\n",
        "ages <- c(24, 28, 19, 32)\n",
        "notes <- c(12, 16, 18, 15)\n",
        "\n",
        "df <- data.frame(Nom = noms, Age = ages, Note = notes)\n",
        "df"
      ],
      "metadata": {
        "colab": {
          "base_uri": "https://localhost:8080/",
          "height": 223
        },
        "id": "x3CmmSk5TNJ9",
        "outputId": "ff78f596-f5be-404f-f80c-26a5eba52dbf"
      },
      "execution_count": null,
      "outputs": [
        {
          "output_type": "display_data",
          "data": {
            "text/html": [
              "<table class=\"dataframe\">\n",
              "<caption>A data.frame: 4 × 3</caption>\n",
              "<thead>\n",
              "\t<tr><th scope=col>Nom</th><th scope=col>Age</th><th scope=col>Note</th></tr>\n",
              "\t<tr><th scope=col>&lt;chr&gt;</th><th scope=col>&lt;dbl&gt;</th><th scope=col>&lt;dbl&gt;</th></tr>\n",
              "</thead>\n",
              "<tbody>\n",
              "\t<tr><td>Alice</td><td>24</td><td>12</td></tr>\n",
              "\t<tr><td>Bob  </td><td>28</td><td>16</td></tr>\n",
              "\t<tr><td>Tom  </td><td>19</td><td>18</td></tr>\n",
              "\t<tr><td>Aline</td><td>32</td><td>15</td></tr>\n",
              "</tbody>\n",
              "</table>\n"
            ],
            "text/markdown": "\nA data.frame: 4 × 3\n\n| Nom &lt;chr&gt; | Age &lt;dbl&gt; | Note &lt;dbl&gt; |\n|---|---|---|\n| Alice | 24 | 12 |\n| Bob   | 28 | 16 |\n| Tom   | 19 | 18 |\n| Aline | 32 | 15 |\n\n",
            "text/latex": "A data.frame: 4 × 3\n\\begin{tabular}{lll}\n Nom & Age & Note\\\\\n <chr> & <dbl> & <dbl>\\\\\n\\hline\n\t Alice & 24 & 12\\\\\n\t Bob   & 28 & 16\\\\\n\t Tom   & 19 & 18\\\\\n\t Aline & 32 & 15\\\\\n\\end{tabular}\n",
            "text/plain": [
              "  Nom   Age Note\n",
              "1 Alice 24  12  \n",
              "2 Bob   28  16  \n",
              "3 Tom   19  18  \n",
              "4 Aline 32  15  "
            ]
          },
          "metadata": {}
        }
      ]
    },
    {
      "cell_type": "code",
      "source": [
        "# Résumé des informations du dataframe\n",
        "summary(df)<"
      ],
      "metadata": {
        "colab": {
          "base_uri": "https://localhost:8080/",
          "height": 138
        },
        "id": "WgjjKjsmULVH",
        "outputId": "e1668283-832a-4426-eb57-67c06a35bd4d"
      },
      "execution_count": null,
      "outputs": [
        {
          "output_type": "display_data",
          "data": {
            "text/plain": [
              "     Nom                 Age             Note      \n",
              " Length:4           Min.   :19.00   Min.   :12.00  \n",
              " Class :character   1st Qu.:22.75   1st Qu.:14.25  \n",
              " Mode  :character   Median :26.00   Median :15.50  \n",
              "                    Mean   :25.75   Mean   :15.25  \n",
              "                    3rd Qu.:29.00   3rd Qu.:16.50  \n",
              "                    Max.   :32.00   Max.   :18.00  "
            ]
          },
          "metadata": {}
        }
      ]
    },
    {
      "cell_type": "code",
      "source": [
        "# Afficher les 2 premières lignes\n",
        "head(df, 2)"
      ],
      "metadata": {
        "colab": {
          "base_uri": "https://localhost:8080/",
          "height": 161
        },
        "id": "z6oHvWC9Uv6T",
        "outputId": "655b372b-83c4-4676-e623-4a94f53b4196"
      },
      "execution_count": null,
      "outputs": [
        {
          "output_type": "display_data",
          "data": {
            "text/html": [
              "<table class=\"dataframe\">\n",
              "<caption>A data.frame: 2 × 3</caption>\n",
              "<thead>\n",
              "\t<tr><th></th><th scope=col>Nom</th><th scope=col>Age</th><th scope=col>Note</th></tr>\n",
              "\t<tr><th></th><th scope=col>&lt;chr&gt;</th><th scope=col>&lt;dbl&gt;</th><th scope=col>&lt;dbl&gt;</th></tr>\n",
              "</thead>\n",
              "<tbody>\n",
              "\t<tr><th scope=row>1</th><td>Alice</td><td>24</td><td>12</td></tr>\n",
              "\t<tr><th scope=row>2</th><td>Bob  </td><td>28</td><td>16</td></tr>\n",
              "</tbody>\n",
              "</table>\n"
            ],
            "text/markdown": "\nA data.frame: 2 × 3\n\n| <!--/--> | Nom &lt;chr&gt; | Age &lt;dbl&gt; | Note &lt;dbl&gt; |\n|---|---|---|---|\n| 1 | Alice | 24 | 12 |\n| 2 | Bob   | 28 | 16 |\n\n",
            "text/latex": "A data.frame: 2 × 3\n\\begin{tabular}{r|lll}\n  & Nom & Age & Note\\\\\n  & <chr> & <dbl> & <dbl>\\\\\n\\hline\n\t1 & Alice & 24 & 12\\\\\n\t2 & Bob   & 28 & 16\\\\\n\\end{tabular}\n",
            "text/plain": [
              "  Nom   Age Note\n",
              "1 Alice 24  12  \n",
              "2 Bob   28  16  "
            ]
          },
          "metadata": {}
        }
      ]
    },
    {
      "cell_type": "code",
      "source": [
        "# Afficher le nombre de lignes\n",
        "nrow(df)"
      ],
      "metadata": {
        "colab": {
          "base_uri": "https://localhost:8080/",
          "height": 34
        },
        "id": "L-WRlS64U8it",
        "outputId": "e1730b97-a12d-4203-9288-3eba95140888"
      },
      "execution_count": null,
      "outputs": [
        {
          "output_type": "display_data",
          "data": {
            "text/html": [
              "4"
            ],
            "text/markdown": "4",
            "text/latex": "4",
            "text/plain": [
              "[1] 4"
            ]
          },
          "metadata": {}
        }
      ]
    },
    {
      "cell_type": "code",
      "source": [
        "# Afficher le nombre de colonnes\n",
        "ncol(df)"
      ],
      "metadata": {
        "colab": {
          "base_uri": "https://localhost:8080/",
          "height": 34
        },
        "id": "pHMiM4tDVEgR",
        "outputId": "1d146115-cc0f-4463-b803-fb64c331d31d"
      },
      "execution_count": null,
      "outputs": [
        {
          "output_type": "display_data",
          "data": {
            "text/html": [
              "3"
            ],
            "text/markdown": "3",
            "text/latex": "3",
            "text/plain": [
              "[1] 3"
            ]
          },
          "metadata": {}
        }
      ]
    },
    {
      "cell_type": "code",
      "source": [
        "# Afficher les noms des colonnes\n",
        "names(df)"
      ],
      "metadata": {
        "colab": {
          "base_uri": "https://localhost:8080/",
          "height": 34
        },
        "id": "jdmmIc03VM3Y",
        "outputId": "5ccf57a3-7974-465b-e8b8-512e45d6209a"
      },
      "execution_count": null,
      "outputs": [
        {
          "output_type": "display_data",
          "data": {
            "text/html": [
              "<style>\n",
              ".list-inline {list-style: none; margin:0; padding: 0}\n",
              ".list-inline>li {display: inline-block}\n",
              ".list-inline>li:not(:last-child)::after {content: \"\\00b7\"; padding: 0 .5ex}\n",
              "</style>\n",
              "<ol class=list-inline><li>'Nom'</li><li>'Age'</li><li>'Note'</li></ol>\n"
            ],
            "text/markdown": "1. 'Nom'\n2. 'Age'\n3. 'Note'\n\n\n",
            "text/latex": "\\begin{enumerate*}\n\\item 'Nom'\n\\item 'Age'\n\\item 'Note'\n\\end{enumerate*}\n",
            "text/plain": [
              "[1] \"Nom\"  \"Age\"  \"Note\""
            ]
          },
          "metadata": {}
        }
      ]
    },
    {
      "cell_type": "code",
      "source": [
        "# Accéder à une colonne par son nom\n",
        "df['Age']"
      ],
      "metadata": {
        "colab": {
          "base_uri": "https://localhost:8080/",
          "height": 258
        },
        "id": "528CvmGLVjL_",
        "outputId": "f0330a6d-824f-4b2d-b1f2-6517db4da424"
      },
      "execution_count": null,
      "outputs": [
        {
          "output_type": "display_data",
          "data": {
            "text/html": [
              "<table class=\"dataframe\">\n",
              "<caption>A data.frame: 4 × 1</caption>\n",
              "<thead>\n",
              "\t<tr><th scope=col>Age</th></tr>\n",
              "\t<tr><th scope=col>&lt;dbl&gt;</th></tr>\n",
              "</thead>\n",
              "<tbody>\n",
              "\t<tr><td>24</td></tr>\n",
              "\t<tr><td>28</td></tr>\n",
              "\t<tr><td>19</td></tr>\n",
              "\t<tr><td>32</td></tr>\n",
              "</tbody>\n",
              "</table>\n"
            ],
            "text/markdown": "\nA data.frame: 4 × 1\n\n| Age &lt;dbl&gt; |\n|---|\n| 24 |\n| 28 |\n| 19 |\n| 32 |\n\n",
            "text/latex": "A data.frame: 4 × 1\n\\begin{tabular}{l}\n Age\\\\\n <dbl>\\\\\n\\hline\n\t 24\\\\\n\t 28\\\\\n\t 19\\\\\n\t 32\\\\\n\\end{tabular}\n",
            "text/plain": [
              "  Age\n",
              "1 24 \n",
              "2 28 \n",
              "3 19 \n",
              "4 32 "
            ]
          },
          "metadata": {}
        }
      ]
    },
    {
      "cell_type": "code",
      "source": [
        "# Accéder à une colonne par son nom\n",
        "df$Age"
      ],
      "metadata": {
        "colab": {
          "base_uri": "https://localhost:8080/",
          "height": 34
        },
        "id": "_ZsSUExnVtcI",
        "outputId": "96d32e37-efff-4f19-b9fa-405bbffae140"
      },
      "execution_count": null,
      "outputs": [
        {
          "output_type": "display_data",
          "data": {
            "text/html": [
              "<style>\n",
              ".list-inline {list-style: none; margin:0; padding: 0}\n",
              ".list-inline>li {display: inline-block}\n",
              ".list-inline>li:not(:last-child)::after {content: \"\\00b7\"; padding: 0 .5ex}\n",
              "</style>\n",
              "<ol class=list-inline><li>24</li><li>28</li><li>19</li><li>32</li></ol>\n"
            ],
            "text/markdown": "1. 24\n2. 28\n3. 19\n4. 32\n\n\n",
            "text/latex": "\\begin{enumerate*}\n\\item 24\n\\item 28\n\\item 19\n\\item 32\n\\end{enumerate*}\n",
            "text/plain": [
              "[1] 24 28 19 32"
            ]
          },
          "metadata": {}
        }
      ]
    },
    {
      "cell_type": "code",
      "source": [
        "# Accéder à une ligne par son rang\n",
        "df[1,]"
      ],
      "metadata": {
        "colab": {
          "base_uri": "https://localhost:8080/",
          "height": 129
        },
        "id": "eN-jnApFWAu0",
        "outputId": "3f0d4c86-4e73-405d-eba4-8690ca8dadf9"
      },
      "execution_count": null,
      "outputs": [
        {
          "output_type": "display_data",
          "data": {
            "text/html": [
              "<table class=\"dataframe\">\n",
              "<caption>A data.frame: 1 × 3</caption>\n",
              "<thead>\n",
              "\t<tr><th></th><th scope=col>Nom</th><th scope=col>Age</th><th scope=col>Note</th></tr>\n",
              "\t<tr><th></th><th scope=col>&lt;chr&gt;</th><th scope=col>&lt;dbl&gt;</th><th scope=col>&lt;dbl&gt;</th></tr>\n",
              "</thead>\n",
              "<tbody>\n",
              "\t<tr><th scope=row>1</th><td>Alice</td><td>24</td><td>12</td></tr>\n",
              "</tbody>\n",
              "</table>\n"
            ],
            "text/markdown": "\nA data.frame: 1 × 3\n\n| <!--/--> | Nom &lt;chr&gt; | Age &lt;dbl&gt; | Note &lt;dbl&gt; |\n|---|---|---|---|\n| 1 | Alice | 24 | 12 |\n\n",
            "text/latex": "A data.frame: 1 × 3\n\\begin{tabular}{r|lll}\n  & Nom & Age & Note\\\\\n  & <chr> & <dbl> & <dbl>\\\\\n\\hline\n\t1 & Alice & 24 & 12\\\\\n\\end{tabular}\n",
            "text/plain": [
              "  Nom   Age Note\n",
              "1 Alice 24  12  "
            ]
          },
          "metadata": {}
        }
      ]
    },
    {
      "cell_type": "code",
      "source": [
        "# Filtrer un dataframe avec une condition\n",
        "\n",
        "df[df$Note > 15, ]"
      ],
      "metadata": {
        "colab": {
          "base_uri": "https://localhost:8080/",
          "height": 161
        },
        "id": "DLnsGZtNWkKC",
        "outputId": "ab265c93-45a5-4329-aa9c-36c1b08c606d"
      },
      "execution_count": null,
      "outputs": [
        {
          "output_type": "display_data",
          "data": {
            "text/html": [
              "<table class=\"dataframe\">\n",
              "<caption>A data.frame: 2 × 3</caption>\n",
              "<thead>\n",
              "\t<tr><th></th><th scope=col>Nom</th><th scope=col>Age</th><th scope=col>Note</th></tr>\n",
              "\t<tr><th></th><th scope=col>&lt;chr&gt;</th><th scope=col>&lt;dbl&gt;</th><th scope=col>&lt;dbl&gt;</th></tr>\n",
              "</thead>\n",
              "<tbody>\n",
              "\t<tr><th scope=row>2</th><td>Bob</td><td>28</td><td>16</td></tr>\n",
              "\t<tr><th scope=row>3</th><td>Tom</td><td>19</td><td>18</td></tr>\n",
              "</tbody>\n",
              "</table>\n"
            ],
            "text/markdown": "\nA data.frame: 2 × 3\n\n| <!--/--> | Nom &lt;chr&gt; | Age &lt;dbl&gt; | Note &lt;dbl&gt; |\n|---|---|---|---|\n| 2 | Bob | 28 | 16 |\n| 3 | Tom | 19 | 18 |\n\n",
            "text/latex": "A data.frame: 2 × 3\n\\begin{tabular}{r|lll}\n  & Nom & Age & Note\\\\\n  & <chr> & <dbl> & <dbl>\\\\\n\\hline\n\t2 & Bob & 28 & 16\\\\\n\t3 & Tom & 19 & 18\\\\\n\\end{tabular}\n",
            "text/plain": [
              "  Nom Age Note\n",
              "2 Bob 28  16  \n",
              "3 Tom 19  18  "
            ]
          },
          "metadata": {}
        }
      ]
    },
    {
      "cell_type": "code",
      "source": [
        "# Filtrer un dataframe avec plusieurs condition\n",
        "\n",
        "df[df$Note > 15 & df$Age > 22, ]"
      ],
      "metadata": {
        "colab": {
          "base_uri": "https://localhost:8080/",
          "height": 129
        },
        "id": "83nf664xW354",
        "outputId": "e0361696-c5c6-4535-f8d5-46c1a3e28632"
      },
      "execution_count": null,
      "outputs": [
        {
          "output_type": "display_data",
          "data": {
            "text/html": [
              "<table class=\"dataframe\">\n",
              "<caption>A data.frame: 1 × 3</caption>\n",
              "<thead>\n",
              "\t<tr><th></th><th scope=col>Nom</th><th scope=col>Age</th><th scope=col>Note</th></tr>\n",
              "\t<tr><th></th><th scope=col>&lt;chr&gt;</th><th scope=col>&lt;dbl&gt;</th><th scope=col>&lt;dbl&gt;</th></tr>\n",
              "</thead>\n",
              "<tbody>\n",
              "\t<tr><th scope=row>2</th><td>Bob</td><td>28</td><td>16</td></tr>\n",
              "</tbody>\n",
              "</table>\n"
            ],
            "text/markdown": "\nA data.frame: 1 × 3\n\n| <!--/--> | Nom &lt;chr&gt; | Age &lt;dbl&gt; | Note &lt;dbl&gt; |\n|---|---|---|---|\n| 2 | Bob | 28 | 16 |\n\n",
            "text/latex": "A data.frame: 1 × 3\n\\begin{tabular}{r|lll}\n  & Nom & Age & Note\\\\\n  & <chr> & <dbl> & <dbl>\\\\\n\\hline\n\t2 & Bob & 28 & 16\\\\\n\\end{tabular}\n",
            "text/plain": [
              "  Nom Age Note\n",
              "2 Bob 28  16  "
            ]
          },
          "metadata": {}
        }
      ]
    },
    {
      "cell_type": "code",
      "source": [
        "# Ajouter une colonne à un dataframe\n",
        "\n",
        "admission <- c(\"Admis\", \"Admis\", \"Admis\", \"Admis\")\n",
        "df['Admission'] <- admission\n",
        "df"
      ],
      "metadata": {
        "colab": {
          "base_uri": "https://localhost:8080/",
          "height": 223
        },
        "id": "Wr9MHh9JXKVI",
        "outputId": "479c41fb-4c0d-4fc9-db13-f9653621d565"
      },
      "execution_count": null,
      "outputs": [
        {
          "output_type": "display_data",
          "data": {
            "text/html": [
              "<table class=\"dataframe\">\n",
              "<caption>A data.frame: 4 × 4</caption>\n",
              "<thead>\n",
              "\t<tr><th scope=col>Nom</th><th scope=col>Age</th><th scope=col>Note</th><th scope=col>Admission</th></tr>\n",
              "\t<tr><th scope=col>&lt;chr&gt;</th><th scope=col>&lt;dbl&gt;</th><th scope=col>&lt;dbl&gt;</th><th scope=col>&lt;chr&gt;</th></tr>\n",
              "</thead>\n",
              "<tbody>\n",
              "\t<tr><td>Alice</td><td>24</td><td>12</td><td>Admis</td></tr>\n",
              "\t<tr><td>Bob  </td><td>28</td><td>16</td><td>Admis</td></tr>\n",
              "\t<tr><td>Tom  </td><td>19</td><td>18</td><td>Admis</td></tr>\n",
              "\t<tr><td>Aline</td><td>32</td><td>15</td><td>Admis</td></tr>\n",
              "</tbody>\n",
              "</table>\n"
            ],
            "text/markdown": "\nA data.frame: 4 × 4\n\n| Nom &lt;chr&gt; | Age &lt;dbl&gt; | Note &lt;dbl&gt; | Admission &lt;chr&gt; |\n|---|---|---|---|\n| Alice | 24 | 12 | Admis |\n| Bob   | 28 | 16 | Admis |\n| Tom   | 19 | 18 | Admis |\n| Aline | 32 | 15 | Admis |\n\n",
            "text/latex": "A data.frame: 4 × 4\n\\begin{tabular}{llll}\n Nom & Age & Note & Admission\\\\\n <chr> & <dbl> & <dbl> & <chr>\\\\\n\\hline\n\t Alice & 24 & 12 & Admis\\\\\n\t Bob   & 28 & 16 & Admis\\\\\n\t Tom   & 19 & 18 & Admis\\\\\n\t Aline & 32 & 15 & Admis\\\\\n\\end{tabular}\n",
            "text/plain": [
              "  Nom   Age Note Admission\n",
              "1 Alice 24  12   Admis    \n",
              "2 Bob   28  16   Admis    \n",
              "3 Tom   19  18   Admis    \n",
              "4 Aline 32  15   Admis    "
            ]
          },
          "metadata": {}
        }
      ]
    },
    {
      "cell_type": "code",
      "source": [
        "# Ajouter une ligne à un dataframe\n",
        "\n",
        "nouvelle_ligne <- data.frame(Nom = \"Sophie\", Age = 25, Note = 17, Admission = \"Admis\")\n",
        "df <- rbind(df, nouvelle_ligne)\n",
        "df"
      ],
      "metadata": {
        "colab": {
          "base_uri": "https://localhost:8080/",
          "height": 286
        },
        "id": "hUfnbGJxXrSR",
        "outputId": "bc625f57-f411-44db-cf73-c079fc21712c"
      },
      "execution_count": null,
      "outputs": [
        {
          "output_type": "display_data",
          "data": {
            "text/html": [
              "<table class=\"dataframe\">\n",
              "<caption>A data.frame: 6 × 4</caption>\n",
              "<thead>\n",
              "\t<tr><th scope=col>Nom</th><th scope=col>Age</th><th scope=col>Note</th><th scope=col>Admission</th></tr>\n",
              "\t<tr><th scope=col>&lt;chr&gt;</th><th scope=col>&lt;dbl&gt;</th><th scope=col>&lt;dbl&gt;</th><th scope=col>&lt;chr&gt;</th></tr>\n",
              "</thead>\n",
              "<tbody>\n",
              "\t<tr><td>Alice </td><td>24</td><td>12</td><td>Admis</td></tr>\n",
              "\t<tr><td>Bob   </td><td>28</td><td>16</td><td>Admis</td></tr>\n",
              "\t<tr><td>Tom   </td><td>19</td><td>18</td><td>Admis</td></tr>\n",
              "\t<tr><td>Aline </td><td>32</td><td>15</td><td>Admis</td></tr>\n",
              "\t<tr><td>Sophie</td><td>25</td><td>17</td><td>Admis</td></tr>\n",
              "\t<tr><td>Sophie</td><td>25</td><td>17</td><td>Admis</td></tr>\n",
              "</tbody>\n",
              "</table>\n"
            ],
            "text/markdown": "\nA data.frame: 6 × 4\n\n| Nom &lt;chr&gt; | Age &lt;dbl&gt; | Note &lt;dbl&gt; | Admission &lt;chr&gt; |\n|---|---|---|---|\n| Alice  | 24 | 12 | Admis |\n| Bob    | 28 | 16 | Admis |\n| Tom    | 19 | 18 | Admis |\n| Aline  | 32 | 15 | Admis |\n| Sophie | 25 | 17 | Admis |\n| Sophie | 25 | 17 | Admis |\n\n",
            "text/latex": "A data.frame: 6 × 4\n\\begin{tabular}{llll}\n Nom & Age & Note & Admission\\\\\n <chr> & <dbl> & <dbl> & <chr>\\\\\n\\hline\n\t Alice  & 24 & 12 & Admis\\\\\n\t Bob    & 28 & 16 & Admis\\\\\n\t Tom    & 19 & 18 & Admis\\\\\n\t Aline  & 32 & 15 & Admis\\\\\n\t Sophie & 25 & 17 & Admis\\\\\n\t Sophie & 25 & 17 & Admis\\\\\n\\end{tabular}\n",
            "text/plain": [
              "  Nom    Age Note Admission\n",
              "1 Alice  24  12   Admis    \n",
              "2 Bob    28  16   Admis    \n",
              "3 Tom    19  18   Admis    \n",
              "4 Aline  32  15   Admis    \n",
              "5 Sophie 25  17   Admis    \n",
              "6 Sophie 25  17   Admis    "
            ]
          },
          "metadata": {}
        }
      ]
    },
    {
      "cell_type": "code",
      "source": [
        "# Supprimer une ligne d'un dataframe\n",
        "\n",
        "df <- df[-6, ]\n",
        "df"
      ],
      "metadata": {
        "colab": {
          "base_uri": "https://localhost:8080/",
          "height": 255
        },
        "id": "h0QnXHiwYPKS",
        "outputId": "1bf97fe9-2911-41ce-9a97-4c270381388f"
      },
      "execution_count": null,
      "outputs": [
        {
          "output_type": "display_data",
          "data": {
            "text/html": [
              "<table class=\"dataframe\">\n",
              "<caption>A data.frame: 5 × 4</caption>\n",
              "<thead>\n",
              "\t<tr><th></th><th scope=col>Nom</th><th scope=col>Age</th><th scope=col>Note</th><th scope=col>Admission</th></tr>\n",
              "\t<tr><th></th><th scope=col>&lt;chr&gt;</th><th scope=col>&lt;dbl&gt;</th><th scope=col>&lt;dbl&gt;</th><th scope=col>&lt;chr&gt;</th></tr>\n",
              "</thead>\n",
              "<tbody>\n",
              "\t<tr><th scope=row>1</th><td>Alice </td><td>24</td><td>12</td><td>Admis</td></tr>\n",
              "\t<tr><th scope=row>2</th><td>Bob   </td><td>28</td><td>16</td><td>Admis</td></tr>\n",
              "\t<tr><th scope=row>3</th><td>Tom   </td><td>19</td><td>18</td><td>Admis</td></tr>\n",
              "\t<tr><th scope=row>4</th><td>Aline </td><td>32</td><td>15</td><td>Admis</td></tr>\n",
              "\t<tr><th scope=row>5</th><td>Sophie</td><td>25</td><td>17</td><td>Admis</td></tr>\n",
              "</tbody>\n",
              "</table>\n"
            ],
            "text/markdown": "\nA data.frame: 5 × 4\n\n| <!--/--> | Nom &lt;chr&gt; | Age &lt;dbl&gt; | Note &lt;dbl&gt; | Admission &lt;chr&gt; |\n|---|---|---|---|---|\n| 1 | Alice  | 24 | 12 | Admis |\n| 2 | Bob    | 28 | 16 | Admis |\n| 3 | Tom    | 19 | 18 | Admis |\n| 4 | Aline  | 32 | 15 | Admis |\n| 5 | Sophie | 25 | 17 | Admis |\n\n",
            "text/latex": "A data.frame: 5 × 4\n\\begin{tabular}{r|llll}\n  & Nom & Age & Note & Admission\\\\\n  & <chr> & <dbl> & <dbl> & <chr>\\\\\n\\hline\n\t1 & Alice  & 24 & 12 & Admis\\\\\n\t2 & Bob    & 28 & 16 & Admis\\\\\n\t3 & Tom    & 19 & 18 & Admis\\\\\n\t4 & Aline  & 32 & 15 & Admis\\\\\n\t5 & Sophie & 25 & 17 & Admis\\\\\n\\end{tabular}\n",
            "text/plain": [
              "  Nom    Age Note Admission\n",
              "1 Alice  24  12   Admis    \n",
              "2 Bob    28  16   Admis    \n",
              "3 Tom    19  18   Admis    \n",
              "4 Aline  32  15   Admis    \n",
              "5 Sophie 25  17   Admis    "
            ]
          },
          "metadata": {}
        }
      ]
    }
  ]
}